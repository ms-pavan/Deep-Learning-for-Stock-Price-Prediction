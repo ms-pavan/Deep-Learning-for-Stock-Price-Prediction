{
 "cells": [
  {
   "cell_type": "code",
   "execution_count": 1,
   "metadata": {
    "colab": {
     "base_uri": "https://localhost:8080/",
     "height": 34
    },
    "colab_type": "code",
    "id": "S7sHoQ5tkX6m",
    "outputId": "5d4f4a9e-0f3e-4133-8045-43a06abcf559"
   },
   "outputs": [
    {
     "name": "stderr",
     "output_type": "stream",
     "text": [
      "Using TensorFlow backend.\n"
     ]
    }
   ],
   "source": [
    "import pandas as pd\n",
    "from keras.layers import Bidirectional, GlobalMaxPool1D, MaxPooling1D, Add, Flatten"
   ]
  },
  {
   "cell_type": "code",
   "execution_count": 0,
   "metadata": {
    "colab": {},
    "colab_type": "code",
    "id": "dMOFX_XIklMI"
   },
   "outputs": [],
   "source": [
    "#load daily stocks data of google from August 2004 to November 2018\n",
    "data=pd.read_csv(\"..data/daily_GOOGL.csv\")\n",
    "data.head()"
   ]
  },
  {
   "cell_type": "code",
   "execution_count": 5,
   "metadata": {
    "colab": {
     "base_uri": "https://localhost:8080/",
     "height": 204
    },
    "colab_type": "code",
    "id": "8OzqABHmksvs",
    "outputId": "630436b3-aaa5-4788-8904-63d5d5c17465"
   },
   "outputs": [
    {
     "data": {
      "text/html": [
       "<div>\n",
       "<style scoped>\n",
       "    .dataframe tbody tr th:only-of-type {\n",
       "        vertical-align: middle;\n",
       "    }\n",
       "\n",
       "    .dataframe tbody tr th {\n",
       "        vertical-align: top;\n",
       "    }\n",
       "\n",
       "    .dataframe thead th {\n",
       "        text-align: right;\n",
       "    }\n",
       "</style>\n",
       "<table border=\"1\" class=\"dataframe\">\n",
       "  <thead>\n",
       "    <tr style=\"text-align: right;\">\n",
       "      <th></th>\n",
       "      <th>timestamp</th>\n",
       "      <th>open</th>\n",
       "      <th>high</th>\n",
       "      <th>low</th>\n",
       "      <th>close</th>\n",
       "      <th>volume</th>\n",
       "    </tr>\n",
       "  </thead>\n",
       "  <tbody>\n",
       "    <tr>\n",
       "      <th>0</th>\n",
       "      <td>2018-11-02</td>\n",
       "      <td>1089.00</td>\n",
       "      <td>1098.00</td>\n",
       "      <td>1067.66</td>\n",
       "      <td>1071.49</td>\n",
       "      <td>2172215</td>\n",
       "    </tr>\n",
       "    <tr>\n",
       "      <th>1</th>\n",
       "      <td>2018-11-01</td>\n",
       "      <td>1091.40</td>\n",
       "      <td>1099.90</td>\n",
       "      <td>1077.82</td>\n",
       "      <td>1085.98</td>\n",
       "      <td>2006575</td>\n",
       "    </tr>\n",
       "    <tr>\n",
       "      <th>2</th>\n",
       "      <td>2018-10-31</td>\n",
       "      <td>1068.20</td>\n",
       "      <td>1108.00</td>\n",
       "      <td>1068.20</td>\n",
       "      <td>1090.58</td>\n",
       "      <td>3545821</td>\n",
       "    </tr>\n",
       "    <tr>\n",
       "      <th>3</th>\n",
       "      <td>2018-10-30</td>\n",
       "      <td>1020.01</td>\n",
       "      <td>1050.90</td>\n",
       "      <td>1013.97</td>\n",
       "      <td>1049.51</td>\n",
       "      <td>2988418</td>\n",
       "    </tr>\n",
       "    <tr>\n",
       "      <th>4</th>\n",
       "      <td>2018-10-29</td>\n",
       "      <td>1096.54</td>\n",
       "      <td>1108.83</td>\n",
       "      <td>1007.20</td>\n",
       "      <td>1034.73</td>\n",
       "      <td>4064452</td>\n",
       "    </tr>\n",
       "  </tbody>\n",
       "</table>\n",
       "</div>"
      ],
      "text/plain": [
       "    timestamp     open     high      low    close   volume\n",
       "0  2018-11-02  1089.00  1098.00  1067.66  1071.49  2172215\n",
       "1  2018-11-01  1091.40  1099.90  1077.82  1085.98  2006575\n",
       "2  2018-10-31  1068.20  1108.00  1068.20  1090.58  3545821\n",
       "3  2018-10-30  1020.01  1050.90  1013.97  1049.51  2988418\n",
       "4  2018-10-29  1096.54  1108.83  1007.20  1034.73  4064452"
      ]
     },
     "execution_count": 5,
     "metadata": {
      "tags": []
     },
     "output_type": "execute_result"
    }
   ],
   "source": [
    "data.head()"
   ]
  },
  {
   "cell_type": "code",
   "execution_count": 6,
   "metadata": {
    "colab": {
     "base_uri": "https://localhost:8080/",
     "height": 204
    },
    "colab_type": "code",
    "id": "CAyBLd1FkuVQ",
    "outputId": "096fa746-5149-43a6-9763-8ef41efbd4bc"
   },
   "outputs": [
    {
     "data": {
      "text/html": [
       "<div>\n",
       "<style scoped>\n",
       "    .dataframe tbody tr th:only-of-type {\n",
       "        vertical-align: middle;\n",
       "    }\n",
       "\n",
       "    .dataframe tbody tr th {\n",
       "        vertical-align: top;\n",
       "    }\n",
       "\n",
       "    .dataframe thead th {\n",
       "        text-align: right;\n",
       "    }\n",
       "</style>\n",
       "<table border=\"1\" class=\"dataframe\">\n",
       "  <thead>\n",
       "    <tr style=\"text-align: right;\">\n",
       "      <th></th>\n",
       "      <th>timestamp</th>\n",
       "      <th>open</th>\n",
       "      <th>high</th>\n",
       "      <th>low</th>\n",
       "      <th>close</th>\n",
       "      <th>volume</th>\n",
       "    </tr>\n",
       "  </thead>\n",
       "  <tbody>\n",
       "    <tr>\n",
       "      <th>3574</th>\n",
       "      <td>2004-08-25</td>\n",
       "      <td>104.76</td>\n",
       "      <td>108.00</td>\n",
       "      <td>103.88</td>\n",
       "      <td>106.000</td>\n",
       "      <td>9188600</td>\n",
       "    </tr>\n",
       "    <tr>\n",
       "      <th>3575</th>\n",
       "      <td>2004-08-24</td>\n",
       "      <td>111.24</td>\n",
       "      <td>111.60</td>\n",
       "      <td>103.57</td>\n",
       "      <td>104.870</td>\n",
       "      <td>15247300</td>\n",
       "    </tr>\n",
       "    <tr>\n",
       "      <th>3576</th>\n",
       "      <td>2004-08-23</td>\n",
       "      <td>110.76</td>\n",
       "      <td>113.48</td>\n",
       "      <td>109.05</td>\n",
       "      <td>109.400</td>\n",
       "      <td>18256100</td>\n",
       "    </tr>\n",
       "    <tr>\n",
       "      <th>3577</th>\n",
       "      <td>2004-08-20</td>\n",
       "      <td>101.01</td>\n",
       "      <td>109.08</td>\n",
       "      <td>100.50</td>\n",
       "      <td>108.310</td>\n",
       "      <td>22834300</td>\n",
       "    </tr>\n",
       "    <tr>\n",
       "      <th>3578</th>\n",
       "      <td>2004-08-19</td>\n",
       "      <td>100.01</td>\n",
       "      <td>104.06</td>\n",
       "      <td>95.96</td>\n",
       "      <td>100.335</td>\n",
       "      <td>44659000</td>\n",
       "    </tr>\n",
       "  </tbody>\n",
       "</table>\n",
       "</div>"
      ],
      "text/plain": [
       "       timestamp    open    high     low    close    volume\n",
       "3574  2004-08-25  104.76  108.00  103.88  106.000   9188600\n",
       "3575  2004-08-24  111.24  111.60  103.57  104.870  15247300\n",
       "3576  2004-08-23  110.76  113.48  109.05  109.400  18256100\n",
       "3577  2004-08-20  101.01  109.08  100.50  108.310  22834300\n",
       "3578  2004-08-19  100.01  104.06   95.96  100.335  44659000"
      ]
     },
     "execution_count": 6,
     "metadata": {
      "tags": []
     },
     "output_type": "execute_result"
    }
   ],
   "source": [
    "data.tail()"
   ]
  },
  {
   "cell_type": "code",
   "execution_count": 0,
   "metadata": {
    "colab": {},
    "colab_type": "code",
    "id": "rJhypXnqkwTO"
   },
   "outputs": [],
   "source": [
    "#considering google stocks data from 2013\n",
    "data=data[data.iloc[:,0]>='2013-01-01']"
   ]
  },
  {
   "cell_type": "code",
   "execution_count": 8,
   "metadata": {
    "colab": {
     "base_uri": "https://localhost:8080/",
     "height": 204
    },
    "colab_type": "code",
    "id": "kMUjk0-5lO6E",
    "outputId": "7afb4a1b-de99-439d-f126-ab8d353770f7"
   },
   "outputs": [
    {
     "data": {
      "text/html": [
       "<div>\n",
       "<style scoped>\n",
       "    .dataframe tbody tr th:only-of-type {\n",
       "        vertical-align: middle;\n",
       "    }\n",
       "\n",
       "    .dataframe tbody tr th {\n",
       "        vertical-align: top;\n",
       "    }\n",
       "\n",
       "    .dataframe thead th {\n",
       "        text-align: right;\n",
       "    }\n",
       "</style>\n",
       "<table border=\"1\" class=\"dataframe\">\n",
       "  <thead>\n",
       "    <tr style=\"text-align: right;\">\n",
       "      <th></th>\n",
       "      <th>timestamp</th>\n",
       "      <th>open</th>\n",
       "      <th>high</th>\n",
       "      <th>low</th>\n",
       "      <th>close</th>\n",
       "      <th>volume</th>\n",
       "    </tr>\n",
       "  </thead>\n",
       "  <tbody>\n",
       "    <tr>\n",
       "      <th>1467</th>\n",
       "      <td>2013-01-08</td>\n",
       "      <td>735.54</td>\n",
       "      <td>736.2999</td>\n",
       "      <td>724.4300</td>\n",
       "      <td>733.30</td>\n",
       "      <td>3348800</td>\n",
       "    </tr>\n",
       "    <tr>\n",
       "      <th>1468</th>\n",
       "      <td>2013-01-07</td>\n",
       "      <td>735.45</td>\n",
       "      <td>739.3800</td>\n",
       "      <td>730.5800</td>\n",
       "      <td>734.75</td>\n",
       "      <td>3308000</td>\n",
       "    </tr>\n",
       "    <tr>\n",
       "      <th>1469</th>\n",
       "      <td>2013-01-04</td>\n",
       "      <td>729.34</td>\n",
       "      <td>741.4700</td>\n",
       "      <td>727.6801</td>\n",
       "      <td>737.97</td>\n",
       "      <td>5521400</td>\n",
       "    </tr>\n",
       "    <tr>\n",
       "      <th>1470</th>\n",
       "      <td>2013-01-03</td>\n",
       "      <td>724.93</td>\n",
       "      <td>731.9300</td>\n",
       "      <td>720.7200</td>\n",
       "      <td>723.67</td>\n",
       "      <td>4631700</td>\n",
       "    </tr>\n",
       "    <tr>\n",
       "      <th>1471</th>\n",
       "      <td>2013-01-02</td>\n",
       "      <td>719.42</td>\n",
       "      <td>727.0000</td>\n",
       "      <td>716.5500</td>\n",
       "      <td>723.25</td>\n",
       "      <td>5077500</td>\n",
       "    </tr>\n",
       "  </tbody>\n",
       "</table>\n",
       "</div>"
      ],
      "text/plain": [
       "       timestamp    open      high       low   close   volume\n",
       "1467  2013-01-08  735.54  736.2999  724.4300  733.30  3348800\n",
       "1468  2013-01-07  735.45  739.3800  730.5800  734.75  3308000\n",
       "1469  2013-01-04  729.34  741.4700  727.6801  737.97  5521400\n",
       "1470  2013-01-03  724.93  731.9300  720.7200  723.67  4631700\n",
       "1471  2013-01-02  719.42  727.0000  716.5500  723.25  5077500"
      ]
     },
     "execution_count": 8,
     "metadata": {
      "tags": []
     },
     "output_type": "execute_result"
    }
   ],
   "source": [
    "data.tail()"
   ]
  },
  {
   "cell_type": "code",
   "execution_count": 9,
   "metadata": {
    "colab": {
     "base_uri": "https://localhost:8080/",
     "height": 204
    },
    "colab_type": "code",
    "id": "ZptdYukJmB1W",
    "outputId": "dbd53827-14cf-4de4-c8b5-281a798428cb"
   },
   "outputs": [
    {
     "data": {
      "text/html": [
       "<div>\n",
       "<style scoped>\n",
       "    .dataframe tbody tr th:only-of-type {\n",
       "        vertical-align: middle;\n",
       "    }\n",
       "\n",
       "    .dataframe tbody tr th {\n",
       "        vertical-align: top;\n",
       "    }\n",
       "\n",
       "    .dataframe thead th {\n",
       "        text-align: right;\n",
       "    }\n",
       "</style>\n",
       "<table border=\"1\" class=\"dataframe\">\n",
       "  <thead>\n",
       "    <tr style=\"text-align: right;\">\n",
       "      <th></th>\n",
       "      <th>timestamp</th>\n",
       "      <th>open</th>\n",
       "      <th>high</th>\n",
       "      <th>low</th>\n",
       "      <th>close</th>\n",
       "      <th>volume</th>\n",
       "    </tr>\n",
       "  </thead>\n",
       "  <tbody>\n",
       "    <tr>\n",
       "      <th>0</th>\n",
       "      <td>2018-11-02</td>\n",
       "      <td>1089.00</td>\n",
       "      <td>1098.00</td>\n",
       "      <td>1067.66</td>\n",
       "      <td>1071.49</td>\n",
       "      <td>2172215</td>\n",
       "    </tr>\n",
       "    <tr>\n",
       "      <th>1</th>\n",
       "      <td>2018-11-01</td>\n",
       "      <td>1091.40</td>\n",
       "      <td>1099.90</td>\n",
       "      <td>1077.82</td>\n",
       "      <td>1085.98</td>\n",
       "      <td>2006575</td>\n",
       "    </tr>\n",
       "    <tr>\n",
       "      <th>2</th>\n",
       "      <td>2018-10-31</td>\n",
       "      <td>1068.20</td>\n",
       "      <td>1108.00</td>\n",
       "      <td>1068.20</td>\n",
       "      <td>1090.58</td>\n",
       "      <td>3545821</td>\n",
       "    </tr>\n",
       "    <tr>\n",
       "      <th>3</th>\n",
       "      <td>2018-10-30</td>\n",
       "      <td>1020.01</td>\n",
       "      <td>1050.90</td>\n",
       "      <td>1013.97</td>\n",
       "      <td>1049.51</td>\n",
       "      <td>2988418</td>\n",
       "    </tr>\n",
       "    <tr>\n",
       "      <th>4</th>\n",
       "      <td>2018-10-29</td>\n",
       "      <td>1096.54</td>\n",
       "      <td>1108.83</td>\n",
       "      <td>1007.20</td>\n",
       "      <td>1034.73</td>\n",
       "      <td>4064452</td>\n",
       "    </tr>\n",
       "  </tbody>\n",
       "</table>\n",
       "</div>"
      ],
      "text/plain": [
       "    timestamp     open     high      low    close   volume\n",
       "0  2018-11-02  1089.00  1098.00  1067.66  1071.49  2172215\n",
       "1  2018-11-01  1091.40  1099.90  1077.82  1085.98  2006575\n",
       "2  2018-10-31  1068.20  1108.00  1068.20  1090.58  3545821\n",
       "3  2018-10-30  1020.01  1050.90  1013.97  1049.51  2988418\n",
       "4  2018-10-29  1096.54  1108.83  1007.20  1034.73  4064452"
      ]
     },
     "execution_count": 9,
     "metadata": {
      "tags": []
     },
     "output_type": "execute_result"
    }
   ],
   "source": [
    "data.head()"
   ]
  },
  {
   "cell_type": "code",
   "execution_count": 0,
   "metadata": {
    "colab": {},
    "colab_type": "code",
    "id": "ECs8pqKDmyHL"
   },
   "outputs": [],
   "source": [
    "#set training data from Jan 2013 to July 2018\n",
    "train_data=data[data.iloc[:,0]<'2018-08-01']\n",
    "train_data=train_data.iloc[::-1]"
   ]
  },
  {
   "cell_type": "code",
   "execution_count": 11,
   "metadata": {
    "colab": {
     "base_uri": "https://localhost:8080/",
     "height": 204
    },
    "colab_type": "code",
    "id": "egdiF0zMnJpZ",
    "outputId": "410d9874-da85-4a88-912c-8fc50c25cea2"
   },
   "outputs": [
    {
     "data": {
      "text/html": [
       "<div>\n",
       "<style scoped>\n",
       "    .dataframe tbody tr th:only-of-type {\n",
       "        vertical-align: middle;\n",
       "    }\n",
       "\n",
       "    .dataframe tbody tr th {\n",
       "        vertical-align: top;\n",
       "    }\n",
       "\n",
       "    .dataframe thead th {\n",
       "        text-align: right;\n",
       "    }\n",
       "</style>\n",
       "<table border=\"1\" class=\"dataframe\">\n",
       "  <thead>\n",
       "    <tr style=\"text-align: right;\">\n",
       "      <th></th>\n",
       "      <th>timestamp</th>\n",
       "      <th>open</th>\n",
       "      <th>high</th>\n",
       "      <th>low</th>\n",
       "      <th>close</th>\n",
       "      <th>volume</th>\n",
       "    </tr>\n",
       "  </thead>\n",
       "  <tbody>\n",
       "    <tr>\n",
       "      <th>1471</th>\n",
       "      <td>2013-01-02</td>\n",
       "      <td>719.42</td>\n",
       "      <td>727.0000</td>\n",
       "      <td>716.5500</td>\n",
       "      <td>723.25</td>\n",
       "      <td>5077500</td>\n",
       "    </tr>\n",
       "    <tr>\n",
       "      <th>1470</th>\n",
       "      <td>2013-01-03</td>\n",
       "      <td>724.93</td>\n",
       "      <td>731.9300</td>\n",
       "      <td>720.7200</td>\n",
       "      <td>723.67</td>\n",
       "      <td>4631700</td>\n",
       "    </tr>\n",
       "    <tr>\n",
       "      <th>1469</th>\n",
       "      <td>2013-01-04</td>\n",
       "      <td>729.34</td>\n",
       "      <td>741.4700</td>\n",
       "      <td>727.6801</td>\n",
       "      <td>737.97</td>\n",
       "      <td>5521400</td>\n",
       "    </tr>\n",
       "    <tr>\n",
       "      <th>1468</th>\n",
       "      <td>2013-01-07</td>\n",
       "      <td>735.45</td>\n",
       "      <td>739.3800</td>\n",
       "      <td>730.5800</td>\n",
       "      <td>734.75</td>\n",
       "      <td>3308000</td>\n",
       "    </tr>\n",
       "    <tr>\n",
       "      <th>1467</th>\n",
       "      <td>2013-01-08</td>\n",
       "      <td>735.54</td>\n",
       "      <td>736.2999</td>\n",
       "      <td>724.4300</td>\n",
       "      <td>733.30</td>\n",
       "      <td>3348800</td>\n",
       "    </tr>\n",
       "  </tbody>\n",
       "</table>\n",
       "</div>"
      ],
      "text/plain": [
       "       timestamp    open      high       low   close   volume\n",
       "1471  2013-01-02  719.42  727.0000  716.5500  723.25  5077500\n",
       "1470  2013-01-03  724.93  731.9300  720.7200  723.67  4631700\n",
       "1469  2013-01-04  729.34  741.4700  727.6801  737.97  5521400\n",
       "1468  2013-01-07  735.45  739.3800  730.5800  734.75  3308000\n",
       "1467  2013-01-08  735.54  736.2999  724.4300  733.30  3348800"
      ]
     },
     "execution_count": 11,
     "metadata": {
      "tags": []
     },
     "output_type": "execute_result"
    }
   ],
   "source": [
    "train_data.head()"
   ]
  },
  {
   "cell_type": "code",
   "execution_count": 12,
   "metadata": {
    "colab": {
     "base_uri": "https://localhost:8080/",
     "height": 204
    },
    "colab_type": "code",
    "id": "C57eNTPqnTXK",
    "outputId": "010a70cc-082c-4f62-f9a9-6cd9b2c7987e"
   },
   "outputs": [
    {
     "data": {
      "text/html": [
       "<div>\n",
       "<style scoped>\n",
       "    .dataframe tbody tr th:only-of-type {\n",
       "        vertical-align: middle;\n",
       "    }\n",
       "\n",
       "    .dataframe tbody tr th {\n",
       "        vertical-align: top;\n",
       "    }\n",
       "\n",
       "    .dataframe thead th {\n",
       "        text-align: right;\n",
       "    }\n",
       "</style>\n",
       "<table border=\"1\" class=\"dataframe\">\n",
       "  <thead>\n",
       "    <tr style=\"text-align: right;\">\n",
       "      <th></th>\n",
       "      <th>timestamp</th>\n",
       "      <th>open</th>\n",
       "      <th>high</th>\n",
       "      <th>low</th>\n",
       "      <th>close</th>\n",
       "      <th>volume</th>\n",
       "    </tr>\n",
       "  </thead>\n",
       "  <tbody>\n",
       "    <tr>\n",
       "      <th>71</th>\n",
       "      <td>2018-07-25</td>\n",
       "      <td>1252.62</td>\n",
       "      <td>1278.24</td>\n",
       "      <td>1249.05</td>\n",
       "      <td>1275.94</td>\n",
       "      <td>2575437</td>\n",
       "    </tr>\n",
       "    <tr>\n",
       "      <th>70</th>\n",
       "      <td>2018-07-26</td>\n",
       "      <td>1267.18</td>\n",
       "      <td>1287.40</td>\n",
       "      <td>1263.00</td>\n",
       "      <td>1285.50</td>\n",
       "      <td>2734302</td>\n",
       "    </tr>\n",
       "    <tr>\n",
       "      <th>69</th>\n",
       "      <td>2018-07-27</td>\n",
       "      <td>1289.12</td>\n",
       "      <td>1291.44</td>\n",
       "      <td>1244.49</td>\n",
       "      <td>1252.89</td>\n",
       "      <td>2418090</td>\n",
       "    </tr>\n",
       "    <tr>\n",
       "      <th>68</th>\n",
       "      <td>2018-07-30</td>\n",
       "      <td>1245.05</td>\n",
       "      <td>1252.89</td>\n",
       "      <td>1224.17</td>\n",
       "      <td>1230.04</td>\n",
       "      <td>2194837</td>\n",
       "    </tr>\n",
       "    <tr>\n",
       "      <th>67</th>\n",
       "      <td>2018-07-31</td>\n",
       "      <td>1231.71</td>\n",
       "      <td>1241.21</td>\n",
       "      <td>1216.19</td>\n",
       "      <td>1227.22</td>\n",
       "      <td>1969111</td>\n",
       "    </tr>\n",
       "  </tbody>\n",
       "</table>\n",
       "</div>"
      ],
      "text/plain": [
       "     timestamp     open     high      low    close   volume\n",
       "71  2018-07-25  1252.62  1278.24  1249.05  1275.94  2575437\n",
       "70  2018-07-26  1267.18  1287.40  1263.00  1285.50  2734302\n",
       "69  2018-07-27  1289.12  1291.44  1244.49  1252.89  2418090\n",
       "68  2018-07-30  1245.05  1252.89  1224.17  1230.04  2194837\n",
       "67  2018-07-31  1231.71  1241.21  1216.19  1227.22  1969111"
      ]
     },
     "execution_count": 12,
     "metadata": {
      "tags": []
     },
     "output_type": "execute_result"
    }
   ],
   "source": [
    "train_data.tail()"
   ]
  },
  {
   "cell_type": "code",
   "execution_count": 13,
   "metadata": {
    "colab": {
     "base_uri": "https://localhost:8080/",
     "height": 34
    },
    "colab_type": "code",
    "id": "dd9vx9ImnW6T",
    "outputId": "84c1e323-84e1-4e8c-9f56-77defd474914"
   },
   "outputs": [
    {
     "data": {
      "text/plain": [
       "(1405, 6)"
      ]
     },
     "execution_count": 13,
     "metadata": {
      "tags": []
     },
     "output_type": "execute_result"
    }
   ],
   "source": [
    "train_data.shape"
   ]
  },
  {
   "cell_type": "code",
   "execution_count": 0,
   "metadata": {
    "colab": {},
    "colab_type": "code",
    "id": "op-3zi8RnaLN"
   },
   "outputs": [],
   "source": [
    "#test data from August 2018 to November 2019\n",
    "test_data=data[data.iloc[:,0]>='2018-08-01']"
   ]
  },
  {
   "cell_type": "code",
   "execution_count": 15,
   "metadata": {
    "colab": {
     "base_uri": "https://localhost:8080/",
     "height": 204
    },
    "colab_type": "code",
    "id": "lFyN8fhInihV",
    "outputId": "6f3262fb-a0b3-47b1-abe4-dfc0a4f7593c"
   },
   "outputs": [
    {
     "data": {
      "text/html": [
       "<div>\n",
       "<style scoped>\n",
       "    .dataframe tbody tr th:only-of-type {\n",
       "        vertical-align: middle;\n",
       "    }\n",
       "\n",
       "    .dataframe tbody tr th {\n",
       "        vertical-align: top;\n",
       "    }\n",
       "\n",
       "    .dataframe thead th {\n",
       "        text-align: right;\n",
       "    }\n",
       "</style>\n",
       "<table border=\"1\" class=\"dataframe\">\n",
       "  <thead>\n",
       "    <tr style=\"text-align: right;\">\n",
       "      <th></th>\n",
       "      <th>timestamp</th>\n",
       "      <th>open</th>\n",
       "      <th>high</th>\n",
       "      <th>low</th>\n",
       "      <th>close</th>\n",
       "      <th>volume</th>\n",
       "    </tr>\n",
       "  </thead>\n",
       "  <tbody>\n",
       "    <tr>\n",
       "      <th>4</th>\n",
       "      <td>2018-10-29</td>\n",
       "      <td>1096.54</td>\n",
       "      <td>1108.83</td>\n",
       "      <td>1007.20</td>\n",
       "      <td>1034.73</td>\n",
       "      <td>4064452</td>\n",
       "    </tr>\n",
       "    <tr>\n",
       "      <th>3</th>\n",
       "      <td>2018-10-30</td>\n",
       "      <td>1020.01</td>\n",
       "      <td>1050.90</td>\n",
       "      <td>1013.97</td>\n",
       "      <td>1049.51</td>\n",
       "      <td>2988418</td>\n",
       "    </tr>\n",
       "    <tr>\n",
       "      <th>2</th>\n",
       "      <td>2018-10-31</td>\n",
       "      <td>1068.20</td>\n",
       "      <td>1108.00</td>\n",
       "      <td>1068.20</td>\n",
       "      <td>1090.58</td>\n",
       "      <td>3545821</td>\n",
       "    </tr>\n",
       "    <tr>\n",
       "      <th>1</th>\n",
       "      <td>2018-11-01</td>\n",
       "      <td>1091.40</td>\n",
       "      <td>1099.90</td>\n",
       "      <td>1077.82</td>\n",
       "      <td>1085.98</td>\n",
       "      <td>2006575</td>\n",
       "    </tr>\n",
       "    <tr>\n",
       "      <th>0</th>\n",
       "      <td>2018-11-02</td>\n",
       "      <td>1089.00</td>\n",
       "      <td>1098.00</td>\n",
       "      <td>1067.66</td>\n",
       "      <td>1071.49</td>\n",
       "      <td>2172215</td>\n",
       "    </tr>\n",
       "  </tbody>\n",
       "</table>\n",
       "</div>"
      ],
      "text/plain": [
       "    timestamp     open     high      low    close   volume\n",
       "4  2018-10-29  1096.54  1108.83  1007.20  1034.73  4064452\n",
       "3  2018-10-30  1020.01  1050.90  1013.97  1049.51  2988418\n",
       "2  2018-10-31  1068.20  1108.00  1068.20  1090.58  3545821\n",
       "1  2018-11-01  1091.40  1099.90  1077.82  1085.98  2006575\n",
       "0  2018-11-02  1089.00  1098.00  1067.66  1071.49  2172215"
      ]
     },
     "execution_count": 15,
     "metadata": {
      "tags": []
     },
     "output_type": "execute_result"
    }
   ],
   "source": [
    "test_data=test_data.iloc[::-1]\n",
    "test_data.tail()"
   ]
  },
  {
   "cell_type": "code",
   "execution_count": 0,
   "metadata": {
    "colab": {},
    "colab_type": "code",
    "id": "ACVDz_xKnjY9"
   },
   "outputs": [],
   "source": [
    "training_set = train_data.iloc[:, 1:2].values\n",
    "#training_set"
   ]
  },
  {
   "cell_type": "code",
   "execution_count": 0,
   "metadata": {
    "colab": {},
    "colab_type": "code",
    "id": "6awmX_w5QicT"
   },
   "outputs": [],
   "source": [
    "import numpy as np\n",
    "training_set=np.flipud(training_set) "
   ]
  },
  {
   "cell_type": "code",
   "execution_count": 0,
   "metadata": {
    "colab": {},
    "colab_type": "code",
    "id": "_MrpH8YooHdX"
   },
   "outputs": [],
   "source": [
    "real_stock_price = test_data.iloc[:, 1:2].values"
   ]
  },
  {
   "cell_type": "code",
   "execution_count": 19,
   "metadata": {
    "colab": {
     "base_uri": "https://localhost:8080/",
     "height": 1156
    },
    "colab_type": "code",
    "id": "mD93r6TConhM",
    "outputId": "41d8cc24-93a8-461f-a44c-2115072626e3"
   },
   "outputs": [
    {
     "data": {
      "text/plain": [
       "array([[1239.11],\n",
       "       [1218.5 ],\n",
       "       [1245.18],\n",
       "       [1241.61],\n",
       "       [1252.01],\n",
       "       [1256.72],\n",
       "       [1262.73],\n",
       "       [1259.18],\n",
       "       [1251.2 ],\n",
       "       [1252.5 ],\n",
       "       [1244.28],\n",
       "       [1241.99],\n",
       "       [1222.04],\n",
       "       [1220.66],\n",
       "       [1223.02],\n",
       "       [1214.22],\n",
       "       [1219.88],\n",
       "       [1226.  ],\n",
       "       [1244.14],\n",
       "       [1255.9 ],\n",
       "       [1255.  ],\n",
       "       [1263.4 ],\n",
       "       [1252.21],\n",
       "       [1222.52],\n",
       "       [1209.22],\n",
       "       [1198.57],\n",
       "       [1172.  ],\n",
       "       [1184.2 ],\n",
       "       [1171.1 ],\n",
       "       [1182.  ],\n",
       "       [1179.7 ],\n",
       "       [1188.  ],\n",
       "       [1177.77],\n",
       "       [1162.66],\n",
       "       [1168.96],\n",
       "       [1180.67],\n",
       "       [1194.92],\n",
       "       [1159.41],\n",
       "       [1184.25],\n",
       "       [1193.69],\n",
       "       [1200.  ],\n",
       "       [1204.09],\n",
       "       [1213.  ],\n",
       "       [1206.67],\n",
       "       [1212.  ],\n",
       "       [1205.03],\n",
       "       [1176.  ],\n",
       "       [1160.  ],\n",
       "       [1151.31],\n",
       "       [1136.4 ],\n",
       "       [1079.04],\n",
       "       [1119.64],\n",
       "       [1118.  ],\n",
       "       [1113.48],\n",
       "       [1140.  ],\n",
       "       [1130.  ],\n",
       "       [1103.71],\n",
       "       [1112.51],\n",
       "       [1091.29],\n",
       "       [1115.  ],\n",
       "       [1080.3 ],\n",
       "       [1048.33],\n",
       "       [1096.54],\n",
       "       [1020.01],\n",
       "       [1068.2 ],\n",
       "       [1091.4 ],\n",
       "       [1089.  ]])"
      ]
     },
     "execution_count": 19,
     "metadata": {
      "tags": []
     },
     "output_type": "execute_result"
    }
   ],
   "source": [
    "real_stock_price\n",
    "#real_stock_price=np.flipud(real_stock_price)"
   ]
  },
  {
   "cell_type": "code",
   "execution_count": 0,
   "metadata": {
    "colab": {},
    "colab_type": "code",
    "id": "yyWElzzZophx"
   },
   "outputs": [],
   "source": [
    "from sklearn.preprocessing import MinMaxScaler\n",
    "sc = MinMaxScaler(feature_range = (0, 1))\n",
    "training_set_scaled = sc.fit_transform(training_set)"
   ]
  },
  {
   "cell_type": "code",
   "execution_count": 21,
   "metadata": {
    "colab": {
     "base_uri": "https://localhost:8080/",
     "height": 34
    },
    "colab_type": "code",
    "id": "fbMaG0IDpLsf",
    "outputId": "cb11d8a2-9b19-48c6-b737-071465b233f4"
   },
   "outputs": [
    {
     "data": {
      "text/plain": [
       "(1405, 1)"
      ]
     },
     "execution_count": 21,
     "metadata": {
      "tags": []
     },
     "output_type": "execute_result"
    }
   ],
   "source": [
    "training_set_scaled.shape"
   ]
  },
  {
   "cell_type": "code",
   "execution_count": 0,
   "metadata": {
    "colab": {},
    "colab_type": "code",
    "id": "gLGRZ89OpNrN"
   },
   "outputs": [],
   "source": [
    "import numpy as np\n",
    "X_train = []\n",
    "y_train = []\n",
    "for i in range(60, 1405):\n",
    "    X_train.append(training_set_scaled[i-60:i, 0])\n",
    "    y_train.append(training_set_scaled[i, 0])\n",
    "X_train, y_train = np.array(X_train), np.array(y_train)"
   ]
  },
  {
   "cell_type": "code",
   "execution_count": 23,
   "metadata": {
    "colab": {
     "base_uri": "https://localhost:8080/",
     "height": 136
    },
    "colab_type": "code",
    "id": "YyV4CgybpQQl",
    "outputId": "19beec52-a51d-4524-e04a-b8115c7bdeda"
   },
   "outputs": [
    {
     "name": "stdout",
     "output_type": "stream",
     "text": [
      "[[0.92731807 0.94420671 1.         ... 0.71512128 0.71577961 0.70219527]\n",
      " [0.94420671 1.         0.97222363 ... 0.71577961 0.70219527 0.65879627]\n",
      " [1.         0.97222363 0.95379045 ... 0.70219527 0.65879627 0.66608852]\n",
      " ...\n",
      " [0.39780726 0.38651441 0.37444928 ... 0.2950195  0.29915937 0.29904542]\n",
      " [0.38651441 0.37444928 0.3858181  ... 0.29915937 0.29904542 0.29131007]\n",
      " [0.37444928 0.3858181  0.38922368 ... 0.29904542 0.29131007 0.28572695]]\n"
     ]
    }
   ],
   "source": [
    "print(X_train)"
   ]
  },
  {
   "cell_type": "code",
   "execution_count": 24,
   "metadata": {
    "colab": {
     "base_uri": "https://localhost:8080/",
     "height": 34
    },
    "colab_type": "code",
    "id": "dNvE7i--pVpb",
    "outputId": "71a981ad-d830-47e9-b783-9c4bf6d5a6d2"
   },
   "outputs": [
    {
     "name": "stdout",
     "output_type": "stream",
     "text": [
      "[0.65879627 0.66608852 0.67701423 ... 0.29131007 0.28572695 0.2787512 ]\n"
     ]
    }
   ],
   "source": [
    "print(y_train)"
   ]
  },
  {
   "cell_type": "code",
   "execution_count": 0,
   "metadata": {
    "colab": {},
    "colab_type": "code",
    "id": "3bXtKgIOpYDL"
   },
   "outputs": [],
   "source": [
    "X_train = np.reshape(X_train, (X_train.shape[0], X_train.shape[1], 1))"
   ]
  },
  {
   "cell_type": "code",
   "execution_count": 26,
   "metadata": {
    "colab": {
     "base_uri": "https://localhost:8080/",
     "height": 34
    },
    "colab_type": "code",
    "id": "_0y5qOJUpazD",
    "outputId": "21c597c2-c6d9-4b28-9a27-322b2b28ebb2"
   },
   "outputs": [
    {
     "data": {
      "text/plain": [
       "(1345, 60, 1)"
      ]
     },
     "execution_count": 26,
     "metadata": {
      "tags": []
     },
     "output_type": "execute_result"
    }
   ],
   "source": [
    "\n",
    "X_train.shape"
   ]
  },
  {
   "cell_type": "code",
   "execution_count": 0,
   "metadata": {
    "colab": {},
    "colab_type": "code",
    "id": "99gifmnMpcD3"
   },
   "outputs": [],
   "source": [
    "from keras.models import Sequential\n",
    "from keras.layers import Dense\n",
    "from keras.layers import LSTM,GRU\n",
    "from keras.layers import Dropout\n",
    "from keras.models import Sequential\n",
    "from keras.layers.core import Dense, Dropout, Activation, Flatten\n",
    "from keras.layers.recurrent import LSTM, GRU\n",
    "from keras.layers import Convolution1D, MaxPooling1D, AtrousConvolution1D, RepeatVector\n",
    "from keras.callbacks import ModelCheckpoint, ReduceLROnPlateau, CSVLogger\n",
    "from keras.layers.wrappers import Bidirectional\n",
    "from keras import regularizers\n",
    "from keras.layers.normalization import BatchNormalization\n",
    "from keras.layers.advanced_activations import *\n",
    "from keras.optimizers import RMSprop, Adam, SGD, Nadam\n",
    "from keras.initializers import *\n",
    "from keras.layers import Dense, Input, LSTM, Embedding, Dropout, Activation, Conv1D, GRU, CuDNNGRU, CuDNNLSTM, BatchNormalization\n",
    "from keras.layers import Bidirectional, GlobalMaxPool1D, MaxPooling1D, Add, Flatten\n",
    "from keras.layers import GlobalAveragePooling1D, GlobalMaxPooling1D, concatenate, SpatialDropout1D"
   ]
  },
  {
   "cell_type": "code",
   "execution_count": 28,
   "metadata": {
    "colab": {
     "base_uri": "https://localhost:8080/",
     "height": 34
    },
    "colab_type": "code",
    "id": "GxERB11sUPzj",
    "outputId": "68979d95-e8fd-4c6b-ce6e-de110ca6a7a0"
   },
   "outputs": [
    {
     "data": {
      "text/plain": [
       "60"
      ]
     },
     "execution_count": 28,
     "metadata": {
      "tags": []
     },
     "output_type": "execute_result"
    }
   ],
   "source": [
    "X_train.shape[1]"
   ]
  },
  {
   "cell_type": "code",
   "execution_count": 0,
   "metadata": {
    "colab": {},
    "colab_type": "code",
    "id": "MTczkD62pyKN"
   },
   "outputs": [],
   "source": [
    "regressor = Sequential()"
   ]
  },
  {
   "cell_type": "code",
   "execution_count": 30,
   "metadata": {
    "colab": {
     "base_uri": "https://localhost:8080/",
     "height": 122
    },
    "colab_type": "code",
    "id": "ZJ2yvSb-ycD0",
    "outputId": "7bea5bbc-122b-435e-e555-a9b3138c5370"
   },
   "outputs": [
    {
     "name": "stderr",
     "output_type": "stream",
     "text": [
      "/usr/local/lib/python3.6/dist-packages/ipykernel_launcher.py:4: UserWarning: Update your `Conv1D` call to the Keras 2 API: `Conv1D(input_shape=(60, 1), filters=16, kernel_size=60, padding=\"same\")`\n",
      "  after removing the cwd from sys.path.\n",
      "/usr/local/lib/python3.6/dist-packages/ipykernel_launcher.py:11: UserWarning: Update your `Conv1D` call to the Keras 2 API: `Conv1D(filters=16, kernel_size=8, padding=\"same\")`\n",
      "  # This is added back by InteractiveShellApp.init_path()\n",
      "/usr/local/lib/python3.6/dist-packages/ipykernel_launcher.py:18: UserWarning: Update your `Conv1D` call to the Keras 2 API: `Conv1D(filters=8, kernel_size=4, padding=\"same\")`\n"
     ]
    }
   ],
   "source": [
    "regressor.add(Convolution1D(input_shape = (60, 1),\n",
    "nb_filter=16,\n",
    "filter_length=60,\n",
    "border_mode=\"same\"))\n",
    "#regressor.add(BatchNormalization())\n",
    "regressor.add(LeakyReLU())\n",
    "regressor.add(Dropout(0.1))\n",
    "\n",
    "regressor.add(Convolution1D(nb_filter=16,\n",
    "filter_length=8,\n",
    "border_mode=\"same\"))\n",
    "#regressor.add(BatchNormalization())\n",
    "regressor.add(LeakyReLU())\n",
    "regressor.add(Dropout(0.1))\n",
    "\n",
    "regressor.add(Convolution1D(nb_filter=8,\n",
    "filter_length=4,\n",
    "border_mode=\"same\"))\n",
    "#regressor.add(BatchNormalization())\n",
    "regressor.add(LeakyReLU())\n",
    "regressor.add(Dropout(0.1))\n",
    "\n",
    "\n",
    "\n",
    "regressor.add(MaxPooling1D(pool_size=2))\n",
    "\n",
    "regressor.add(LSTM(150,return_sequences=True))\n",
    "regressor.add(Dropout(0.1))\n",
    "\n",
    "\n",
    "regressor.add(LSTM(150))\n",
    "#regressor.add(BatchNormalization())\n",
    "regressor.add(LeakyReLU())\n",
    "regressor.add(Dropout(0.1))\n",
    "\n",
    "\n",
    "\n",
    " \n",
    "regressor.add(Dense(128))\n",
    "#regressor.add(BatchNormalization())\n",
    "regressor.add(LeakyReLU())\n",
    "regressor.add(Dropout(0.2))\n",
    "\n",
    "regressor.add(Dense(64))\n",
    "#regressor.add(BatchNormalization())\n",
    "regressor.add(LeakyReLU())\n",
    "regressor.add(Dropout(0.2))\n",
    " \n",
    "\n",
    "regressor.add(Dense(64))\n",
    "#regressor.add(BatchNormalization())\n",
    "regressor.add(LeakyReLU())\n",
    "regressor.add(Dropout(0.2))\n",
    "\n",
    "\n",
    "\n",
    "regressor.add(Dense(1))\n",
    "regressor.add(Activation('tanh'))"
   ]
  },
  {
   "cell_type": "code",
   "execution_count": 0,
   "metadata": {
    "colab": {},
    "colab_type": "code",
    "id": "jAdjBgN1qAYD"
   },
   "outputs": [],
   "source": [
    "\n",
    "regressor.compile(optimizer = 'adam', loss = 'mean_squared_error')"
   ]
  },
  {
   "cell_type": "code",
   "execution_count": 38,
   "metadata": {
    "colab": {
     "base_uri": "https://localhost:8080/",
     "height": 3434
    },
    "colab_type": "code",
    "id": "1uwhJZsFqDGd",
    "outputId": "862a48dd-e41e-4c8b-9324-4a4a929176a3"
   },
   "outputs": [
    {
     "name": "stdout",
     "output_type": "stream",
     "text": [
      "Epoch 1/100\n",
      "1345/1345 [==============================] - 13s 9ms/step - loss: 0.0447\n",
      "Epoch 2/100\n",
      "1345/1345 [==============================] - 8s 6ms/step - loss: 0.0112\n",
      "Epoch 3/100\n",
      "1345/1345 [==============================] - 8s 6ms/step - loss: 0.0068\n",
      "Epoch 4/100\n",
      "1345/1345 [==============================] - 8s 6ms/step - loss: 0.0051\n",
      "Epoch 5/100\n",
      "1345/1345 [==============================] - 8s 6ms/step - loss: 0.0073\n",
      "Epoch 6/100\n",
      "1345/1345 [==============================] - 8s 6ms/step - loss: 0.0052\n",
      "Epoch 7/100\n",
      "1345/1345 [==============================] - 8s 6ms/step - loss: 0.0038\n",
      "Epoch 8/100\n",
      "1345/1345 [==============================] - 8s 6ms/step - loss: 0.0039\n",
      "Epoch 9/100\n",
      "1345/1345 [==============================] - 8s 6ms/step - loss: 0.0039\n",
      "Epoch 10/100\n",
      "1345/1345 [==============================] - 8s 6ms/step - loss: 0.0036\n",
      "Epoch 11/100\n",
      "1345/1345 [==============================] - 8s 6ms/step - loss: 0.0033\n",
      "Epoch 12/100\n",
      "1345/1345 [==============================] - 8s 6ms/step - loss: 0.0032\n",
      "Epoch 13/100\n",
      "1345/1345 [==============================] - 8s 6ms/step - loss: 0.0029\n",
      "Epoch 14/100\n",
      "1345/1345 [==============================] - 8s 6ms/step - loss: 0.0030\n",
      "Epoch 15/100\n",
      "1345/1345 [==============================] - 9s 6ms/step - loss: 0.0028\n",
      "Epoch 16/100\n",
      "1345/1345 [==============================] - 9s 6ms/step - loss: 0.0032\n",
      "Epoch 17/100\n",
      "1345/1345 [==============================] - 8s 6ms/step - loss: 0.0029\n",
      "Epoch 18/100\n",
      "1345/1345 [==============================] - 8s 6ms/step - loss: 0.0028\n",
      "Epoch 19/100\n",
      "1345/1345 [==============================] - 8s 6ms/step - loss: 0.0027\n",
      "Epoch 20/100\n",
      "1345/1345 [==============================] - 8s 6ms/step - loss: 0.0038\n",
      "Epoch 21/100\n",
      "1345/1345 [==============================] - 8s 6ms/step - loss: 0.0031\n",
      "Epoch 22/100\n",
      "1345/1345 [==============================] - 8s 6ms/step - loss: 0.0029\n",
      "Epoch 23/100\n",
      "1345/1345 [==============================] - 8s 6ms/step - loss: 0.0032\n",
      "Epoch 24/100\n",
      "1345/1345 [==============================] - 9s 6ms/step - loss: 0.0026\n",
      "Epoch 25/100\n",
      "1345/1345 [==============================] - 8s 6ms/step - loss: 0.0026\n",
      "Epoch 26/100\n",
      "1345/1345 [==============================] - 8s 6ms/step - loss: 0.0024\n",
      "Epoch 27/100\n",
      "1345/1345 [==============================] - 8s 6ms/step - loss: 0.0028\n",
      "Epoch 28/100\n",
      "1345/1345 [==============================] - 9s 6ms/step - loss: 0.0025\n",
      "Epoch 29/100\n",
      "1345/1345 [==============================] - 8s 6ms/step - loss: 0.0024\n",
      "Epoch 30/100\n",
      "1345/1345 [==============================] - 8s 6ms/step - loss: 0.0024\n",
      "Epoch 31/100\n",
      "1345/1345 [==============================] - 8s 6ms/step - loss: 0.0026\n",
      "Epoch 32/100\n",
      "1345/1345 [==============================] - 8s 6ms/step - loss: 0.0025\n",
      "Epoch 33/100\n",
      "1345/1345 [==============================] - 8s 6ms/step - loss: 0.0028\n",
      "Epoch 34/100\n",
      "1345/1345 [==============================] - 9s 6ms/step - loss: 0.0024\n",
      "Epoch 35/100\n",
      "1345/1345 [==============================] - 8s 6ms/step - loss: 0.0023\n",
      "Epoch 36/100\n",
      "1345/1345 [==============================] - 8s 6ms/step - loss: 0.0022\n",
      "Epoch 37/100\n",
      "1345/1345 [==============================] - 8s 6ms/step - loss: 0.0023\n",
      "Epoch 38/100\n",
      "1345/1345 [==============================] - 8s 6ms/step - loss: 0.0022\n",
      "Epoch 39/100\n",
      "1345/1345 [==============================] - 8s 6ms/step - loss: 0.0021\n",
      "Epoch 40/100\n",
      "1345/1345 [==============================] - 8s 6ms/step - loss: 0.0023\n",
      "Epoch 41/100\n",
      "1345/1345 [==============================] - 8s 6ms/step - loss: 0.0023\n",
      "Epoch 42/100\n",
      "1345/1345 [==============================] - 8s 6ms/step - loss: 0.0022\n",
      "Epoch 43/100\n",
      "1345/1345 [==============================] - 8s 6ms/step - loss: 0.0019\n",
      "Epoch 44/100\n",
      "1345/1345 [==============================] - 8s 6ms/step - loss: 0.0019\n",
      "Epoch 45/100\n",
      "1345/1345 [==============================] - 8s 6ms/step - loss: 0.0021\n",
      "Epoch 46/100\n",
      "1345/1345 [==============================] - 8s 6ms/step - loss: 0.0022\n",
      "Epoch 47/100\n",
      "1345/1345 [==============================] - 8s 6ms/step - loss: 0.0022\n",
      "Epoch 48/100\n",
      "1345/1345 [==============================] - 8s 6ms/step - loss: 0.0020\n",
      "Epoch 49/100\n",
      "1345/1345 [==============================] - 8s 6ms/step - loss: 0.0022\n",
      "Epoch 50/100\n",
      "1345/1345 [==============================] - 8s 6ms/step - loss: 0.0022\n",
      "Epoch 51/100\n",
      "1345/1345 [==============================] - 8s 6ms/step - loss: 0.0019\n",
      "Epoch 52/100\n",
      "1345/1345 [==============================] - 9s 6ms/step - loss: 0.0021\n",
      "Epoch 53/100\n",
      "1345/1345 [==============================] - 9s 6ms/step - loss: 0.0020\n",
      "Epoch 54/100\n",
      "1345/1345 [==============================] - 8s 6ms/step - loss: 0.0019\n",
      "Epoch 55/100\n",
      "1345/1345 [==============================] - 8s 6ms/step - loss: 0.0021\n",
      "Epoch 56/100\n",
      "1345/1345 [==============================] - 8s 6ms/step - loss: 0.0019\n",
      "Epoch 57/100\n",
      "1345/1345 [==============================] - 8s 6ms/step - loss: 0.0018\n",
      "Epoch 58/100\n",
      "1345/1345 [==============================] - 8s 6ms/step - loss: 0.0018\n",
      "Epoch 59/100\n",
      "1345/1345 [==============================] - 8s 6ms/step - loss: 0.0021\n",
      "Epoch 60/100\n",
      "1345/1345 [==============================] - 9s 6ms/step - loss: 0.0020\n",
      "Epoch 61/100\n",
      "1345/1345 [==============================] - 8s 6ms/step - loss: 0.0021\n",
      "Epoch 62/100\n",
      "1345/1345 [==============================] - 8s 6ms/step - loss: 0.0019\n",
      "Epoch 63/100\n",
      "1345/1345 [==============================] - 8s 6ms/step - loss: 0.0020\n",
      "Epoch 64/100\n",
      "1345/1345 [==============================] - 8s 6ms/step - loss: 0.0017\n",
      "Epoch 65/100\n",
      "1345/1345 [==============================] - 8s 6ms/step - loss: 0.0022\n",
      "Epoch 66/100\n",
      "1345/1345 [==============================] - 8s 6ms/step - loss: 0.0021\n",
      "Epoch 67/100\n",
      "1345/1345 [==============================] - 8s 6ms/step - loss: 0.0025\n",
      "Epoch 68/100\n",
      "1345/1345 [==============================] - 8s 6ms/step - loss: 0.0017\n",
      "Epoch 69/100\n",
      "1345/1345 [==============================] - 8s 6ms/step - loss: 0.0019\n",
      "Epoch 70/100\n",
      "1345/1345 [==============================] - 8s 6ms/step - loss: 0.0019\n",
      "Epoch 71/100\n",
      "1345/1345 [==============================] - 8s 6ms/step - loss: 0.0020\n",
      "Epoch 72/100\n",
      "1345/1345 [==============================] - 8s 6ms/step - loss: 0.0022\n",
      "Epoch 73/100\n",
      "1345/1345 [==============================] - 8s 6ms/step - loss: 0.0021\n",
      "Epoch 74/100\n",
      "1345/1345 [==============================] - 8s 6ms/step - loss: 0.0017\n",
      "Epoch 75/100\n",
      "1345/1345 [==============================] - 9s 6ms/step - loss: 0.0020\n",
      "Epoch 76/100\n",
      "1345/1345 [==============================] - 8s 6ms/step - loss: 0.0017\n",
      "Epoch 77/100\n",
      "1345/1345 [==============================] - 8s 6ms/step - loss: 0.0020\n",
      "Epoch 78/100\n",
      "1345/1345 [==============================] - 8s 6ms/step - loss: 0.0018\n",
      "Epoch 79/100\n",
      "1345/1345 [==============================] - 8s 6ms/step - loss: 0.0021\n",
      "Epoch 80/100\n",
      "1345/1345 [==============================] - 8s 6ms/step - loss: 0.0020\n",
      "Epoch 81/100\n",
      "1345/1345 [==============================] - 8s 6ms/step - loss: 0.0018\n",
      "Epoch 82/100\n",
      "1345/1345 [==============================] - 8s 6ms/step - loss: 0.0019\n",
      "Epoch 83/100\n",
      "1345/1345 [==============================] - 8s 6ms/step - loss: 0.0019\n",
      "Epoch 84/100\n",
      "1345/1345 [==============================] - 8s 6ms/step - loss: 0.0016\n",
      "Epoch 85/100\n",
      "1345/1345 [==============================] - 8s 6ms/step - loss: 0.0017\n",
      "Epoch 86/100\n",
      "1345/1345 [==============================] - 8s 6ms/step - loss: 0.0018\n",
      "Epoch 87/100\n",
      "1345/1345 [==============================] - 8s 6ms/step - loss: 0.0017\n",
      "Epoch 88/100\n",
      "1345/1345 [==============================] - 8s 6ms/step - loss: 0.0017\n",
      "Epoch 89/100\n",
      "1345/1345 [==============================] - 9s 6ms/step - loss: 0.0021\n",
      "Epoch 90/100\n",
      "1345/1345 [==============================] - 9s 6ms/step - loss: 0.0018\n",
      "Epoch 91/100\n",
      "1345/1345 [==============================] - 8s 6ms/step - loss: 0.0017\n",
      "Epoch 92/100\n",
      "1345/1345 [==============================] - 8s 6ms/step - loss: 0.0019\n",
      "Epoch 93/100\n",
      "1345/1345 [==============================] - 8s 6ms/step - loss: 0.0019\n",
      "Epoch 94/100\n",
      "1345/1345 [==============================] - 8s 6ms/step - loss: 0.0016\n",
      "Epoch 95/100\n",
      "1345/1345 [==============================] - 8s 6ms/step - loss: 0.0018\n",
      "Epoch 96/100\n",
      "1345/1345 [==============================] - 8s 6ms/step - loss: 0.0018\n",
      "Epoch 97/100\n",
      "1345/1345 [==============================] - 4s 3ms/step - loss: 0.0016\n",
      "Epoch 98/100\n",
      "1345/1345 [==============================] - 4s 3ms/step - loss: 0.0016\n",
      "Epoch 99/100\n",
      "1345/1345 [==============================] - 4s 3ms/step - loss: 0.0017\n",
      "Epoch 100/100\n",
      "1345/1345 [==============================] - 4s 3ms/step - loss: 0.0018\n"
     ]
    },
    {
     "data": {
      "text/plain": [
       "<keras.callbacks.History at 0x7f552328ccc0>"
      ]
     },
     "execution_count": 38,
     "metadata": {
      "tags": []
     },
     "output_type": "execute_result"
    }
   ],
   "source": [
    "regressor.fit(X_train, y_train, epochs = 100, batch_size = 50)"
   ]
  },
  {
   "cell_type": "code",
   "execution_count": 0,
   "metadata": {
    "colab": {},
    "colab_type": "code",
    "id": "noE_4CaQqFeO"
   },
   "outputs": [],
   "source": [
    "import pandas as pd\n",
    "dataset_total = pd.concat((train_data['open'], test_data['open']), axis = 0)"
   ]
  },
  {
   "cell_type": "code",
   "execution_count": 0,
   "metadata": {
    "colab": {},
    "colab_type": "code",
    "id": "050Uc0DjunrT"
   },
   "outputs": [],
   "source": [
    "inputs = dataset_total[len(dataset_total) - len(test_data) - 60:].values\n",
    "inputs = inputs.reshape(-1,1)"
   ]
  },
  {
   "cell_type": "code",
   "execution_count": 41,
   "metadata": {
    "colab": {
     "base_uri": "https://localhost:8080/",
     "height": 2176
    },
    "colab_type": "code",
    "id": "aNJu-wvRXuG_",
    "outputId": "b2b286b5-26d5-4342-bf32-13db7d388018"
   },
   "outputs": [
    {
     "data": {
      "text/plain": [
       "array([[1053.89],\n",
       "       [1064.62],\n",
       "       [1064.1 ],\n",
       "       [1095.  ],\n",
       "       [1100.41],\n",
       "       [1105.57],\n",
       "       [1096.9 ],\n",
       "       [1085.09],\n",
       "       [1081.46],\n",
       "       [1066.  ],\n",
       "       [1079.  ],\n",
       "       [1089.8 ],\n",
       "       [1070.  ],\n",
       "       [1086.9 ],\n",
       "       [1086.55],\n",
       "       [1076.  ],\n",
       "       [1073.48],\n",
       "       [1082.  ],\n",
       "       [1112.87],\n",
       "       [1138.5 ],\n",
       "       [1154.66],\n",
       "       [1152.77],\n",
       "       [1144.58],\n",
       "       [1131.21],\n",
       "       [1132.94],\n",
       "       [1141.02],\n",
       "       [1152.28],\n",
       "       [1152.21],\n",
       "       [1159.92],\n",
       "       [1152.69],\n",
       "       [1170.11],\n",
       "       [1183.3 ],\n",
       "       [1185.51],\n",
       "       [1171.49],\n",
       "       [1155.  ],\n",
       "       [1144.14],\n",
       "       [1136.  ],\n",
       "       [1112.39],\n",
       "       [1132.31],\n",
       "       [1115.35],\n",
       "       [1149.42],\n",
       "       [1124.6 ],\n",
       "       [1141.77],\n",
       "       [1160.  ],\n",
       "       [1169.99],\n",
       "       [1155.62],\n",
       "       [1174.86],\n",
       "       [1202.8 ],\n",
       "       [1203.81],\n",
       "       [1182.74],\n",
       "       [1208.53],\n",
       "       [1206.65],\n",
       "       [1199.24],\n",
       "       [1195.66],\n",
       "       [1271.  ],\n",
       "       [1252.62],\n",
       "       [1267.18],\n",
       "       [1289.12],\n",
       "       [1245.05],\n",
       "       [1231.71],\n",
       "       [1239.11],\n",
       "       [1218.5 ],\n",
       "       [1245.18],\n",
       "       [1241.61],\n",
       "       [1252.01],\n",
       "       [1256.72],\n",
       "       [1262.73],\n",
       "       [1259.18],\n",
       "       [1251.2 ],\n",
       "       [1252.5 ],\n",
       "       [1244.28],\n",
       "       [1241.99],\n",
       "       [1222.04],\n",
       "       [1220.66],\n",
       "       [1223.02],\n",
       "       [1214.22],\n",
       "       [1219.88],\n",
       "       [1226.  ],\n",
       "       [1244.14],\n",
       "       [1255.9 ],\n",
       "       [1255.  ],\n",
       "       [1263.4 ],\n",
       "       [1252.21],\n",
       "       [1222.52],\n",
       "       [1209.22],\n",
       "       [1198.57],\n",
       "       [1172.  ],\n",
       "       [1184.2 ],\n",
       "       [1171.1 ],\n",
       "       [1182.  ],\n",
       "       [1179.7 ],\n",
       "       [1188.  ],\n",
       "       [1177.77],\n",
       "       [1162.66],\n",
       "       [1168.96],\n",
       "       [1180.67],\n",
       "       [1194.92],\n",
       "       [1159.41],\n",
       "       [1184.25],\n",
       "       [1193.69],\n",
       "       [1200.  ],\n",
       "       [1204.09],\n",
       "       [1213.  ],\n",
       "       [1206.67],\n",
       "       [1212.  ],\n",
       "       [1205.03],\n",
       "       [1176.  ],\n",
       "       [1160.  ],\n",
       "       [1151.31],\n",
       "       [1136.4 ],\n",
       "       [1079.04],\n",
       "       [1119.64],\n",
       "       [1118.  ],\n",
       "       [1113.48],\n",
       "       [1140.  ],\n",
       "       [1130.  ],\n",
       "       [1103.71],\n",
       "       [1112.51],\n",
       "       [1091.29],\n",
       "       [1115.  ],\n",
       "       [1080.3 ],\n",
       "       [1048.33],\n",
       "       [1096.54],\n",
       "       [1020.01],\n",
       "       [1068.2 ],\n",
       "       [1091.4 ],\n",
       "       [1089.  ]])"
      ]
     },
     "execution_count": 41,
     "metadata": {
      "tags": []
     },
     "output_type": "execute_result"
    }
   ],
   "source": [
    "inputs"
   ]
  },
  {
   "cell_type": "code",
   "execution_count": 42,
   "metadata": {
    "colab": {
     "base_uri": "https://localhost:8080/",
     "height": 34
    },
    "colab_type": "code",
    "id": "Co3afBUtu05u",
    "outputId": "fd818581-74fb-473e-b5f2-cf101b396844"
   },
   "outputs": [
    {
     "data": {
      "text/plain": [
       "127"
      ]
     },
     "execution_count": 42,
     "metadata": {
      "tags": []
     },
     "output_type": "execute_result"
    }
   ],
   "source": [
    "len(inputs)"
   ]
  },
  {
   "cell_type": "code",
   "execution_count": 0,
   "metadata": {
    "colab": {},
    "colab_type": "code",
    "id": "BKQioroUu749"
   },
   "outputs": [],
   "source": [
    "inputs = sc.transform(inputs)\n",
    "X_test = []\n",
    "for i in range(60, 127):\n",
    "    X_test.append(inputs[i-60:i, 0])\n",
    "X_test = np.array(X_test)\n",
    "X_test = np.reshape(X_test, (X_test.shape[0], X_test.shape[1], 1))\n",
    "predicted_stock_price = regressor.predict(X_test)\n",
    "predicted_stock_price = sc.inverse_transform(predicted_stock_price)"
   ]
  },
  {
   "cell_type": "code",
   "execution_count": 0,
   "metadata": {
    "colab": {},
    "colab_type": "code",
    "id": "bqzUD0NlZjIJ"
   },
   "outputs": [],
   "source": [
    "#sc.inverse_transform(regressor.predict(np.reshape(X_test[0],(1,60,1))))"
   ]
  },
  {
   "cell_type": "code",
   "execution_count": 45,
   "metadata": {
    "colab": {
     "base_uri": "https://localhost:8080/",
     "height": 34
    },
    "colab_type": "code",
    "id": "u9S-fy_pdDD_",
    "outputId": "9d365a76-5101-48eb-dc75-141704233deb"
   },
   "outputs": [
    {
     "data": {
      "text/plain": [
       "(67, 60, 1)"
      ]
     },
     "execution_count": 45,
     "metadata": {
      "tags": []
     },
     "output_type": "execute_result"
    }
   ],
   "source": [
    "XTest=np.reshape(X_test[0],(1,60,1))\n",
    "X_test.shape"
   ]
  },
  {
   "cell_type": "code",
   "execution_count": 0,
   "metadata": {
    "colab": {},
    "colab_type": "code",
    "id": "e7VTNQyHn-a7"
   },
   "outputs": [],
   "source": [
    "#XTest=np.reshape(XTest,(60))\n",
    "#XTest=np.delete(XTest,0)\n",
    "#print(XTest.shape)\n",
    "#XTest=np.append(XTest,10)\n",
    "#XTest.shape"
   ]
  },
  {
   "cell_type": "code",
   "execution_count": 0,
   "metadata": {
    "colab": {},
    "colab_type": "code",
    "id": "-L56-1Y3bioV"
   },
   "outputs": [],
   "source": [
    "\n",
    "predicted=[]\n",
    "for i in range(30):\n",
    "\n",
    "  p=sc.inverse_transform(regressor.predict(XTest))\n",
    "  predicted.append(sc.inverse_transform(regressor.predict(XTest)))\n",
    "  XTest=np.reshape(XTest,(60))\n",
    "  XTest=np.delete(XTest,0)\n",
    "  XTest=np.append(XTest,sc.transform(p))\n",
    "  XTest=np.reshape(XTest,(1,60,1))"
   ]
  },
  {
   "cell_type": "code",
   "execution_count": 0,
   "metadata": {
    "colab": {},
    "colab_type": "code",
    "id": "0f05T4jxcK8l"
   },
   "outputs": [],
   "source": [
    "predicted_stock_price_30days=np.reshape(predicted,(30,1))"
   ]
  },
  {
   "cell_type": "code",
   "execution_count": 49,
   "metadata": {
    "colab": {
     "base_uri": "https://localhost:8080/",
     "height": 1156
    },
    "colab_type": "code",
    "id": "71adl5sizQFr",
    "outputId": "ef356de3-26e6-45c5-81ac-a90397220abf"
   },
   "outputs": [
    {
     "data": {
      "text/plain": [
       "array([[1102.7048 ],\n",
       "       [1095.346  ],\n",
       "       [1090.1276 ],\n",
       "       [1092.6271 ],\n",
       "       [1092.7069 ],\n",
       "       [1094.0834 ],\n",
       "       [1099.7007 ],\n",
       "       [1102.5542 ],\n",
       "       [1105.1154 ],\n",
       "       [1104.906  ],\n",
       "       [1104.1959 ],\n",
       "       [1099.4645 ],\n",
       "       [1096.6111 ],\n",
       "       [1089.1576 ],\n",
       "       [1081.1385 ],\n",
       "       [1078.2998 ],\n",
       "       [1075.6825 ],\n",
       "       [1074.5493 ],\n",
       "       [1078.2494 ],\n",
       "       [1086.9763 ],\n",
       "       [1100.5374 ],\n",
       "       [1105.5394 ],\n",
       "       [1108.6542 ],\n",
       "       [1107.6364 ],\n",
       "       [1098.1324 ],\n",
       "       [1083.9128 ],\n",
       "       [1071.7115 ],\n",
       "       [1059.358  ],\n",
       "       [1054.0916 ],\n",
       "       [1047.9355 ],\n",
       "       [1049.883  ],\n",
       "       [1050.3893 ],\n",
       "       [1056.0966 ],\n",
       "       [1057.1328 ],\n",
       "       [1051.7595 ],\n",
       "       [1049.8184 ],\n",
       "       [1052.5074 ],\n",
       "       [1062.0569 ],\n",
       "       [1052.735  ],\n",
       "       [1050.5385 ],\n",
       "       [1054.3098 ],\n",
       "       [1060.0809 ],\n",
       "       [1065.7535 ],\n",
       "       [1068.8987 ],\n",
       "       [1069.7234 ],\n",
       "       [1072.8182 ],\n",
       "       [1072.081  ],\n",
       "       [1060.7837 ],\n",
       "       [1046.3966 ],\n",
       "       [1035.461  ],\n",
       "       [1025.8042 ],\n",
       "       [1002.5007 ],\n",
       "       [ 995.21405],\n",
       "       [ 997.51056],\n",
       "       [1003.1058 ],\n",
       "       [1014.63257],\n",
       "       [1014.4277 ],\n",
       "       [1008.6324 ],\n",
       "       [1005.35004],\n",
       "       [ 996.64575],\n",
       "       [ 998.76654],\n",
       "       [ 988.805  ],\n",
       "       [ 969.2818 ],\n",
       "       [ 968.4816 ],\n",
       "       [ 950.2943 ],\n",
       "       [ 949.9896 ],\n",
       "       [ 963.5273 ]], dtype=float32)"
      ]
     },
     "execution_count": 49,
     "metadata": {
      "tags": []
     },
     "output_type": "execute_result"
    }
   ],
   "source": [
    "predicted_stock_price"
   ]
  },
  {
   "cell_type": "code",
   "execution_count": 59,
   "metadata": {
    "colab": {
     "base_uri": "https://localhost:8080/",
     "height": 418
    },
    "colab_type": "code",
    "id": "3Waiprj1vJWH",
    "outputId": "404d6dbb-de85-4106-81c4-1faa1831fbe6"
   },
   "outputs": [
    {
     "data": {
      "image/png": "[encoded data removed]",
      "text/plain": [
       "<matplotlib.figure.Figure at 0x7f551b0e31d0>"
      ]
     },
     "metadata": {
      "tags": []
     },
     "output_type": "display_data"
    }
   ],
   "source": [
    "import matplotlib.pyplot as plt\n",
    "#plt.figure(figsize=(10,5))\n",
    "plt.plot(real_stock_price, color = 'red', label = 'Real Google Stock Price')\n",
    "plt.plot(predicted_stock_price, color = 'blue', label = 'Predicted Google Stock Price - One step time series forecast')\n",
    "plt.plot(predicted_stock_price_30days, color = 'orange', label = 'Predicted Google Stock Price - Multistep time series forecast')\n",
    "plt.title('Google Stock Price Prediction')\n",
    "plt.xlabel('Time')\n",
    "plt.ylabel('Google Stock Price')\n",
    "plt.ylim(700,1400)\n",
    "plt.xticks(np.arange(67),test_data['timestamp'], rotation='vertical')\n",
    "plt.legend()\n",
    "plt.show()"
   ]
  },
  {
   "cell_type": "code",
   "execution_count": 51,
   "metadata": {
    "colab": {
     "base_uri": "https://localhost:8080/",
     "height": 34
    },
    "colab_type": "code",
    "id": "ZBrsK2ky5SrI",
    "outputId": "0b816e23-ea2d-4302-d645-e919efb9a7f6"
   },
   "outputs": [
    {
     "data": {
      "text/plain": [
       "(67, 1)"
      ]
     },
     "execution_count": 51,
     "metadata": {
      "tags": []
     },
     "output_type": "execute_result"
    }
   ],
   "source": [
    "real_stock_price.shape"
   ]
  },
  {
   "cell_type": "code",
   "execution_count": 52,
   "metadata": {
    "colab": {
     "base_uri": "https://localhost:8080/",
     "height": 34
    },
    "colab_type": "code",
    "id": "_03-NUDNiaXS",
    "outputId": "6ffade2b-b89d-48c4-f040-b178f294796b"
   },
   "outputs": [
    {
     "data": {
      "text/plain": [
       "129.35528156805978"
      ]
     },
     "execution_count": 52,
     "metadata": {
      "tags": []
     },
     "output_type": "execute_result"
    }
   ],
   "source": [
    "from sklearn import metrics\n",
    "np.sqrt(metrics.mean_squared_error(real_stock_price,predicted_stock_price[0:67]))"
   ]
  },
  {
   "cell_type": "code",
   "execution_count": 0,
   "metadata": {
    "colab": {},
    "colab_type": "code",
    "id": "dmFsSQkSvMo5"
   },
   "outputs": [],
   "source": [
    "def cal_target(df):\n",
    "    list_y =[]\n",
    "    temp = df\n",
    "    for i in range(len(temp)-1):\n",
    "        if temp[i+1] > temp[i]:\n",
    "            y = 1\n",
    "        else:\n",
    "            y = -1\n",
    "            \n",
    "        list_y.append(y)\n",
    "    ydf = pd.DataFrame(list_y)\n",
    "    return ydf"
   ]
  },
  {
   "cell_type": "code",
   "execution_count": 0,
   "metadata": {
    "colab": {},
    "colab_type": "code",
    "id": "IoNs9gq-vraT"
   },
   "outputs": [],
   "source": [
    "real_stock_price_trend = cal_target(real_stock_price)\n",
    "predicted_stock_price_trend =cal_target(predicted_stock_price[0:67])"
   ]
  },
  {
   "cell_type": "code",
   "execution_count": 55,
   "metadata": {
    "colab": {
     "base_uri": "https://localhost:8080/",
     "height": 1969
    },
    "colab_type": "code",
    "id": "9kSX7y2bvtsI",
    "outputId": "304f9660-0d13-46a1-bad5-8cb0fad47bc5"
   },
   "outputs": [
    {
     "data": {
      "text/html": [
       "<div>\n",
       "<style scoped>\n",
       "    .dataframe tbody tr th:only-of-type {\n",
       "        vertical-align: middle;\n",
       "    }\n",
       "\n",
       "    .dataframe tbody tr th {\n",
       "        vertical-align: top;\n",
       "    }\n",
       "\n",
       "    .dataframe thead th {\n",
       "        text-align: right;\n",
       "    }\n",
       "</style>\n",
       "<table border=\"1\" class=\"dataframe\">\n",
       "  <thead>\n",
       "    <tr style=\"text-align: right;\">\n",
       "      <th></th>\n",
       "      <th>0</th>\n",
       "      <th>0</th>\n",
       "    </tr>\n",
       "  </thead>\n",
       "  <tbody>\n",
       "    <tr>\n",
       "      <th>0</th>\n",
       "      <td>-1</td>\n",
       "      <td>-1</td>\n",
       "    </tr>\n",
       "    <tr>\n",
       "      <th>1</th>\n",
       "      <td>1</td>\n",
       "      <td>-1</td>\n",
       "    </tr>\n",
       "    <tr>\n",
       "      <th>2</th>\n",
       "      <td>-1</td>\n",
       "      <td>1</td>\n",
       "    </tr>\n",
       "    <tr>\n",
       "      <th>3</th>\n",
       "      <td>1</td>\n",
       "      <td>1</td>\n",
       "    </tr>\n",
       "    <tr>\n",
       "      <th>4</th>\n",
       "      <td>1</td>\n",
       "      <td>1</td>\n",
       "    </tr>\n",
       "    <tr>\n",
       "      <th>5</th>\n",
       "      <td>1</td>\n",
       "      <td>1</td>\n",
       "    </tr>\n",
       "    <tr>\n",
       "      <th>6</th>\n",
       "      <td>-1</td>\n",
       "      <td>1</td>\n",
       "    </tr>\n",
       "    <tr>\n",
       "      <th>7</th>\n",
       "      <td>-1</td>\n",
       "      <td>1</td>\n",
       "    </tr>\n",
       "    <tr>\n",
       "      <th>8</th>\n",
       "      <td>1</td>\n",
       "      <td>-1</td>\n",
       "    </tr>\n",
       "    <tr>\n",
       "      <th>9</th>\n",
       "      <td>-1</td>\n",
       "      <td>-1</td>\n",
       "    </tr>\n",
       "    <tr>\n",
       "      <th>10</th>\n",
       "      <td>-1</td>\n",
       "      <td>-1</td>\n",
       "    </tr>\n",
       "    <tr>\n",
       "      <th>11</th>\n",
       "      <td>-1</td>\n",
       "      <td>-1</td>\n",
       "    </tr>\n",
       "    <tr>\n",
       "      <th>12</th>\n",
       "      <td>-1</td>\n",
       "      <td>-1</td>\n",
       "    </tr>\n",
       "    <tr>\n",
       "      <th>13</th>\n",
       "      <td>1</td>\n",
       "      <td>-1</td>\n",
       "    </tr>\n",
       "    <tr>\n",
       "      <th>14</th>\n",
       "      <td>-1</td>\n",
       "      <td>-1</td>\n",
       "    </tr>\n",
       "    <tr>\n",
       "      <th>15</th>\n",
       "      <td>1</td>\n",
       "      <td>-1</td>\n",
       "    </tr>\n",
       "    <tr>\n",
       "      <th>16</th>\n",
       "      <td>1</td>\n",
       "      <td>-1</td>\n",
       "    </tr>\n",
       "    <tr>\n",
       "      <th>17</th>\n",
       "      <td>1</td>\n",
       "      <td>1</td>\n",
       "    </tr>\n",
       "    <tr>\n",
       "      <th>18</th>\n",
       "      <td>1</td>\n",
       "      <td>1</td>\n",
       "    </tr>\n",
       "    <tr>\n",
       "      <th>19</th>\n",
       "      <td>-1</td>\n",
       "      <td>1</td>\n",
       "    </tr>\n",
       "    <tr>\n",
       "      <th>20</th>\n",
       "      <td>1</td>\n",
       "      <td>1</td>\n",
       "    </tr>\n",
       "    <tr>\n",
       "      <th>21</th>\n",
       "      <td>-1</td>\n",
       "      <td>1</td>\n",
       "    </tr>\n",
       "    <tr>\n",
       "      <th>22</th>\n",
       "      <td>-1</td>\n",
       "      <td>-1</td>\n",
       "    </tr>\n",
       "    <tr>\n",
       "      <th>23</th>\n",
       "      <td>-1</td>\n",
       "      <td>-1</td>\n",
       "    </tr>\n",
       "    <tr>\n",
       "      <th>24</th>\n",
       "      <td>-1</td>\n",
       "      <td>-1</td>\n",
       "    </tr>\n",
       "    <tr>\n",
       "      <th>25</th>\n",
       "      <td>-1</td>\n",
       "      <td>-1</td>\n",
       "    </tr>\n",
       "    <tr>\n",
       "      <th>26</th>\n",
       "      <td>1</td>\n",
       "      <td>-1</td>\n",
       "    </tr>\n",
       "    <tr>\n",
       "      <th>27</th>\n",
       "      <td>-1</td>\n",
       "      <td>-1</td>\n",
       "    </tr>\n",
       "    <tr>\n",
       "      <th>28</th>\n",
       "      <td>1</td>\n",
       "      <td>-1</td>\n",
       "    </tr>\n",
       "    <tr>\n",
       "      <th>29</th>\n",
       "      <td>-1</td>\n",
       "      <td>1</td>\n",
       "    </tr>\n",
       "    <tr>\n",
       "      <th>...</th>\n",
       "      <td>...</td>\n",
       "      <td>...</td>\n",
       "    </tr>\n",
       "    <tr>\n",
       "      <th>36</th>\n",
       "      <td>-1</td>\n",
       "      <td>1</td>\n",
       "    </tr>\n",
       "    <tr>\n",
       "      <th>37</th>\n",
       "      <td>1</td>\n",
       "      <td>-1</td>\n",
       "    </tr>\n",
       "    <tr>\n",
       "      <th>38</th>\n",
       "      <td>1</td>\n",
       "      <td>-1</td>\n",
       "    </tr>\n",
       "    <tr>\n",
       "      <th>39</th>\n",
       "      <td>1</td>\n",
       "      <td>1</td>\n",
       "    </tr>\n",
       "    <tr>\n",
       "      <th>40</th>\n",
       "      <td>1</td>\n",
       "      <td>1</td>\n",
       "    </tr>\n",
       "    <tr>\n",
       "      <th>41</th>\n",
       "      <td>1</td>\n",
       "      <td>1</td>\n",
       "    </tr>\n",
       "    <tr>\n",
       "      <th>42</th>\n",
       "      <td>-1</td>\n",
       "      <td>1</td>\n",
       "    </tr>\n",
       "    <tr>\n",
       "      <th>43</th>\n",
       "      <td>1</td>\n",
       "      <td>1</td>\n",
       "    </tr>\n",
       "    <tr>\n",
       "      <th>44</th>\n",
       "      <td>-1</td>\n",
       "      <td>1</td>\n",
       "    </tr>\n",
       "    <tr>\n",
       "      <th>45</th>\n",
       "      <td>-1</td>\n",
       "      <td>-1</td>\n",
       "    </tr>\n",
       "    <tr>\n",
       "      <th>46</th>\n",
       "      <td>-1</td>\n",
       "      <td>-1</td>\n",
       "    </tr>\n",
       "    <tr>\n",
       "      <th>47</th>\n",
       "      <td>-1</td>\n",
       "      <td>-1</td>\n",
       "    </tr>\n",
       "    <tr>\n",
       "      <th>48</th>\n",
       "      <td>-1</td>\n",
       "      <td>-1</td>\n",
       "    </tr>\n",
       "    <tr>\n",
       "      <th>49</th>\n",
       "      <td>-1</td>\n",
       "      <td>-1</td>\n",
       "    </tr>\n",
       "    <tr>\n",
       "      <th>50</th>\n",
       "      <td>1</td>\n",
       "      <td>-1</td>\n",
       "    </tr>\n",
       "    <tr>\n",
       "      <th>51</th>\n",
       "      <td>-1</td>\n",
       "      <td>-1</td>\n",
       "    </tr>\n",
       "    <tr>\n",
       "      <th>52</th>\n",
       "      <td>-1</td>\n",
       "      <td>1</td>\n",
       "    </tr>\n",
       "    <tr>\n",
       "      <th>53</th>\n",
       "      <td>1</td>\n",
       "      <td>1</td>\n",
       "    </tr>\n",
       "    <tr>\n",
       "      <th>54</th>\n",
       "      <td>-1</td>\n",
       "      <td>1</td>\n",
       "    </tr>\n",
       "    <tr>\n",
       "      <th>55</th>\n",
       "      <td>-1</td>\n",
       "      <td>-1</td>\n",
       "    </tr>\n",
       "    <tr>\n",
       "      <th>56</th>\n",
       "      <td>1</td>\n",
       "      <td>-1</td>\n",
       "    </tr>\n",
       "    <tr>\n",
       "      <th>57</th>\n",
       "      <td>-1</td>\n",
       "      <td>-1</td>\n",
       "    </tr>\n",
       "    <tr>\n",
       "      <th>58</th>\n",
       "      <td>1</td>\n",
       "      <td>-1</td>\n",
       "    </tr>\n",
       "    <tr>\n",
       "      <th>59</th>\n",
       "      <td>-1</td>\n",
       "      <td>1</td>\n",
       "    </tr>\n",
       "    <tr>\n",
       "      <th>60</th>\n",
       "      <td>-1</td>\n",
       "      <td>-1</td>\n",
       "    </tr>\n",
       "    <tr>\n",
       "      <th>61</th>\n",
       "      <td>1</td>\n",
       "      <td>-1</td>\n",
       "    </tr>\n",
       "    <tr>\n",
       "      <th>62</th>\n",
       "      <td>-1</td>\n",
       "      <td>-1</td>\n",
       "    </tr>\n",
       "    <tr>\n",
       "      <th>63</th>\n",
       "      <td>1</td>\n",
       "      <td>-1</td>\n",
       "    </tr>\n",
       "    <tr>\n",
       "      <th>64</th>\n",
       "      <td>1</td>\n",
       "      <td>-1</td>\n",
       "    </tr>\n",
       "    <tr>\n",
       "      <th>65</th>\n",
       "      <td>-1</td>\n",
       "      <td>1</td>\n",
       "    </tr>\n",
       "  </tbody>\n",
       "</table>\n",
       "<p>66 rows × 2 columns</p>\n",
       "</div>"
      ],
      "text/plain": [
       "    0  0\n",
       "0  -1 -1\n",
       "1   1 -1\n",
       "2  -1  1\n",
       "3   1  1\n",
       "4   1  1\n",
       "5   1  1\n",
       "6  -1  1\n",
       "7  -1  1\n",
       "8   1 -1\n",
       "9  -1 -1\n",
       "10 -1 -1\n",
       "11 -1 -1\n",
       "12 -1 -1\n",
       "13  1 -1\n",
       "14 -1 -1\n",
       "15  1 -1\n",
       "16  1 -1\n",
       "17  1  1\n",
       "18  1  1\n",
       "19 -1  1\n",
       "20  1  1\n",
       "21 -1  1\n",
       "22 -1 -1\n",
       "23 -1 -1\n",
       "24 -1 -1\n",
       "25 -1 -1\n",
       "26  1 -1\n",
       "27 -1 -1\n",
       "28  1 -1\n",
       "29 -1  1\n",
       ".. .. ..\n",
       "36 -1  1\n",
       "37  1 -1\n",
       "38  1 -1\n",
       "39  1  1\n",
       "40  1  1\n",
       "41  1  1\n",
       "42 -1  1\n",
       "43  1  1\n",
       "44 -1  1\n",
       "45 -1 -1\n",
       "46 -1 -1\n",
       "47 -1 -1\n",
       "48 -1 -1\n",
       "49 -1 -1\n",
       "50  1 -1\n",
       "51 -1 -1\n",
       "52 -1  1\n",
       "53  1  1\n",
       "54 -1  1\n",
       "55 -1 -1\n",
       "56  1 -1\n",
       "57 -1 -1\n",
       "58  1 -1\n",
       "59 -1  1\n",
       "60 -1 -1\n",
       "61  1 -1\n",
       "62 -1 -1\n",
       "63  1 -1\n",
       "64  1 -1\n",
       "65 -1  1\n",
       "\n",
       "[66 rows x 2 columns]"
      ]
     },
     "execution_count": 55,
     "metadata": {
      "tags": []
     },
     "output_type": "execute_result"
    }
   ],
   "source": [
    "real_df = pd.DataFrame(real_stock_price_trend)\n",
    "pred_df = pd.DataFrame(predicted_stock_price_trend)\n",
    "acc_df = pd.concat((real_df[0],pred_df[0]), axis=1)\n",
    "acc_df.head(100)"
   ]
  },
  {
   "cell_type": "code",
   "execution_count": 56,
   "metadata": {
    "colab": {
     "base_uri": "https://localhost:8080/",
     "height": 34
    },
    "colab_type": "code",
    "id": "Tg-WiVNFvwsS",
    "outputId": "ec048518-5185-43db-a7fe-72d69eb898ee"
   },
   "outputs": [
    {
     "name": "stdout",
     "output_type": "stream",
     "text": [
      "0.5151515151515151\n"
     ]
    }
   ],
   "source": [
    "from sklearn.metrics import accuracy_score\n",
    "score = accuracy_score(real_stock_price_trend, predicted_stock_price_trend)\n",
    "print(score)"
   ]
  },
  {
   "cell_type": "code",
   "execution_count": 57,
   "metadata": {
    "colab": {
     "base_uri": "https://localhost:8080/",
     "height": 136
    },
    "colab_type": "code",
    "id": "m5hB6W0Tvzbi",
    "outputId": "862502a0-da9a-4e93-a5fb-0e4684afbdf8"
   },
   "outputs": [
    {
     "name": "stdout",
     "output_type": "stream",
     "text": [
      "             precision    recall  f1-score   support\n",
      "\n",
      "         -1       0.55      0.58      0.57        36\n",
      "          1       0.46      0.43      0.45        30\n",
      "\n",
      "avg / total       0.51      0.52      0.51        66\n",
      "\n"
     ]
    }
   ],
   "source": [
    "from sklearn.metrics import classification_report\n",
    "print(classification_report(real_stock_price_trend, predicted_stock_price_trend))"
   ]
  },
  {
   "cell_type": "code",
   "execution_count": 58,
   "metadata": {
    "colab": {
     "base_uri": "https://localhost:8080/",
     "height": 34
    },
    "colab_type": "code",
    "id": "hn0-2hiKQUWS",
    "outputId": "1555cb2d-bf50-483d-e0a2-970e2391808b"
   },
   "outputs": [
    {
     "data": {
      "text/plain": [
       "0.4482758620689655"
      ]
     },
     "execution_count": 58,
     "metadata": {
      "tags": []
     },
     "output_type": "execute_result"
    }
   ],
   "source": [
    "from sklearn.metrics import f1_score\n",
    "f1_score(real_stock_price_trend, predicted_stock_price_trend)"
   ]
  },
  {
   "cell_type": "code",
   "execution_count": 0,
   "metadata": {
    "colab": {},
    "colab_type": "code",
    "id": "pQJx2kuEBAnF"
   },
   "outputs": [],
   "source": []
  }
 ],
 "metadata": {
  "colab": {
   "collapsed_sections": [],
   "name": "CNN LSTM1.ipynb",
   "provenance": [],
   "version": "0.3.2"
  },
  "kernelspec": {
   "display_name": "Python 3",
   "language": "python",
   "name": "python3"
  },
  "language_info": {
   "codemirror_mode": {
    "name": "ipython",
    "version": 3
   },
   "file_extension": ".py",
   "mimetype": "text/x-python",
   "name": "python",
   "nbconvert_exporter": "python",
   "pygments_lexer": "ipython3",
   "version": "3.7.1"
  }
 },
 "nbformat": 4,
 "nbformat_minor": 1
}
