{
 "cells": [
  {
   "cell_type": "code",
   "execution_count": 1,
   "metadata": {
    "colab": {
     "base_uri": "https://localhost:8080/",
     "height": 35
    },
    "colab_type": "code",
    "id": "S7sHoQ5tkX6m",
    "outputId": "1c9b616e-d468-4d4b-942e-24e5e095ea0c"
   },
   "outputs": [
    {
     "name": "stderr",
     "output_type": "stream",
     "text": [
      "Using TensorFlow backend.\n"
     ]
    }
   ],
   "source": [
    "import pandas as pd\n",
    "from keras.layers import Bidirectional, GlobalMaxPool1D, MaxPooling1D, Add, Flatten"
   ]
  },
  {
   "cell_type": "code",
   "execution_count": 0,
   "metadata": {
    "colab": {},
    "colab_type": "code",
    "id": "dMOFX_XIklMI"
   },
   "outputs": [],
   "source": [
    "#load daily stocks data of google from August 2004 to November 2018\n",
    "data=pd.read_csv(\"..data/daily_GOOGL.csv\")\n",
    "data.head()"
   ]
  },
  {
   "cell_type": "code",
   "execution_count": 8,
   "metadata": {
    "colab": {
     "base_uri": "https://localhost:8080/",
     "height": 203
    },
    "colab_type": "code",
    "id": "8OzqABHmksvs",
    "outputId": "89017743-ca31-4e57-c2ef-753459f2c3c2"
   },
   "outputs": [
    {
     "data": {
      "text/html": [
       "<div>\n",
       "<style scoped>\n",
       "    .dataframe tbody tr th:only-of-type {\n",
       "        vertical-align: middle;\n",
       "    }\n",
       "\n",
       "    .dataframe tbody tr th {\n",
       "        vertical-align: top;\n",
       "    }\n",
       "\n",
       "    .dataframe thead th {\n",
       "        text-align: right;\n",
       "    }\n",
       "</style>\n",
       "<table border=\"1\" class=\"dataframe\">\n",
       "  <thead>\n",
       "    <tr style=\"text-align: right;\">\n",
       "      <th></th>\n",
       "      <th>timestamp</th>\n",
       "      <th>open</th>\n",
       "      <th>high</th>\n",
       "      <th>low</th>\n",
       "      <th>close</th>\n",
       "      <th>volume</th>\n",
       "    </tr>\n",
       "  </thead>\n",
       "  <tbody>\n",
       "    <tr>\n",
       "      <th>0</th>\n",
       "      <td>2018-11-02</td>\n",
       "      <td>1089.00</td>\n",
       "      <td>1098.00</td>\n",
       "      <td>1067.66</td>\n",
       "      <td>1071.49</td>\n",
       "      <td>2172215</td>\n",
       "    </tr>\n",
       "    <tr>\n",
       "      <th>1</th>\n",
       "      <td>2018-11-01</td>\n",
       "      <td>1091.40</td>\n",
       "      <td>1099.90</td>\n",
       "      <td>1077.82</td>\n",
       "      <td>1085.98</td>\n",
       "      <td>2006575</td>\n",
       "    </tr>\n",
       "    <tr>\n",
       "      <th>2</th>\n",
       "      <td>2018-10-31</td>\n",
       "      <td>1068.20</td>\n",
       "      <td>1108.00</td>\n",
       "      <td>1068.20</td>\n",
       "      <td>1090.58</td>\n",
       "      <td>3545821</td>\n",
       "    </tr>\n",
       "    <tr>\n",
       "      <th>3</th>\n",
       "      <td>2018-10-30</td>\n",
       "      <td>1020.01</td>\n",
       "      <td>1050.90</td>\n",
       "      <td>1013.97</td>\n",
       "      <td>1049.51</td>\n",
       "      <td>2988418</td>\n",
       "    </tr>\n",
       "    <tr>\n",
       "      <th>4</th>\n",
       "      <td>2018-10-29</td>\n",
       "      <td>1096.54</td>\n",
       "      <td>1108.83</td>\n",
       "      <td>1007.20</td>\n",
       "      <td>1034.73</td>\n",
       "      <td>4064452</td>\n",
       "    </tr>\n",
       "  </tbody>\n",
       "</table>\n",
       "</div>"
      ],
      "text/plain": [
       "    timestamp     open     high      low    close   volume\n",
       "0  2018-11-02  1089.00  1098.00  1067.66  1071.49  2172215\n",
       "1  2018-11-01  1091.40  1099.90  1077.82  1085.98  2006575\n",
       "2  2018-10-31  1068.20  1108.00  1068.20  1090.58  3545821\n",
       "3  2018-10-30  1020.01  1050.90  1013.97  1049.51  2988418\n",
       "4  2018-10-29  1096.54  1108.83  1007.20  1034.73  4064452"
      ]
     },
     "execution_count": 8,
     "metadata": {
      "tags": []
     },
     "output_type": "execute_result"
    }
   ],
   "source": [
    "data.head()"
   ]
  },
  {
   "cell_type": "code",
   "execution_count": 9,
   "metadata": {
    "colab": {
     "base_uri": "https://localhost:8080/",
     "height": 203
    },
    "colab_type": "code",
    "id": "CAyBLd1FkuVQ",
    "outputId": "4bbb5006-dfad-47bb-b7b0-09168247d334"
   },
   "outputs": [
    {
     "data": {
      "text/html": [
       "<div>\n",
       "<style scoped>\n",
       "    .dataframe tbody tr th:only-of-type {\n",
       "        vertical-align: middle;\n",
       "    }\n",
       "\n",
       "    .dataframe tbody tr th {\n",
       "        vertical-align: top;\n",
       "    }\n",
       "\n",
       "    .dataframe thead th {\n",
       "        text-align: right;\n",
       "    }\n",
       "</style>\n",
       "<table border=\"1\" class=\"dataframe\">\n",
       "  <thead>\n",
       "    <tr style=\"text-align: right;\">\n",
       "      <th></th>\n",
       "      <th>timestamp</th>\n",
       "      <th>open</th>\n",
       "      <th>high</th>\n",
       "      <th>low</th>\n",
       "      <th>close</th>\n",
       "      <th>volume</th>\n",
       "    </tr>\n",
       "  </thead>\n",
       "  <tbody>\n",
       "    <tr>\n",
       "      <th>3574</th>\n",
       "      <td>2004-08-25</td>\n",
       "      <td>104.76</td>\n",
       "      <td>108.00</td>\n",
       "      <td>103.88</td>\n",
       "      <td>106.000</td>\n",
       "      <td>9188600</td>\n",
       "    </tr>\n",
       "    <tr>\n",
       "      <th>3575</th>\n",
       "      <td>2004-08-24</td>\n",
       "      <td>111.24</td>\n",
       "      <td>111.60</td>\n",
       "      <td>103.57</td>\n",
       "      <td>104.870</td>\n",
       "      <td>15247300</td>\n",
       "    </tr>\n",
       "    <tr>\n",
       "      <th>3576</th>\n",
       "      <td>2004-08-23</td>\n",
       "      <td>110.76</td>\n",
       "      <td>113.48</td>\n",
       "      <td>109.05</td>\n",
       "      <td>109.400</td>\n",
       "      <td>18256100</td>\n",
       "    </tr>\n",
       "    <tr>\n",
       "      <th>3577</th>\n",
       "      <td>2004-08-20</td>\n",
       "      <td>101.01</td>\n",
       "      <td>109.08</td>\n",
       "      <td>100.50</td>\n",
       "      <td>108.310</td>\n",
       "      <td>22834300</td>\n",
       "    </tr>\n",
       "    <tr>\n",
       "      <th>3578</th>\n",
       "      <td>2004-08-19</td>\n",
       "      <td>100.01</td>\n",
       "      <td>104.06</td>\n",
       "      <td>95.96</td>\n",
       "      <td>100.335</td>\n",
       "      <td>44659000</td>\n",
       "    </tr>\n",
       "  </tbody>\n",
       "</table>\n",
       "</div>"
      ],
      "text/plain": [
       "       timestamp    open    high     low    close    volume\n",
       "3574  2004-08-25  104.76  108.00  103.88  106.000   9188600\n",
       "3575  2004-08-24  111.24  111.60  103.57  104.870  15247300\n",
       "3576  2004-08-23  110.76  113.48  109.05  109.400  18256100\n",
       "3577  2004-08-20  101.01  109.08  100.50  108.310  22834300\n",
       "3578  2004-08-19  100.01  104.06   95.96  100.335  44659000"
      ]
     },
     "execution_count": 9,
     "metadata": {
      "tags": []
     },
     "output_type": "execute_result"
    }
   ],
   "source": [
    "data.tail()"
   ]
  },
  {
   "cell_type": "code",
   "execution_count": 0,
   "metadata": {
    "colab": {},
    "colab_type": "code",
    "id": "rJhypXnqkwTO"
   },
   "outputs": [],
   "source": [
    "#considering google stocks data from 2013\n",
    "data=data[data.iloc[:,0]>='2013-01-01']"
   ]
  },
  {
   "cell_type": "code",
   "execution_count": 11,
   "metadata": {
    "colab": {
     "base_uri": "https://localhost:8080/",
     "height": 203
    },
    "colab_type": "code",
    "id": "kMUjk0-5lO6E",
    "outputId": "32bb1fca-e7ce-4160-f954-a969ed8c2bfa"
   },
   "outputs": [
    {
     "data": {
      "text/html": [
       "<div>\n",
       "<style scoped>\n",
       "    .dataframe tbody tr th:only-of-type {\n",
       "        vertical-align: middle;\n",
       "    }\n",
       "\n",
       "    .dataframe tbody tr th {\n",
       "        vertical-align: top;\n",
       "    }\n",
       "\n",
       "    .dataframe thead th {\n",
       "        text-align: right;\n",
       "    }\n",
       "</style>\n",
       "<table border=\"1\" class=\"dataframe\">\n",
       "  <thead>\n",
       "    <tr style=\"text-align: right;\">\n",
       "      <th></th>\n",
       "      <th>timestamp</th>\n",
       "      <th>open</th>\n",
       "      <th>high</th>\n",
       "      <th>low</th>\n",
       "      <th>close</th>\n",
       "      <th>volume</th>\n",
       "    </tr>\n",
       "  </thead>\n",
       "  <tbody>\n",
       "    <tr>\n",
       "      <th>1467</th>\n",
       "      <td>2013-01-08</td>\n",
       "      <td>735.54</td>\n",
       "      <td>736.2999</td>\n",
       "      <td>724.4300</td>\n",
       "      <td>733.30</td>\n",
       "      <td>3348800</td>\n",
       "    </tr>\n",
       "    <tr>\n",
       "      <th>1468</th>\n",
       "      <td>2013-01-07</td>\n",
       "      <td>735.45</td>\n",
       "      <td>739.3800</td>\n",
       "      <td>730.5800</td>\n",
       "      <td>734.75</td>\n",
       "      <td>3308000</td>\n",
       "    </tr>\n",
       "    <tr>\n",
       "      <th>1469</th>\n",
       "      <td>2013-01-04</td>\n",
       "      <td>729.34</td>\n",
       "      <td>741.4700</td>\n",
       "      <td>727.6801</td>\n",
       "      <td>737.97</td>\n",
       "      <td>5521400</td>\n",
       "    </tr>\n",
       "    <tr>\n",
       "      <th>1470</th>\n",
       "      <td>2013-01-03</td>\n",
       "      <td>724.93</td>\n",
       "      <td>731.9300</td>\n",
       "      <td>720.7200</td>\n",
       "      <td>723.67</td>\n",
       "      <td>4631700</td>\n",
       "    </tr>\n",
       "    <tr>\n",
       "      <th>1471</th>\n",
       "      <td>2013-01-02</td>\n",
       "      <td>719.42</td>\n",
       "      <td>727.0000</td>\n",
       "      <td>716.5500</td>\n",
       "      <td>723.25</td>\n",
       "      <td>5077500</td>\n",
       "    </tr>\n",
       "  </tbody>\n",
       "</table>\n",
       "</div>"
      ],
      "text/plain": [
       "       timestamp    open      high       low   close   volume\n",
       "1467  2013-01-08  735.54  736.2999  724.4300  733.30  3348800\n",
       "1468  2013-01-07  735.45  739.3800  730.5800  734.75  3308000\n",
       "1469  2013-01-04  729.34  741.4700  727.6801  737.97  5521400\n",
       "1470  2013-01-03  724.93  731.9300  720.7200  723.67  4631700\n",
       "1471  2013-01-02  719.42  727.0000  716.5500  723.25  5077500"
      ]
     },
     "execution_count": 11,
     "metadata": {
      "tags": []
     },
     "output_type": "execute_result"
    }
   ],
   "source": [
    "data.tail()"
   ]
  },
  {
   "cell_type": "code",
   "execution_count": 12,
   "metadata": {
    "colab": {
     "base_uri": "https://localhost:8080/",
     "height": 203
    },
    "colab_type": "code",
    "id": "ZptdYukJmB1W",
    "outputId": "2548172b-8c3f-48c8-b26b-d68b9af41599"
   },
   "outputs": [
    {
     "data": {
      "text/html": [
       "<div>\n",
       "<style scoped>\n",
       "    .dataframe tbody tr th:only-of-type {\n",
       "        vertical-align: middle;\n",
       "    }\n",
       "\n",
       "    .dataframe tbody tr th {\n",
       "        vertical-align: top;\n",
       "    }\n",
       "\n",
       "    .dataframe thead th {\n",
       "        text-align: right;\n",
       "    }\n",
       "</style>\n",
       "<table border=\"1\" class=\"dataframe\">\n",
       "  <thead>\n",
       "    <tr style=\"text-align: right;\">\n",
       "      <th></th>\n",
       "      <th>timestamp</th>\n",
       "      <th>open</th>\n",
       "      <th>high</th>\n",
       "      <th>low</th>\n",
       "      <th>close</th>\n",
       "      <th>volume</th>\n",
       "    </tr>\n",
       "  </thead>\n",
       "  <tbody>\n",
       "    <tr>\n",
       "      <th>0</th>\n",
       "      <td>2018-11-02</td>\n",
       "      <td>1089.00</td>\n",
       "      <td>1098.00</td>\n",
       "      <td>1067.66</td>\n",
       "      <td>1071.49</td>\n",
       "      <td>2172215</td>\n",
       "    </tr>\n",
       "    <tr>\n",
       "      <th>1</th>\n",
       "      <td>2018-11-01</td>\n",
       "      <td>1091.40</td>\n",
       "      <td>1099.90</td>\n",
       "      <td>1077.82</td>\n",
       "      <td>1085.98</td>\n",
       "      <td>2006575</td>\n",
       "    </tr>\n",
       "    <tr>\n",
       "      <th>2</th>\n",
       "      <td>2018-10-31</td>\n",
       "      <td>1068.20</td>\n",
       "      <td>1108.00</td>\n",
       "      <td>1068.20</td>\n",
       "      <td>1090.58</td>\n",
       "      <td>3545821</td>\n",
       "    </tr>\n",
       "    <tr>\n",
       "      <th>3</th>\n",
       "      <td>2018-10-30</td>\n",
       "      <td>1020.01</td>\n",
       "      <td>1050.90</td>\n",
       "      <td>1013.97</td>\n",
       "      <td>1049.51</td>\n",
       "      <td>2988418</td>\n",
       "    </tr>\n",
       "    <tr>\n",
       "      <th>4</th>\n",
       "      <td>2018-10-29</td>\n",
       "      <td>1096.54</td>\n",
       "      <td>1108.83</td>\n",
       "      <td>1007.20</td>\n",
       "      <td>1034.73</td>\n",
       "      <td>4064452</td>\n",
       "    </tr>\n",
       "  </tbody>\n",
       "</table>\n",
       "</div>"
      ],
      "text/plain": [
       "    timestamp     open     high      low    close   volume\n",
       "0  2018-11-02  1089.00  1098.00  1067.66  1071.49  2172215\n",
       "1  2018-11-01  1091.40  1099.90  1077.82  1085.98  2006575\n",
       "2  2018-10-31  1068.20  1108.00  1068.20  1090.58  3545821\n",
       "3  2018-10-30  1020.01  1050.90  1013.97  1049.51  2988418\n",
       "4  2018-10-29  1096.54  1108.83  1007.20  1034.73  4064452"
      ]
     },
     "execution_count": 12,
     "metadata": {
      "tags": []
     },
     "output_type": "execute_result"
    }
   ],
   "source": [
    "data.head()"
   ]
  },
  {
   "cell_type": "code",
   "execution_count": 0,
   "metadata": {
    "colab": {},
    "colab_type": "code",
    "id": "ECs8pqKDmyHL"
   },
   "outputs": [],
   "source": [
    "#set training data from Jan 2013 to July 2018\n",
    "train_data=data[data.iloc[:,0]<'2018-08-01']\n",
    "train_data=train_data.iloc[::-1]"
   ]
  },
  {
   "cell_type": "code",
   "execution_count": 15,
   "metadata": {
    "colab": {
     "base_uri": "https://localhost:8080/",
     "height": 203
    },
    "colab_type": "code",
    "id": "egdiF0zMnJpZ",
    "outputId": "e245d59d-d661-4179-c520-63af7961dd93"
   },
   "outputs": [
    {
     "data": {
      "text/html": [
       "<div>\n",
       "<style scoped>\n",
       "    .dataframe tbody tr th:only-of-type {\n",
       "        vertical-align: middle;\n",
       "    }\n",
       "\n",
       "    .dataframe tbody tr th {\n",
       "        vertical-align: top;\n",
       "    }\n",
       "\n",
       "    .dataframe thead th {\n",
       "        text-align: right;\n",
       "    }\n",
       "</style>\n",
       "<table border=\"1\" class=\"dataframe\">\n",
       "  <thead>\n",
       "    <tr style=\"text-align: right;\">\n",
       "      <th></th>\n",
       "      <th>timestamp</th>\n",
       "      <th>open</th>\n",
       "      <th>high</th>\n",
       "      <th>low</th>\n",
       "      <th>close</th>\n",
       "      <th>volume</th>\n",
       "    </tr>\n",
       "  </thead>\n",
       "  <tbody>\n",
       "    <tr>\n",
       "      <th>1471</th>\n",
       "      <td>2013-01-02</td>\n",
       "      <td>719.42</td>\n",
       "      <td>727.0000</td>\n",
       "      <td>716.5500</td>\n",
       "      <td>723.25</td>\n",
       "      <td>5077500</td>\n",
       "    </tr>\n",
       "    <tr>\n",
       "      <th>1470</th>\n",
       "      <td>2013-01-03</td>\n",
       "      <td>724.93</td>\n",
       "      <td>731.9300</td>\n",
       "      <td>720.7200</td>\n",
       "      <td>723.67</td>\n",
       "      <td>4631700</td>\n",
       "    </tr>\n",
       "    <tr>\n",
       "      <th>1469</th>\n",
       "      <td>2013-01-04</td>\n",
       "      <td>729.34</td>\n",
       "      <td>741.4700</td>\n",
       "      <td>727.6801</td>\n",
       "      <td>737.97</td>\n",
       "      <td>5521400</td>\n",
       "    </tr>\n",
       "    <tr>\n",
       "      <th>1468</th>\n",
       "      <td>2013-01-07</td>\n",
       "      <td>735.45</td>\n",
       "      <td>739.3800</td>\n",
       "      <td>730.5800</td>\n",
       "      <td>734.75</td>\n",
       "      <td>3308000</td>\n",
       "    </tr>\n",
       "    <tr>\n",
       "      <th>1467</th>\n",
       "      <td>2013-01-08</td>\n",
       "      <td>735.54</td>\n",
       "      <td>736.2999</td>\n",
       "      <td>724.4300</td>\n",
       "      <td>733.30</td>\n",
       "      <td>3348800</td>\n",
       "    </tr>\n",
       "  </tbody>\n",
       "</table>\n",
       "</div>"
      ],
      "text/plain": [
       "       timestamp    open      high       low   close   volume\n",
       "1471  2013-01-02  719.42  727.0000  716.5500  723.25  5077500\n",
       "1470  2013-01-03  724.93  731.9300  720.7200  723.67  4631700\n",
       "1469  2013-01-04  729.34  741.4700  727.6801  737.97  5521400\n",
       "1468  2013-01-07  735.45  739.3800  730.5800  734.75  3308000\n",
       "1467  2013-01-08  735.54  736.2999  724.4300  733.30  3348800"
      ]
     },
     "execution_count": 15,
     "metadata": {
      "tags": []
     },
     "output_type": "execute_result"
    }
   ],
   "source": [
    "train_data.head()"
   ]
  },
  {
   "cell_type": "code",
   "execution_count": 16,
   "metadata": {
    "colab": {
     "base_uri": "https://localhost:8080/",
     "height": 203
    },
    "colab_type": "code",
    "id": "C57eNTPqnTXK",
    "outputId": "09ab372e-22f5-4eda-e569-e3296067c800"
   },
   "outputs": [
    {
     "data": {
      "text/html": [
       "<div>\n",
       "<style scoped>\n",
       "    .dataframe tbody tr th:only-of-type {\n",
       "        vertical-align: middle;\n",
       "    }\n",
       "\n",
       "    .dataframe tbody tr th {\n",
       "        vertical-align: top;\n",
       "    }\n",
       "\n",
       "    .dataframe thead th {\n",
       "        text-align: right;\n",
       "    }\n",
       "</style>\n",
       "<table border=\"1\" class=\"dataframe\">\n",
       "  <thead>\n",
       "    <tr style=\"text-align: right;\">\n",
       "      <th></th>\n",
       "      <th>timestamp</th>\n",
       "      <th>open</th>\n",
       "      <th>high</th>\n",
       "      <th>low</th>\n",
       "      <th>close</th>\n",
       "      <th>volume</th>\n",
       "    </tr>\n",
       "  </thead>\n",
       "  <tbody>\n",
       "    <tr>\n",
       "      <th>71</th>\n",
       "      <td>2018-07-25</td>\n",
       "      <td>1252.62</td>\n",
       "      <td>1278.24</td>\n",
       "      <td>1249.05</td>\n",
       "      <td>1275.94</td>\n",
       "      <td>2575437</td>\n",
       "    </tr>\n",
       "    <tr>\n",
       "      <th>70</th>\n",
       "      <td>2018-07-26</td>\n",
       "      <td>1267.18</td>\n",
       "      <td>1287.40</td>\n",
       "      <td>1263.00</td>\n",
       "      <td>1285.50</td>\n",
       "      <td>2734302</td>\n",
       "    </tr>\n",
       "    <tr>\n",
       "      <th>69</th>\n",
       "      <td>2018-07-27</td>\n",
       "      <td>1289.12</td>\n",
       "      <td>1291.44</td>\n",
       "      <td>1244.49</td>\n",
       "      <td>1252.89</td>\n",
       "      <td>2418090</td>\n",
       "    </tr>\n",
       "    <tr>\n",
       "      <th>68</th>\n",
       "      <td>2018-07-30</td>\n",
       "      <td>1245.05</td>\n",
       "      <td>1252.89</td>\n",
       "      <td>1224.17</td>\n",
       "      <td>1230.04</td>\n",
       "      <td>2194837</td>\n",
       "    </tr>\n",
       "    <tr>\n",
       "      <th>67</th>\n",
       "      <td>2018-07-31</td>\n",
       "      <td>1231.71</td>\n",
       "      <td>1241.21</td>\n",
       "      <td>1216.19</td>\n",
       "      <td>1227.22</td>\n",
       "      <td>1969111</td>\n",
       "    </tr>\n",
       "  </tbody>\n",
       "</table>\n",
       "</div>"
      ],
      "text/plain": [
       "     timestamp     open     high      low    close   volume\n",
       "71  2018-07-25  1252.62  1278.24  1249.05  1275.94  2575437\n",
       "70  2018-07-26  1267.18  1287.40  1263.00  1285.50  2734302\n",
       "69  2018-07-27  1289.12  1291.44  1244.49  1252.89  2418090\n",
       "68  2018-07-30  1245.05  1252.89  1224.17  1230.04  2194837\n",
       "67  2018-07-31  1231.71  1241.21  1216.19  1227.22  1969111"
      ]
     },
     "execution_count": 16,
     "metadata": {
      "tags": []
     },
     "output_type": "execute_result"
    }
   ],
   "source": [
    "train_data.tail()"
   ]
  },
  {
   "cell_type": "code",
   "execution_count": 17,
   "metadata": {
    "colab": {
     "base_uri": "https://localhost:8080/",
     "height": 35
    },
    "colab_type": "code",
    "id": "dd9vx9ImnW6T",
    "outputId": "6d7d4777-c7f3-4673-828f-d256812e3c43"
   },
   "outputs": [
    {
     "data": {
      "text/plain": [
       "(1405, 6)"
      ]
     },
     "execution_count": 17,
     "metadata": {
      "tags": []
     },
     "output_type": "execute_result"
    }
   ],
   "source": [
    "train_data.shape"
   ]
  },
  {
   "cell_type": "code",
   "execution_count": 0,
   "metadata": {
    "colab": {},
    "colab_type": "code",
    "id": "op-3zi8RnaLN"
   },
   "outputs": [],
   "source": [
    "#test data from August 2018 to November 2019\n",
    "test_data=data[data.iloc[:,0]>='2018-08-01']"
   ]
  },
  {
   "cell_type": "code",
   "execution_count": 19,
   "metadata": {
    "colab": {
     "base_uri": "https://localhost:8080/",
     "height": 203
    },
    "colab_type": "code",
    "id": "lFyN8fhInihV",
    "outputId": "3ea445d8-7546-4131-9613-70a16846906e"
   },
   "outputs": [
    {
     "data": {
      "text/html": [
       "<div>\n",
       "<style scoped>\n",
       "    .dataframe tbody tr th:only-of-type {\n",
       "        vertical-align: middle;\n",
       "    }\n",
       "\n",
       "    .dataframe tbody tr th {\n",
       "        vertical-align: top;\n",
       "    }\n",
       "\n",
       "    .dataframe thead th {\n",
       "        text-align: right;\n",
       "    }\n",
       "</style>\n",
       "<table border=\"1\" class=\"dataframe\">\n",
       "  <thead>\n",
       "    <tr style=\"text-align: right;\">\n",
       "      <th></th>\n",
       "      <th>timestamp</th>\n",
       "      <th>open</th>\n",
       "      <th>high</th>\n",
       "      <th>low</th>\n",
       "      <th>close</th>\n",
       "      <th>volume</th>\n",
       "    </tr>\n",
       "  </thead>\n",
       "  <tbody>\n",
       "    <tr>\n",
       "      <th>4</th>\n",
       "      <td>2018-10-29</td>\n",
       "      <td>1096.54</td>\n",
       "      <td>1108.83</td>\n",
       "      <td>1007.20</td>\n",
       "      <td>1034.73</td>\n",
       "      <td>4064452</td>\n",
       "    </tr>\n",
       "    <tr>\n",
       "      <th>3</th>\n",
       "      <td>2018-10-30</td>\n",
       "      <td>1020.01</td>\n",
       "      <td>1050.90</td>\n",
       "      <td>1013.97</td>\n",
       "      <td>1049.51</td>\n",
       "      <td>2988418</td>\n",
       "    </tr>\n",
       "    <tr>\n",
       "      <th>2</th>\n",
       "      <td>2018-10-31</td>\n",
       "      <td>1068.20</td>\n",
       "      <td>1108.00</td>\n",
       "      <td>1068.20</td>\n",
       "      <td>1090.58</td>\n",
       "      <td>3545821</td>\n",
       "    </tr>\n",
       "    <tr>\n",
       "      <th>1</th>\n",
       "      <td>2018-11-01</td>\n",
       "      <td>1091.40</td>\n",
       "      <td>1099.90</td>\n",
       "      <td>1077.82</td>\n",
       "      <td>1085.98</td>\n",
       "      <td>2006575</td>\n",
       "    </tr>\n",
       "    <tr>\n",
       "      <th>0</th>\n",
       "      <td>2018-11-02</td>\n",
       "      <td>1089.00</td>\n",
       "      <td>1098.00</td>\n",
       "      <td>1067.66</td>\n",
       "      <td>1071.49</td>\n",
       "      <td>2172215</td>\n",
       "    </tr>\n",
       "  </tbody>\n",
       "</table>\n",
       "</div>"
      ],
      "text/plain": [
       "    timestamp     open     high      low    close   volume\n",
       "4  2018-10-29  1096.54  1108.83  1007.20  1034.73  4064452\n",
       "3  2018-10-30  1020.01  1050.90  1013.97  1049.51  2988418\n",
       "2  2018-10-31  1068.20  1108.00  1068.20  1090.58  3545821\n",
       "1  2018-11-01  1091.40  1099.90  1077.82  1085.98  2006575\n",
       "0  2018-11-02  1089.00  1098.00  1067.66  1071.49  2172215"
      ]
     },
     "execution_count": 19,
     "metadata": {
      "tags": []
     },
     "output_type": "execute_result"
    }
   ],
   "source": [
    "test_data=test_data.iloc[::-1]\n",
    "test_data.tail()"
   ]
  },
  {
   "cell_type": "code",
   "execution_count": 0,
   "metadata": {
    "colab": {},
    "colab_type": "code",
    "id": "ACVDz_xKnjY9"
   },
   "outputs": [],
   "source": [
    "training_set = train_data.iloc[:, 1:2].values\n",
    "#training_set"
   ]
  },
  {
   "cell_type": "code",
   "execution_count": 0,
   "metadata": {
    "colab": {},
    "colab_type": "code",
    "id": "6awmX_w5QicT"
   },
   "outputs": [],
   "source": [
    "import numpy as np\n",
    "training_set=np.flipud(training_set) "
   ]
  },
  {
   "cell_type": "code",
   "execution_count": 0,
   "metadata": {
    "colab": {},
    "colab_type": "code",
    "id": "_MrpH8YooHdX"
   },
   "outputs": [],
   "source": [
    "real_stock_price = test_data.iloc[:, 1:2].values"
   ]
  },
  {
   "cell_type": "code",
   "execution_count": 23,
   "metadata": {
    "colab": {
     "base_uri": "https://localhost:8080/",
     "height": 1196
    },
    "colab_type": "code",
    "id": "mD93r6TConhM",
    "outputId": "5831de08-d504-4b0d-ee2d-21219b4f8189"
   },
   "outputs": [
    {
     "data": {
      "text/plain": [
       "array([[1239.11],\n",
       "       [1218.5 ],\n",
       "       [1245.18],\n",
       "       [1241.61],\n",
       "       [1252.01],\n",
       "       [1256.72],\n",
       "       [1262.73],\n",
       "       [1259.18],\n",
       "       [1251.2 ],\n",
       "       [1252.5 ],\n",
       "       [1244.28],\n",
       "       [1241.99],\n",
       "       [1222.04],\n",
       "       [1220.66],\n",
       "       [1223.02],\n",
       "       [1214.22],\n",
       "       [1219.88],\n",
       "       [1226.  ],\n",
       "       [1244.14],\n",
       "       [1255.9 ],\n",
       "       [1255.  ],\n",
       "       [1263.4 ],\n",
       "       [1252.21],\n",
       "       [1222.52],\n",
       "       [1209.22],\n",
       "       [1198.57],\n",
       "       [1172.  ],\n",
       "       [1184.2 ],\n",
       "       [1171.1 ],\n",
       "       [1182.  ],\n",
       "       [1179.7 ],\n",
       "       [1188.  ],\n",
       "       [1177.77],\n",
       "       [1162.66],\n",
       "       [1168.96],\n",
       "       [1180.67],\n",
       "       [1194.92],\n",
       "       [1159.41],\n",
       "       [1184.25],\n",
       "       [1193.69],\n",
       "       [1200.  ],\n",
       "       [1204.09],\n",
       "       [1213.  ],\n",
       "       [1206.67],\n",
       "       [1212.  ],\n",
       "       [1205.03],\n",
       "       [1176.  ],\n",
       "       [1160.  ],\n",
       "       [1151.31],\n",
       "       [1136.4 ],\n",
       "       [1079.04],\n",
       "       [1119.64],\n",
       "       [1118.  ],\n",
       "       [1113.48],\n",
       "       [1140.  ],\n",
       "       [1130.  ],\n",
       "       [1103.71],\n",
       "       [1112.51],\n",
       "       [1091.29],\n",
       "       [1115.  ],\n",
       "       [1080.3 ],\n",
       "       [1048.33],\n",
       "       [1096.54],\n",
       "       [1020.01],\n",
       "       [1068.2 ],\n",
       "       [1091.4 ],\n",
       "       [1089.  ]])"
      ]
     },
     "execution_count": 23,
     "metadata": {
      "tags": []
     },
     "output_type": "execute_result"
    }
   ],
   "source": [
    "real_stock_price\n",
    "#real_stock_price=np.flipud(real_stock_price)"
   ]
  },
  {
   "cell_type": "code",
   "execution_count": 0,
   "metadata": {
    "colab": {},
    "colab_type": "code",
    "id": "yyWElzzZophx"
   },
   "outputs": [],
   "source": [
    "from sklearn.preprocessing import MinMaxScaler\n",
    "sc = MinMaxScaler(feature_range = (0, 1))\n",
    "training_set_scaled = sc.fit_transform(training_set)"
   ]
  },
  {
   "cell_type": "code",
   "execution_count": 25,
   "metadata": {
    "colab": {
     "base_uri": "https://localhost:8080/",
     "height": 35
    },
    "colab_type": "code",
    "id": "fbMaG0IDpLsf",
    "outputId": "4adb7922-a8bc-4e6c-ffa9-fa0a4cf4e524"
   },
   "outputs": [
    {
     "data": {
      "text/plain": [
       "(1405, 1)"
      ]
     },
     "execution_count": 25,
     "metadata": {
      "tags": []
     },
     "output_type": "execute_result"
    }
   ],
   "source": [
    "training_set_scaled.shape"
   ]
  },
  {
   "cell_type": "code",
   "execution_count": 0,
   "metadata": {
    "colab": {},
    "colab_type": "code",
    "id": "gLGRZ89OpNrN"
   },
   "outputs": [],
   "source": [
    "import numpy as np\n",
    "X_train = []\n",
    "y_train = []\n",
    "for i in range(60, 1405):\n",
    "    X_train.append(training_set_scaled[i-60:i, 0])\n",
    "    y_train.append(training_set_scaled[i, 0])\n",
    "X_train, y_train = np.array(X_train), np.array(y_train)"
   ]
  },
  {
   "cell_type": "code",
   "execution_count": 27,
   "metadata": {
    "colab": {
     "base_uri": "https://localhost:8080/",
     "height": 140
    },
    "colab_type": "code",
    "id": "YyV4CgybpQQl",
    "outputId": "6a1b91c3-57cc-48d3-d8f5-fa0cc9b21634"
   },
   "outputs": [
    {
     "name": "stdout",
     "output_type": "stream",
     "text": [
      "[[0.92731807 0.94420671 1.         ... 0.71512128 0.71577961 0.70219527]\n",
      " [0.94420671 1.         0.97222363 ... 0.71577961 0.70219527 0.65879627]\n",
      " [1.         0.97222363 0.95379045 ... 0.70219527 0.65879627 0.66608852]\n",
      " ...\n",
      " [0.39780726 0.38651441 0.37444928 ... 0.2950195  0.29915937 0.29904542]\n",
      " [0.38651441 0.37444928 0.3858181  ... 0.29915937 0.29904542 0.29131007]\n",
      " [0.37444928 0.3858181  0.38922368 ... 0.29904542 0.29131007 0.28572695]]\n"
     ]
    }
   ],
   "source": [
    "print(X_train)"
   ]
  },
  {
   "cell_type": "code",
   "execution_count": 28,
   "metadata": {
    "colab": {
     "base_uri": "https://localhost:8080/",
     "height": 35
    },
    "colab_type": "code",
    "id": "dNvE7i--pVpb",
    "outputId": "924ae9b0-9d83-4fb9-9912-f60dcee29284"
   },
   "outputs": [
    {
     "name": "stdout",
     "output_type": "stream",
     "text": [
      "[0.65879627 0.66608852 0.67701423 ... 0.29131007 0.28572695 0.2787512 ]\n"
     ]
    }
   ],
   "source": [
    "print(y_train)"
   ]
  },
  {
   "cell_type": "code",
   "execution_count": 0,
   "metadata": {
    "colab": {},
    "colab_type": "code",
    "id": "3bXtKgIOpYDL"
   },
   "outputs": [],
   "source": [
    "X_train = np.reshape(X_train, (X_train.shape[0], X_train.shape[1], 1))"
   ]
  },
  {
   "cell_type": "code",
   "execution_count": 30,
   "metadata": {
    "colab": {
     "base_uri": "https://localhost:8080/",
     "height": 35
    },
    "colab_type": "code",
    "id": "_0y5qOJUpazD",
    "outputId": "eb2de124-f6d8-4394-d353-9e844ddefc9a"
   },
   "outputs": [
    {
     "data": {
      "text/plain": [
       "(1345, 60, 1)"
      ]
     },
     "execution_count": 30,
     "metadata": {
      "tags": []
     },
     "output_type": "execute_result"
    }
   ],
   "source": [
    "\n",
    "X_train.shape"
   ]
  },
  {
   "cell_type": "code",
   "execution_count": 0,
   "metadata": {
    "colab": {},
    "colab_type": "code",
    "id": "99gifmnMpcD3"
   },
   "outputs": [],
   "source": [
    "from keras.models import Sequential\n",
    "from keras.layers import Dense\n",
    "from keras.layers import LSTM,GRU\n",
    "from keras.layers import Dropout\n",
    "from keras.models import Sequential\n",
    "from keras.layers.core import Dense, Dropout, Activation, Flatten\n",
    "from keras.layers.recurrent import LSTM, GRU\n",
    "from keras.layers import Convolution1D, MaxPooling1D, AtrousConvolution1D, RepeatVector\n",
    "from keras.callbacks import ModelCheckpoint, ReduceLROnPlateau, CSVLogger\n",
    "from keras.layers.wrappers import Bidirectional\n",
    "from keras import regularizers\n",
    "from keras.layers.normalization import BatchNormalization\n",
    "from keras.layers.advanced_activations import *\n",
    "from keras.optimizers import RMSprop, Adam, SGD, Nadam\n",
    "from keras.initializers import *"
   ]
  },
  {
   "cell_type": "code",
   "execution_count": 68,
   "metadata": {
    "colab": {
     "base_uri": "https://localhost:8080/",
     "height": 35
    },
    "colab_type": "code",
    "id": "GxERB11sUPzj",
    "outputId": "3558cabb-345a-4c05-c866-d7f78aa7d07e"
   },
   "outputs": [
    {
     "data": {
      "text/plain": [
       "60"
      ]
     },
     "execution_count": 68,
     "metadata": {
      "tags": []
     },
     "output_type": "execute_result"
    }
   ],
   "source": [
    "X_train.shape[1]"
   ]
  },
  {
   "cell_type": "code",
   "execution_count": 0,
   "metadata": {
    "colab": {},
    "colab_type": "code",
    "id": "MTczkD62pyKN"
   },
   "outputs": [],
   "source": [
    "regressor = Sequential()"
   ]
  },
  {
   "cell_type": "code",
   "execution_count": 0,
   "metadata": {
    "colab": {},
    "colab_type": "code",
    "id": "Kt9uvJ2Mp0hU"
   },
   "outputs": [],
   "source": [
    "regressor.add(Bidirectional(GRU(units = 50, return_sequences=True,input_shape = (X_train.shape[1], 1))))\n",
    "regressor.add(Dropout(0.2))"
   ]
  },
  {
   "cell_type": "code",
   "execution_count": 0,
   "metadata": {
    "colab": {},
    "colab_type": "code",
    "id": "tPzeI2g41Vgz"
   },
   "outputs": [],
   "source": [
    "regressor.add(Bidirectional(GRU(units = 50)))\n",
    "regressor.add(Dropout(0.2))"
   ]
  },
  {
   "cell_type": "code",
   "execution_count": 0,
   "metadata": {
    "colab": {},
    "colab_type": "code",
    "id": "QajPokdYp3Oh"
   },
   "outputs": [],
   "source": [
    "#regressor.add(Bidirectional(GRU(units = 50)))\n",
    "#regressor.add(Dropout(0.2))"
   ]
  },
  {
   "cell_type": "code",
   "execution_count": 0,
   "metadata": {
    "colab": {},
    "colab_type": "code",
    "id": "dlNRRZelp90E"
   },
   "outputs": [],
   "source": [
    "#regressor.add(Dense(units = 1))\n",
    "regressor.add(Dense(32,kernel_initializer=\"uniform\",activation='relu'))        \n",
    "regressor.add(Dense(1,kernel_initializer=\"uniform\",activation='linear'))"
   ]
  },
  {
   "cell_type": "code",
   "execution_count": 0,
   "metadata": {
    "colab": {},
    "colab_type": "code",
    "id": "jAdjBgN1qAYD"
   },
   "outputs": [],
   "source": [
    "\n",
    "regressor.compile(optimizer = 'adam', loss = 'mean_squared_error')"
   ]
  },
  {
   "cell_type": "code",
   "execution_count": 75,
   "metadata": {
    "colab": {
     "base_uri": "https://localhost:8080/",
     "height": 1443
    },
    "colab_type": "code",
    "id": "1uwhJZsFqDGd",
    "outputId": "7d589d60-f241-4625-9bfa-6a37ad1847b5"
   },
   "outputs": [
    {
     "name": "stdout",
     "output_type": "stream",
     "text": [
      "Epoch 1/40\n",
      "1345/1345 [==============================] - 5s 4ms/step - loss: 0.2001\n",
      "Epoch 2/40\n",
      "1345/1345 [==============================] - 3s 2ms/step - loss: 0.1675\n",
      "Epoch 3/40\n",
      "1345/1345 [==============================] - 3s 2ms/step - loss: 0.0913\n",
      "Epoch 4/40\n",
      "1345/1345 [==============================] - 3s 2ms/step - loss: 0.0298\n",
      "Epoch 5/40\n",
      "1345/1345 [==============================] - 3s 2ms/step - loss: 0.0246\n",
      "Epoch 6/40\n",
      "1345/1345 [==============================] - 3s 2ms/step - loss: 0.0222\n",
      "Epoch 7/40\n",
      "1345/1345 [==============================] - 3s 2ms/step - loss: 0.0169\n",
      "Epoch 8/40\n",
      "1345/1345 [==============================] - 3s 2ms/step - loss: 0.0143\n",
      "Epoch 9/40\n",
      "1345/1345 [==============================] - 3s 2ms/step - loss: 0.0109\n",
      "Epoch 10/40\n",
      "1345/1345 [==============================] - 3s 2ms/step - loss: 0.0098\n",
      "Epoch 11/40\n",
      "1345/1345 [==============================] - 3s 2ms/step - loss: 0.0076\n",
      "Epoch 12/40\n",
      "1345/1345 [==============================] - 3s 2ms/step - loss: 0.0063\n",
      "Epoch 13/40\n",
      "1345/1345 [==============================] - 3s 2ms/step - loss: 0.0056\n",
      "Epoch 14/40\n",
      "1345/1345 [==============================] - 3s 2ms/step - loss: 0.0052\n",
      "Epoch 15/40\n",
      "1345/1345 [==============================] - 3s 2ms/step - loss: 0.0045\n",
      "Epoch 16/40\n",
      "1345/1345 [==============================] - 3s 2ms/step - loss: 0.0044\n",
      "Epoch 17/40\n",
      "1345/1345 [==============================] - 3s 2ms/step - loss: 0.0043\n",
      "Epoch 18/40\n",
      "1345/1345 [==============================] - 3s 2ms/step - loss: 0.0039\n",
      "Epoch 19/40\n",
      "1345/1345 [==============================] - 3s 2ms/step - loss: 0.0036\n",
      "Epoch 20/40\n",
      "1345/1345 [==============================] - 3s 2ms/step - loss: 0.0035\n",
      "Epoch 21/40\n",
      "1345/1345 [==============================] - 3s 2ms/step - loss: 0.0035\n",
      "Epoch 22/40\n",
      "1345/1345 [==============================] - 3s 2ms/step - loss: 0.0032\n",
      "Epoch 23/40\n",
      "1345/1345 [==============================] - 3s 2ms/step - loss: 0.0031\n",
      "Epoch 24/40\n",
      "1345/1345 [==============================] - 3s 2ms/step - loss: 0.0030\n",
      "Epoch 25/40\n",
      "1345/1345 [==============================] - 3s 2ms/step - loss: 0.0026\n",
      "Epoch 26/40\n",
      "1345/1345 [==============================] - 3s 2ms/step - loss: 0.0027\n",
      "Epoch 27/40\n",
      "1345/1345 [==============================] - 3s 2ms/step - loss: 0.0025\n",
      "Epoch 28/40\n",
      "1345/1345 [==============================] - 3s 2ms/step - loss: 0.0024\n",
      "Epoch 29/40\n",
      "1345/1345 [==============================] - 3s 2ms/step - loss: 0.0025\n",
      "Epoch 30/40\n",
      "1345/1345 [==============================] - 3s 2ms/step - loss: 0.0024\n",
      "Epoch 31/40\n",
      "1345/1345 [==============================] - 3s 2ms/step - loss: 0.0023\n",
      "Epoch 32/40\n",
      "1345/1345 [==============================] - 3s 2ms/step - loss: 0.0023\n",
      "Epoch 33/40\n",
      "1345/1345 [==============================] - 3s 2ms/step - loss: 0.0022\n",
      "Epoch 34/40\n",
      "1345/1345 [==============================] - 3s 2ms/step - loss: 0.0022\n",
      "Epoch 35/40\n",
      "1345/1345 [==============================] - 3s 2ms/step - loss: 0.0022\n",
      "Epoch 36/40\n",
      "1345/1345 [==============================] - 3s 2ms/step - loss: 0.0021\n",
      "Epoch 37/40\n",
      "1345/1345 [==============================] - 3s 2ms/step - loss: 0.0023\n",
      "Epoch 38/40\n",
      "1345/1345 [==============================] - 3s 2ms/step - loss: 0.0021\n",
      "Epoch 39/40\n",
      "1345/1345 [==============================] - 3s 2ms/step - loss: 0.0023\n",
      "Epoch 40/40\n",
      "1345/1345 [==============================] - 3s 2ms/step - loss: 0.0022\n"
     ]
    },
    {
     "data": {
      "text/plain": [
       "<keras.callbacks.History at 0x7f60a498aac8>"
      ]
     },
     "execution_count": 75,
     "metadata": {
      "tags": []
     },
     "output_type": "execute_result"
    }
   ],
   "source": [
    "regressor.fit(X_train, y_train, epochs = 40, batch_size = 256)"
   ]
  },
  {
   "cell_type": "code",
   "execution_count": 0,
   "metadata": {
    "colab": {},
    "colab_type": "code",
    "id": "noE_4CaQqFeO"
   },
   "outputs": [],
   "source": [
    "import pandas as pd\n",
    "dataset_total = pd.concat((train_data['open'], test_data['open']), axis = 0)"
   ]
  },
  {
   "cell_type": "code",
   "execution_count": 0,
   "metadata": {
    "colab": {},
    "colab_type": "code",
    "id": "050Uc0DjunrT"
   },
   "outputs": [],
   "source": [
    "inputs = dataset_total[len(dataset_total) - len(test_data) - 60:].values\n",
    "inputs = inputs.reshape(-1,1)"
   ]
  },
  {
   "cell_type": "code",
   "execution_count": 78,
   "metadata": {
    "colab": {
     "base_uri": "https://localhost:8080/",
     "height": 2252
    },
    "colab_type": "code",
    "id": "aNJu-wvRXuG_",
    "outputId": "81f462be-cd56-448d-b752-199211c6d330"
   },
   "outputs": [
    {
     "data": {
      "text/plain": [
       "array([[1053.89],\n",
       "       [1064.62],\n",
       "       [1064.1 ],\n",
       "       [1095.  ],\n",
       "       [1100.41],\n",
       "       [1105.57],\n",
       "       [1096.9 ],\n",
       "       [1085.09],\n",
       "       [1081.46],\n",
       "       [1066.  ],\n",
       "       [1079.  ],\n",
       "       [1089.8 ],\n",
       "       [1070.  ],\n",
       "       [1086.9 ],\n",
       "       [1086.55],\n",
       "       [1076.  ],\n",
       "       [1073.48],\n",
       "       [1082.  ],\n",
       "       [1112.87],\n",
       "       [1138.5 ],\n",
       "       [1154.66],\n",
       "       [1152.77],\n",
       "       [1144.58],\n",
       "       [1131.21],\n",
       "       [1132.94],\n",
       "       [1141.02],\n",
       "       [1152.28],\n",
       "       [1152.21],\n",
       "       [1159.92],\n",
       "       [1152.69],\n",
       "       [1170.11],\n",
       "       [1183.3 ],\n",
       "       [1185.51],\n",
       "       [1171.49],\n",
       "       [1155.  ],\n",
       "       [1144.14],\n",
       "       [1136.  ],\n",
       "       [1112.39],\n",
       "       [1132.31],\n",
       "       [1115.35],\n",
       "       [1149.42],\n",
       "       [1124.6 ],\n",
       "       [1141.77],\n",
       "       [1160.  ],\n",
       "       [1169.99],\n",
       "       [1155.62],\n",
       "       [1174.86],\n",
       "       [1202.8 ],\n",
       "       [1203.81],\n",
       "       [1182.74],\n",
       "       [1208.53],\n",
       "       [1206.65],\n",
       "       [1199.24],\n",
       "       [1195.66],\n",
       "       [1271.  ],\n",
       "       [1252.62],\n",
       "       [1267.18],\n",
       "       [1289.12],\n",
       "       [1245.05],\n",
       "       [1231.71],\n",
       "       [1239.11],\n",
       "       [1218.5 ],\n",
       "       [1245.18],\n",
       "       [1241.61],\n",
       "       [1252.01],\n",
       "       [1256.72],\n",
       "       [1262.73],\n",
       "       [1259.18],\n",
       "       [1251.2 ],\n",
       "       [1252.5 ],\n",
       "       [1244.28],\n",
       "       [1241.99],\n",
       "       [1222.04],\n",
       "       [1220.66],\n",
       "       [1223.02],\n",
       "       [1214.22],\n",
       "       [1219.88],\n",
       "       [1226.  ],\n",
       "       [1244.14],\n",
       "       [1255.9 ],\n",
       "       [1255.  ],\n",
       "       [1263.4 ],\n",
       "       [1252.21],\n",
       "       [1222.52],\n",
       "       [1209.22],\n",
       "       [1198.57],\n",
       "       [1172.  ],\n",
       "       [1184.2 ],\n",
       "       [1171.1 ],\n",
       "       [1182.  ],\n",
       "       [1179.7 ],\n",
       "       [1188.  ],\n",
       "       [1177.77],\n",
       "       [1162.66],\n",
       "       [1168.96],\n",
       "       [1180.67],\n",
       "       [1194.92],\n",
       "       [1159.41],\n",
       "       [1184.25],\n",
       "       [1193.69],\n",
       "       [1200.  ],\n",
       "       [1204.09],\n",
       "       [1213.  ],\n",
       "       [1206.67],\n",
       "       [1212.  ],\n",
       "       [1205.03],\n",
       "       [1176.  ],\n",
       "       [1160.  ],\n",
       "       [1151.31],\n",
       "       [1136.4 ],\n",
       "       [1079.04],\n",
       "       [1119.64],\n",
       "       [1118.  ],\n",
       "       [1113.48],\n",
       "       [1140.  ],\n",
       "       [1130.  ],\n",
       "       [1103.71],\n",
       "       [1112.51],\n",
       "       [1091.29],\n",
       "       [1115.  ],\n",
       "       [1080.3 ],\n",
       "       [1048.33],\n",
       "       [1096.54],\n",
       "       [1020.01],\n",
       "       [1068.2 ],\n",
       "       [1091.4 ],\n",
       "       [1089.  ]])"
      ]
     },
     "execution_count": 78,
     "metadata": {
      "tags": []
     },
     "output_type": "execute_result"
    }
   ],
   "source": [
    "inputs"
   ]
  },
  {
   "cell_type": "code",
   "execution_count": 79,
   "metadata": {
    "colab": {
     "base_uri": "https://localhost:8080/",
     "height": 35
    },
    "colab_type": "code",
    "id": "Co3afBUtu05u",
    "outputId": "34fdbf8c-c363-4eee-a158-179cef1598cf"
   },
   "outputs": [
    {
     "data": {
      "text/plain": [
       "127"
      ]
     },
     "execution_count": 79,
     "metadata": {
      "tags": []
     },
     "output_type": "execute_result"
    }
   ],
   "source": [
    "len(inputs)"
   ]
  },
  {
   "cell_type": "code",
   "execution_count": 0,
   "metadata": {
    "colab": {},
    "colab_type": "code",
    "id": "BKQioroUu749"
   },
   "outputs": [],
   "source": [
    "inputs = sc.transform(inputs)\n",
    "X_test = []\n",
    "for i in range(60, 127):\n",
    "    X_test.append(inputs[i-60:i, 0])\n",
    "X_test = np.array(X_test)\n",
    "X_test = np.reshape(X_test, (X_test.shape[0], X_test.shape[1], 1))\n",
    "predicted_stock_price = regressor.predict(X_test)\n",
    "predicted_stock_price = sc.inverse_transform(predicted_stock_price)"
   ]
  },
  {
   "cell_type": "code",
   "execution_count": 0,
   "metadata": {
    "colab": {},
    "colab_type": "code",
    "id": "bqzUD0NlZjIJ"
   },
   "outputs": [],
   "source": [
    "#sc.inverse_transform(regressor.predict(np.reshape(X_test[0],(1,60,1))))"
   ]
  },
  {
   "cell_type": "code",
   "execution_count": 82,
   "metadata": {
    "colab": {
     "base_uri": "https://localhost:8080/",
     "height": 35
    },
    "colab_type": "code",
    "id": "u9S-fy_pdDD_",
    "outputId": "cd37044d-3662-4b37-923f-b3bb01a3e4f6"
   },
   "outputs": [
    {
     "data": {
      "text/plain": [
       "(67, 60, 1)"
      ]
     },
     "execution_count": 82,
     "metadata": {
      "tags": []
     },
     "output_type": "execute_result"
    }
   ],
   "source": [
    "XTest=np.reshape(X_test[0],(1,60,1))\n",
    "X_test.shape"
   ]
  },
  {
   "cell_type": "code",
   "execution_count": 0,
   "metadata": {
    "colab": {},
    "colab_type": "code",
    "id": "e7VTNQyHn-a7"
   },
   "outputs": [],
   "source": [
    "#XTest=np.reshape(XTest,(60))\n",
    "#XTest=np.delete(XTest,0)\n",
    "#print(XTest.shape)\n",
    "#XTest=np.append(XTest,10)\n",
    "#XTest.shape"
   ]
  },
  {
   "cell_type": "code",
   "execution_count": 0,
   "metadata": {
    "colab": {},
    "colab_type": "code",
    "id": "-L56-1Y3bioV"
   },
   "outputs": [],
   "source": [
    "\n",
    "predicted=[]\n",
    "for i in range(30):\n",
    "\n",
    "  p=sc.inverse_transform(regressor.predict(XTest))\n",
    "  predicted.append(sc.inverse_transform(regressor.predict(XTest)))\n",
    "  XTest=np.reshape(XTest,(60))\n",
    "  XTest=np.delete(XTest,0)\n",
    "  XTest=np.append(XTest,sc.transform(p))\n",
    "  XTest=np.reshape(XTest,(1,60,1))"
   ]
  },
  {
   "cell_type": "code",
   "execution_count": 0,
   "metadata": {
    "colab": {},
    "colab_type": "code",
    "id": "0f05T4jxcK8l"
   },
   "outputs": [],
   "source": [
    "predicted_stock_price_30days=np.reshape(predicted,(30,1))"
   ]
  },
  {
   "cell_type": "code",
   "execution_count": 86,
   "metadata": {
    "colab": {
     "base_uri": "https://localhost:8080/",
     "height": 1196
    },
    "colab_type": "code",
    "id": "71adl5sizQFr",
    "outputId": "8ca271a5-cf2d-477d-dc32-ff36de97066f"
   },
   "outputs": [
    {
     "data": {
      "text/plain": [
       "array([[1205.6798],\n",
       "       [1200.846 ],\n",
       "       [1191.8674],\n",
       "       [1192.3887],\n",
       "       [1193.1553],\n",
       "       [1196.992 ],\n",
       "       [1201.5433],\n",
       "       [1206.4843],\n",
       "       [1208.8898],\n",
       "       [1208.0266],\n",
       "       [1207.0505],\n",
       "       [1204.0745],\n",
       "       [1201.1931],\n",
       "       [1193.4076],\n",
       "       [1187.2018],\n",
       "       [1183.5234],\n",
       "       [1180.4916],\n",
       "       [1180.3131],\n",
       "       [1182.3892],\n",
       "       [1188.4293],\n",
       "       [1195.7631],\n",
       "       [1200.6633],\n",
       "       [1205.7482],\n",
       "       [1206.6332],\n",
       "       [1199.9673],\n",
       "       [1191.2119],\n",
       "       [1182.0662],\n",
       "       [1169.0884],\n",
       "       [1162.6587],\n",
       "       [1155.774 ],\n",
       "       [1154.1016],\n",
       "       [1152.9095],\n",
       "       [1154.1234],\n",
       "       [1152.6337],\n",
       "       [1147.6287],\n",
       "       [1145.2339],\n",
       "       [1146.7262],\n",
       "       [1151.9749],\n",
       "       [1148.0404],\n",
       "       [1150.2285],\n",
       "       [1155.124 ],\n",
       "       [1160.2317],\n",
       "       [1165.6182],\n",
       "       [1171.5703],\n",
       "       [1174.1814],\n",
       "       [1176.9263],\n",
       "       [1177.5073],\n",
       "       [1170.4639],\n",
       "       [1160.3214],\n",
       "       [1150.5957],\n",
       "       [1140.5793],\n",
       "       [1119.0114],\n",
       "       [1112.8276],\n",
       "       [1110.4254],\n",
       "       [1109.1354],\n",
       "       [1114.5   ],\n",
       "       [1117.2587],\n",
       "       [1112.1803],\n",
       "       [1109.1896],\n",
       "       [1102.2601],\n",
       "       [1102.992 ],\n",
       "       [1095.5679],\n",
       "       [1081.696 ],\n",
       "       [1082.7222],\n",
       "       [1065.861 ],\n",
       "       [1064.0692],\n",
       "       [1070.4236]], dtype=float32)"
      ]
     },
     "execution_count": 86,
     "metadata": {
      "tags": []
     },
     "output_type": "execute_result"
    }
   ],
   "source": [
    "predicted_stock_price"
   ]
  },
  {
   "cell_type": "code",
   "execution_count": 87,
   "metadata": {
    "colab": {
     "base_uri": "https://localhost:8080/",
     "height": 418
    },
    "colab_type": "code",
    "id": "3Waiprj1vJWH",
    "outputId": "444ffa95-c7c3-47db-fd9e-c85c6cd05e60"
   },
   "outputs": [
    {
     "data": {
      "image/png": "[encoded data removed]",
      "text/plain": [
       "<matplotlib.figure.Figure at 0x7f60a2749358>"
      ]
     },
     "metadata": {
      "tags": []
     },
     "output_type": "display_data"
    }
   ],
   "source": [
    "import matplotlib.pyplot as plt\n",
    "plt.plot(real_stock_price, color = 'red', label = 'Real Google Stock Price')\n",
    "plt.plot(predicted_stock_price, color = 'blue', label = 'Predicted Google Stock Price - One step time series forecast')\n",
    "plt.plot(predicted_stock_price_30days, color = 'orange', label = 'Predicted Google Stock Price - Multistep time series forecast')\n",
    "plt.ylim(700,1400)\n",
    "plt.xticks(np.arange(67),test_data['timestamp'], rotation='vertical')\n",
    "plt.title('Google Stock Price Prediction')\n",
    "plt.xlabel('Time')\n",
    "plt.ylabel('Google Stock Price')\n",
    "plt.legend()\n",
    "plt.show()"
   ]
  },
  {
   "cell_type": "code",
   "execution_count": 88,
   "metadata": {
    "colab": {
     "base_uri": "https://localhost:8080/",
     "height": 35
    },
    "colab_type": "code",
    "id": "ZBrsK2ky5SrI",
    "outputId": "01173b50-419e-48a2-b87b-8588f5c89701"
   },
   "outputs": [
    {
     "data": {
      "text/plain": [
       "(67, 1)"
      ]
     },
     "execution_count": 88,
     "metadata": {
      "tags": []
     },
     "output_type": "execute_result"
    }
   ],
   "source": [
    "real_stock_price.shape"
   ]
  },
  {
   "cell_type": "code",
   "execution_count": 89,
   "metadata": {
    "colab": {
     "base_uri": "https://localhost:8080/",
     "height": 35
    },
    "colab_type": "code",
    "id": "_03-NUDNiaXS",
    "outputId": "77e85ee9-2d6f-4537-c03e-19b7ae31790a"
   },
   "outputs": [
    {
     "data": {
      "text/plain": [
       "36.00847498461268"
      ]
     },
     "execution_count": 89,
     "metadata": {
      "tags": []
     },
     "output_type": "execute_result"
    }
   ],
   "source": [
    "from sklearn import metrics\n",
    "np.sqrt(metrics.mean_squared_error(real_stock_price,predicted_stock_price[0:67]))"
   ]
  },
  {
   "cell_type": "code",
   "execution_count": 0,
   "metadata": {
    "colab": {},
    "colab_type": "code",
    "id": "dmFsSQkSvMo5"
   },
   "outputs": [],
   "source": [
    "def cal_target(df):\n",
    "    list_y =[]\n",
    "    temp = df\n",
    "    for i in range(len(temp)-1):\n",
    "        if temp[i+1] > temp[i]:\n",
    "            y = 1\n",
    "        else:\n",
    "            y = -1\n",
    "            \n",
    "        list_y.append(y)\n",
    "    ydf = pd.DataFrame(list_y)\n",
    "    return ydf"
   ]
  },
  {
   "cell_type": "code",
   "execution_count": 0,
   "metadata": {
    "colab": {},
    "colab_type": "code",
    "id": "IoNs9gq-vraT"
   },
   "outputs": [],
   "source": [
    "real_stock_price_trend = cal_target(real_stock_price)\n",
    "predicted_stock_price_trend =cal_target(predicted_stock_price[0:67])"
   ]
  },
  {
   "cell_type": "code",
   "execution_count": 92,
   "metadata": {
    "colab": {
     "base_uri": "https://localhost:8080/",
     "height": 1957
    },
    "colab_type": "code",
    "id": "9kSX7y2bvtsI",
    "outputId": "1b00e571-d6cf-4d96-8e9e-8f84e6585ff3"
   },
   "outputs": [
    {
     "data": {
      "text/html": [
       "<div>\n",
       "<style scoped>\n",
       "    .dataframe tbody tr th:only-of-type {\n",
       "        vertical-align: middle;\n",
       "    }\n",
       "\n",
       "    .dataframe tbody tr th {\n",
       "        vertical-align: top;\n",
       "    }\n",
       "\n",
       "    .dataframe thead th {\n",
       "        text-align: right;\n",
       "    }\n",
       "</style>\n",
       "<table border=\"1\" class=\"dataframe\">\n",
       "  <thead>\n",
       "    <tr style=\"text-align: right;\">\n",
       "      <th></th>\n",
       "      <th>0</th>\n",
       "      <th>0</th>\n",
       "    </tr>\n",
       "  </thead>\n",
       "  <tbody>\n",
       "    <tr>\n",
       "      <th>0</th>\n",
       "      <td>-1</td>\n",
       "      <td>-1</td>\n",
       "    </tr>\n",
       "    <tr>\n",
       "      <th>1</th>\n",
       "      <td>1</td>\n",
       "      <td>-1</td>\n",
       "    </tr>\n",
       "    <tr>\n",
       "      <th>2</th>\n",
       "      <td>-1</td>\n",
       "      <td>1</td>\n",
       "    </tr>\n",
       "    <tr>\n",
       "      <th>3</th>\n",
       "      <td>1</td>\n",
       "      <td>1</td>\n",
       "    </tr>\n",
       "    <tr>\n",
       "      <th>4</th>\n",
       "      <td>1</td>\n",
       "      <td>1</td>\n",
       "    </tr>\n",
       "    <tr>\n",
       "      <th>5</th>\n",
       "      <td>1</td>\n",
       "      <td>1</td>\n",
       "    </tr>\n",
       "    <tr>\n",
       "      <th>6</th>\n",
       "      <td>-1</td>\n",
       "      <td>1</td>\n",
       "    </tr>\n",
       "    <tr>\n",
       "      <th>7</th>\n",
       "      <td>-1</td>\n",
       "      <td>1</td>\n",
       "    </tr>\n",
       "    <tr>\n",
       "      <th>8</th>\n",
       "      <td>1</td>\n",
       "      <td>-1</td>\n",
       "    </tr>\n",
       "    <tr>\n",
       "      <th>9</th>\n",
       "      <td>-1</td>\n",
       "      <td>-1</td>\n",
       "    </tr>\n",
       "    <tr>\n",
       "      <th>10</th>\n",
       "      <td>-1</td>\n",
       "      <td>-1</td>\n",
       "    </tr>\n",
       "    <tr>\n",
       "      <th>11</th>\n",
       "      <td>-1</td>\n",
       "      <td>-1</td>\n",
       "    </tr>\n",
       "    <tr>\n",
       "      <th>12</th>\n",
       "      <td>-1</td>\n",
       "      <td>-1</td>\n",
       "    </tr>\n",
       "    <tr>\n",
       "      <th>13</th>\n",
       "      <td>1</td>\n",
       "      <td>-1</td>\n",
       "    </tr>\n",
       "    <tr>\n",
       "      <th>14</th>\n",
       "      <td>-1</td>\n",
       "      <td>-1</td>\n",
       "    </tr>\n",
       "    <tr>\n",
       "      <th>15</th>\n",
       "      <td>1</td>\n",
       "      <td>-1</td>\n",
       "    </tr>\n",
       "    <tr>\n",
       "      <th>16</th>\n",
       "      <td>1</td>\n",
       "      <td>-1</td>\n",
       "    </tr>\n",
       "    <tr>\n",
       "      <th>17</th>\n",
       "      <td>1</td>\n",
       "      <td>1</td>\n",
       "    </tr>\n",
       "    <tr>\n",
       "      <th>18</th>\n",
       "      <td>1</td>\n",
       "      <td>1</td>\n",
       "    </tr>\n",
       "    <tr>\n",
       "      <th>19</th>\n",
       "      <td>-1</td>\n",
       "      <td>1</td>\n",
       "    </tr>\n",
       "    <tr>\n",
       "      <th>20</th>\n",
       "      <td>1</td>\n",
       "      <td>1</td>\n",
       "    </tr>\n",
       "    <tr>\n",
       "      <th>21</th>\n",
       "      <td>-1</td>\n",
       "      <td>1</td>\n",
       "    </tr>\n",
       "    <tr>\n",
       "      <th>22</th>\n",
       "      <td>-1</td>\n",
       "      <td>1</td>\n",
       "    </tr>\n",
       "    <tr>\n",
       "      <th>23</th>\n",
       "      <td>-1</td>\n",
       "      <td>-1</td>\n",
       "    </tr>\n",
       "    <tr>\n",
       "      <th>24</th>\n",
       "      <td>-1</td>\n",
       "      <td>-1</td>\n",
       "    </tr>\n",
       "    <tr>\n",
       "      <th>25</th>\n",
       "      <td>-1</td>\n",
       "      <td>-1</td>\n",
       "    </tr>\n",
       "    <tr>\n",
       "      <th>26</th>\n",
       "      <td>1</td>\n",
       "      <td>-1</td>\n",
       "    </tr>\n",
       "    <tr>\n",
       "      <th>27</th>\n",
       "      <td>-1</td>\n",
       "      <td>-1</td>\n",
       "    </tr>\n",
       "    <tr>\n",
       "      <th>28</th>\n",
       "      <td>1</td>\n",
       "      <td>-1</td>\n",
       "    </tr>\n",
       "    <tr>\n",
       "      <th>29</th>\n",
       "      <td>-1</td>\n",
       "      <td>-1</td>\n",
       "    </tr>\n",
       "    <tr>\n",
       "      <th>...</th>\n",
       "      <td>...</td>\n",
       "      <td>...</td>\n",
       "    </tr>\n",
       "    <tr>\n",
       "      <th>36</th>\n",
       "      <td>-1</td>\n",
       "      <td>1</td>\n",
       "    </tr>\n",
       "    <tr>\n",
       "      <th>37</th>\n",
       "      <td>1</td>\n",
       "      <td>-1</td>\n",
       "    </tr>\n",
       "    <tr>\n",
       "      <th>38</th>\n",
       "      <td>1</td>\n",
       "      <td>1</td>\n",
       "    </tr>\n",
       "    <tr>\n",
       "      <th>39</th>\n",
       "      <td>1</td>\n",
       "      <td>1</td>\n",
       "    </tr>\n",
       "    <tr>\n",
       "      <th>40</th>\n",
       "      <td>1</td>\n",
       "      <td>1</td>\n",
       "    </tr>\n",
       "    <tr>\n",
       "      <th>41</th>\n",
       "      <td>1</td>\n",
       "      <td>1</td>\n",
       "    </tr>\n",
       "    <tr>\n",
       "      <th>42</th>\n",
       "      <td>-1</td>\n",
       "      <td>1</td>\n",
       "    </tr>\n",
       "    <tr>\n",
       "      <th>43</th>\n",
       "      <td>1</td>\n",
       "      <td>1</td>\n",
       "    </tr>\n",
       "    <tr>\n",
       "      <th>44</th>\n",
       "      <td>-1</td>\n",
       "      <td>1</td>\n",
       "    </tr>\n",
       "    <tr>\n",
       "      <th>45</th>\n",
       "      <td>-1</td>\n",
       "      <td>1</td>\n",
       "    </tr>\n",
       "    <tr>\n",
       "      <th>46</th>\n",
       "      <td>-1</td>\n",
       "      <td>-1</td>\n",
       "    </tr>\n",
       "    <tr>\n",
       "      <th>47</th>\n",
       "      <td>-1</td>\n",
       "      <td>-1</td>\n",
       "    </tr>\n",
       "    <tr>\n",
       "      <th>48</th>\n",
       "      <td>-1</td>\n",
       "      <td>-1</td>\n",
       "    </tr>\n",
       "    <tr>\n",
       "      <th>49</th>\n",
       "      <td>-1</td>\n",
       "      <td>-1</td>\n",
       "    </tr>\n",
       "    <tr>\n",
       "      <th>50</th>\n",
       "      <td>1</td>\n",
       "      <td>-1</td>\n",
       "    </tr>\n",
       "    <tr>\n",
       "      <th>51</th>\n",
       "      <td>-1</td>\n",
       "      <td>-1</td>\n",
       "    </tr>\n",
       "    <tr>\n",
       "      <th>52</th>\n",
       "      <td>-1</td>\n",
       "      <td>-1</td>\n",
       "    </tr>\n",
       "    <tr>\n",
       "      <th>53</th>\n",
       "      <td>1</td>\n",
       "      <td>-1</td>\n",
       "    </tr>\n",
       "    <tr>\n",
       "      <th>54</th>\n",
       "      <td>-1</td>\n",
       "      <td>1</td>\n",
       "    </tr>\n",
       "    <tr>\n",
       "      <th>55</th>\n",
       "      <td>-1</td>\n",
       "      <td>1</td>\n",
       "    </tr>\n",
       "    <tr>\n",
       "      <th>56</th>\n",
       "      <td>1</td>\n",
       "      <td>-1</td>\n",
       "    </tr>\n",
       "    <tr>\n",
       "      <th>57</th>\n",
       "      <td>-1</td>\n",
       "      <td>-1</td>\n",
       "    </tr>\n",
       "    <tr>\n",
       "      <th>58</th>\n",
       "      <td>1</td>\n",
       "      <td>-1</td>\n",
       "    </tr>\n",
       "    <tr>\n",
       "      <th>59</th>\n",
       "      <td>-1</td>\n",
       "      <td>1</td>\n",
       "    </tr>\n",
       "    <tr>\n",
       "      <th>60</th>\n",
       "      <td>-1</td>\n",
       "      <td>-1</td>\n",
       "    </tr>\n",
       "    <tr>\n",
       "      <th>61</th>\n",
       "      <td>1</td>\n",
       "      <td>-1</td>\n",
       "    </tr>\n",
       "    <tr>\n",
       "      <th>62</th>\n",
       "      <td>-1</td>\n",
       "      <td>1</td>\n",
       "    </tr>\n",
       "    <tr>\n",
       "      <th>63</th>\n",
       "      <td>1</td>\n",
       "      <td>-1</td>\n",
       "    </tr>\n",
       "    <tr>\n",
       "      <th>64</th>\n",
       "      <td>1</td>\n",
       "      <td>-1</td>\n",
       "    </tr>\n",
       "    <tr>\n",
       "      <th>65</th>\n",
       "      <td>-1</td>\n",
       "      <td>1</td>\n",
       "    </tr>\n",
       "  </tbody>\n",
       "</table>\n",
       "<p>66 rows × 2 columns</p>\n",
       "</div>"
      ],
      "text/plain": [
       "    0  0\n",
       "0  -1 -1\n",
       "1   1 -1\n",
       "2  -1  1\n",
       "3   1  1\n",
       "4   1  1\n",
       "5   1  1\n",
       "6  -1  1\n",
       "7  -1  1\n",
       "8   1 -1\n",
       "9  -1 -1\n",
       "10 -1 -1\n",
       "11 -1 -1\n",
       "12 -1 -1\n",
       "13  1 -1\n",
       "14 -1 -1\n",
       "15  1 -1\n",
       "16  1 -1\n",
       "17  1  1\n",
       "18  1  1\n",
       "19 -1  1\n",
       "20  1  1\n",
       "21 -1  1\n",
       "22 -1  1\n",
       "23 -1 -1\n",
       "24 -1 -1\n",
       "25 -1 -1\n",
       "26  1 -1\n",
       "27 -1 -1\n",
       "28  1 -1\n",
       "29 -1 -1\n",
       ".. .. ..\n",
       "36 -1  1\n",
       "37  1 -1\n",
       "38  1  1\n",
       "39  1  1\n",
       "40  1  1\n",
       "41  1  1\n",
       "42 -1  1\n",
       "43  1  1\n",
       "44 -1  1\n",
       "45 -1  1\n",
       "46 -1 -1\n",
       "47 -1 -1\n",
       "48 -1 -1\n",
       "49 -1 -1\n",
       "50  1 -1\n",
       "51 -1 -1\n",
       "52 -1 -1\n",
       "53  1 -1\n",
       "54 -1  1\n",
       "55 -1  1\n",
       "56  1 -1\n",
       "57 -1 -1\n",
       "58  1 -1\n",
       "59 -1  1\n",
       "60 -1 -1\n",
       "61  1 -1\n",
       "62 -1  1\n",
       "63  1 -1\n",
       "64  1 -1\n",
       "65 -1  1\n",
       "\n",
       "[66 rows x 2 columns]"
      ]
     },
     "execution_count": 92,
     "metadata": {
      "tags": []
     },
     "output_type": "execute_result"
    }
   ],
   "source": [
    "real_df = pd.DataFrame(real_stock_price_trend)\n",
    "pred_df = pd.DataFrame(predicted_stock_price_trend)\n",
    "acc_df = pd.concat((real_df[0],pred_df[0]), axis=1)\n",
    "acc_df.head(100)"
   ]
  },
  {
   "cell_type": "code",
   "execution_count": 93,
   "metadata": {
    "colab": {
     "base_uri": "https://localhost:8080/",
     "height": 35
    },
    "colab_type": "code",
    "id": "Tg-WiVNFvwsS",
    "outputId": "708e2d04-1932-4198-c5c2-c3a26b1c2d46"
   },
   "outputs": [
    {
     "name": "stdout",
     "output_type": "stream",
     "text": [
      "0.48484848484848486\n"
     ]
    }
   ],
   "source": [
    "from sklearn.metrics import accuracy_score\n",
    "score = accuracy_score(real_stock_price_trend, predicted_stock_price_trend)\n",
    "print(score)"
   ]
  },
  {
   "cell_type": "code",
   "execution_count": 94,
   "metadata": {
    "colab": {
     "base_uri": "https://localhost:8080/",
     "height": 140
    },
    "colab_type": "code",
    "id": "m5hB6W0Tvzbi",
    "outputId": "c454c56a-c83e-4338-ed57-fba57328e192"
   },
   "outputs": [
    {
     "name": "stdout",
     "output_type": "stream",
     "text": [
      "             precision    recall  f1-score   support\n",
      "\n",
      "         -1       0.53      0.56      0.54        36\n",
      "          1       0.43      0.40      0.41        30\n",
      "\n",
      "avg / total       0.48      0.48      0.48        66\n",
      "\n"
     ]
    }
   ],
   "source": [
    "from sklearn.metrics import classification_report\n",
    "print(classification_report(real_stock_price_trend, predicted_stock_price_trend))"
   ]
  },
  {
   "cell_type": "code",
   "execution_count": 95,
   "metadata": {
    "colab": {
     "base_uri": "https://localhost:8080/",
     "height": 35
    },
    "colab_type": "code",
    "id": "hn0-2hiKQUWS",
    "outputId": "e4d61cd0-4bd7-4138-aab2-976701770eed"
   },
   "outputs": [
    {
     "data": {
      "text/plain": [
       "0.4137931034482759"
      ]
     },
     "execution_count": 95,
     "metadata": {
      "tags": []
     },
     "output_type": "execute_result"
    }
   ],
   "source": [
    "from sklearn.metrics import f1_score\n",
    "f1_score(real_stock_price_trend, predicted_stock_price_trend)"
   ]
  },
  {
   "cell_type": "markdown",
   "metadata": {
    "colab_type": "text",
    "id": "dHJSNl4S5PJK"
   },
   "source": [
    "## Hyper Parameter Tuning"
   ]
  },
  {
   "cell_type": "markdown",
   "metadata": {
    "colab_type": "text",
    "id": "0YTXimC65W7K"
   },
   "source": [
    "### Testing GRU model with different values of Epochs"
   ]
  },
  {
   "cell_type": "code",
   "execution_count": 120,
   "metadata": {
    "colab": {
     "base_uri": "https://localhost:8080/",
     "height": 651
    },
    "colab_type": "code",
    "id": "pQJx2kuEBAnF",
    "outputId": "dd71f3f1-714b-4964-8ba1-828a53da7fd3"
   },
   "outputs": [
    {
     "name": "stdout",
     "output_type": "stream",
     "text": [
      "For Epoch 10 \n",
      "\n",
      " RMSE value for 10 ephocs is 61.73500056138668 \n",
      "\n",
      "For Epoch 20 \n",
      "\n",
      " RMSE value for 20 ephocs is 40.58783104433316 \n",
      "\n",
      "For Epoch 30 \n",
      "\n",
      " RMSE value for 30 ephocs is 32.005214546390185 \n",
      "\n",
      "For Epoch 40 \n",
      "\n",
      " RMSE value for 40 ephocs is 24.04223083081342 \n",
      "\n",
      "For Epoch 50 \n",
      "\n",
      " RMSE value for 50 ephocs is 37.58040707450245 \n",
      "\n",
      "For Epoch 60 \n",
      "\n",
      " RMSE value for 60 ephocs is 22.186437877430723 \n",
      "\n",
      "For Epoch 70 \n",
      "\n",
      " RMSE value for 70 ephocs is 32.28298769508181 \n",
      "\n",
      "For Epoch 80 \n",
      "\n",
      " RMSE value for 80 ephocs is 33.89312866430772 \n",
      "\n",
      "For Epoch 90 \n",
      "\n",
      " RMSE value for 90 ephocs is 20.658229551249697 \n",
      "\n"
     ]
    }
   ],
   "source": [
    "for i in range(1,10):\n",
    "  print (f'For Epoch {10*i} \\n')\n",
    "  regressor = Sequential()\n",
    "  regressor.add(Bidirectional(GRU(units = 50, return_sequences=True,input_shape = (X_train.shape[1], 1))))\n",
    "  regressor.add(Dropout(0.2))\n",
    "  regressor.add(Bidirectional(GRU(units = 50)))\n",
    "  regressor.add(Dropout(0.2))\n",
    "  regressor.add(Dense(32,kernel_initializer=\"uniform\",activation='relu'))        \n",
    "  regressor.add(Dense(1,kernel_initializer=\"uniform\",activation='linear'))\n",
    "  regressor.compile(optimizer = 'adam', loss = 'mean_squared_error')\n",
    "  regressor.fit(X_train, y_train, epochs = 10*i, batch_size = 256,verbose=0)\n",
    "  predicted_stock_price = regressor.predict(X_test)\n",
    "  predicted_stock_price = sc.inverse_transform(predicted_stock_price)\n",
    "  print(f' RMSE value for {i*10} ephocs is {np.sqrt(metrics.mean_squared_error(real_stock_price,predicted_stock_price[0:67]))} \\n')"
   ]
  },
  {
   "cell_type": "markdown",
   "metadata": {
    "colab_type": "text",
    "id": "vDlvIE7PWceN"
   },
   "source": [
    "#### GRU model works best for 40,60 and 90 ephocs."
   ]
  },
  {
   "cell_type": "markdown",
   "metadata": {
    "colab_type": "text",
    "id": "QZD5BJaf5lkx"
   },
   "source": [
    "### Testing GRU model with different batch sizes"
   ]
  },
  {
   "cell_type": "code",
   "execution_count": 109,
   "metadata": {
    "colab": {
     "base_uri": "https://localhost:8080/",
     "height": 369
    },
    "colab_type": "code",
    "id": "PjMMzZvsWkPd",
    "outputId": "b567908d-c635-49d1-86e1-140ca5c2478d"
   },
   "outputs": [
    {
     "name": "stdout",
     "output_type": "stream",
     "text": [
      "For Batch size of  100 \n",
      "\n",
      " RMSE value for batch size of  100 is 33.220981951098345 \n",
      "\n",
      "For Batch size of  200 \n",
      "\n",
      " RMSE value for batch size of  200 is 34.584579749285176 \n",
      "\n",
      "For Batch size of  256 \n",
      "\n",
      " RMSE value for batch size of  256 is 35.626823254289306 \n",
      "\n",
      "For Batch size of  300 \n",
      "\n",
      " RMSE value for batch size of  300 is 35.48041383810188 \n",
      "\n",
      "For Batch size of  400 \n",
      "\n",
      " RMSE value for batch size of  400 is 30.537724526396605 \n",
      "\n"
     ]
    }
   ],
   "source": [
    "batch = [100,200,256,300,400]\n",
    "for i in batch:\n",
    "  print (f'For Batch size of  {i} \\n')\n",
    "  regressor = Sequential()\n",
    "  regressor.add(Bidirectional(GRU(units = 50, return_sequences=True,input_shape = (X_train.shape[1], 1))))\n",
    "  regressor.add(Dropout(0.2))\n",
    "  regressor.add(Bidirectional(GRU(units = 50)))\n",
    "  regressor.add(Dropout(0.2))\n",
    "  regressor.add(Dense(32,kernel_initializer=\"uniform\",activation='relu'))        \n",
    "  regressor.add(Dense(1,kernel_initializer=\"uniform\",activation='linear'))\n",
    "  regressor.compile(optimizer = 'adam', loss = 'mean_squared_error')\n",
    "  regressor.fit(X_train, y_train, epochs = 40, batch_size = i,verbose=0)\n",
    "  predicted_stock_price = regressor.predict(X_test)\n",
    "  predicted_stock_price = sc.inverse_transform(predicted_stock_price)\n",
    "  print(f' RMSE value for batch size of  {i} is {np.sqrt(metrics.mean_squared_error(real_stock_price,predicted_stock_price[0:67]))} \\n')\n",
    "  "
   ]
  },
  {
   "cell_type": "markdown",
   "metadata": {
    "colab_type": "text",
    "id": "iLN0ZDxwhiQO"
   },
   "source": [
    "#### By changing the Batch size, the variation in RMSE values has differed by 1 or 2 percent which implies that batch size didn't effect the model performance."
   ]
  },
  {
   "cell_type": "markdown",
   "metadata": {
    "colab_type": "text",
    "id": "cOuOtv-H5tvj"
   },
   "source": [
    "### Testing GRU model with different types of Activation functions"
   ]
  },
  {
   "cell_type": "code",
   "execution_count": 117,
   "metadata": {
    "colab": {
     "base_uri": "https://localhost:8080/",
     "height": 439
    },
    "colab_type": "code",
    "id": "ofc_S4n1h80f",
    "outputId": "07c1a51e-f201-4c9a-ee5c-44c1b3583ab7"
   },
   "outputs": [
    {
     "name": "stdout",
     "output_type": "stream",
     "text": [
      "Activation function = relu \n",
      "\n",
      " RMSE value for relu activation function is 24.012969061234003 \n",
      "\n",
      "Activation function = linear \n",
      "\n",
      " RMSE value for linear activation function is 23.43297168712584 \n",
      "\n",
      "Activation function = tanh \n",
      "\n",
      " RMSE value for tanh activation function is 46.26163215347182 \n",
      "\n",
      "Activation function = softmax \n",
      "\n",
      " RMSE value for softmax activation function is 123.13551817320817 \n",
      "\n",
      "Activation function = elu \n",
      "\n",
      " RMSE value for elu activation function is 25.107903741816713 \n",
      "\n",
      "Activation function = selu \n",
      "\n",
      " RMSE value for selu activation function is 23.841317032570426 \n",
      "\n"
     ]
    }
   ],
   "source": [
    "activations = ['relu','linear','tanh','softmax','elu','selu']\n",
    "\n",
    "for acti in activations:\n",
    "  print(f'Activation function = {acti} \\n')\n",
    "  regressor = Sequential()\n",
    "  regressor.add(Bidirectional(GRU(units = 50, return_sequences=True,input_shape = (X_train.shape[1], 1))))\n",
    "  regressor.add(Dropout(0.2))\n",
    "  regressor.add(Bidirectional(GRU(units = 50)))\n",
    "  regressor.add(Dropout(0.2))\n",
    "  regressor.add(Dense(32,kernel_initializer=\"uniform\",activation=acti))        \n",
    "  regressor.add(Dense(1,kernel_initializer=\"uniform\",activation=acti))\n",
    "  regressor.compile(optimizer = 'adam', loss = 'mean_squared_error')\n",
    "  \n",
    "  regressor.fit(X_train, y_train, epochs = 40, batch_size = 256,verbose=0)\n",
    "  predicted_stock_price = regressor.predict(X_test)\n",
    "  predicted_stock_price = sc.inverse_transform(predicted_stock_price)\n",
    "  print(f' RMSE value for {acti} activation function is {np.sqrt(metrics.mean_squared_error(real_stock_price,predicted_stock_price[0:67]))} \\n')"
   ]
  },
  {
   "cell_type": "markdown",
   "metadata": {
    "colab_type": "text",
    "id": "pPmmWJCEp3S0"
   },
   "source": [
    "####  'Relu , linear and selu actvation functions worked well for the GRU Model'"
   ]
  },
  {
   "cell_type": "markdown",
   "metadata": {
    "colab_type": "text",
    "id": "FLqGkhKF54e0"
   },
   "source": [
    "### Testing GRU model with different no of Hidden layers"
   ]
  },
  {
   "cell_type": "code",
   "execution_count": 122,
   "metadata": {
    "colab": {
     "base_uri": "https://localhost:8080/",
     "height": 369
    },
    "colab_type": "code",
    "id": "eqH64ncYp1aw",
    "outputId": "065352a5-e8bf-4c06-cafb-5d61e5c09b5f"
   },
   "outputs": [
    {
     "name": "stdout",
     "output_type": "stream",
     "text": [
      "For  10 Hidden Layers \n",
      "\n",
      " RMSE value for 10 hidden layers is 37.00966660588191 \n",
      "\n",
      "For  20 Hidden Layers \n",
      "\n",
      " RMSE value for 20 hidden layers is 29.61029194892544 \n",
      "\n",
      "For  30 Hidden Layers \n",
      "\n",
      " RMSE value for 30 hidden layers is 45.09421752666802 \n",
      "\n",
      "For  40 Hidden Layers \n",
      "\n",
      " RMSE value for 40 hidden layers is 28.29754776527583 \n",
      "\n",
      "For  50 Hidden Layers \n",
      "\n",
      " RMSE value for 50 hidden layers is 24.843286840705108 \n",
      "\n"
     ]
    }
   ],
   "source": [
    "for i in range(1,6):\n",
    "  print (f'For  {10*i} Hidden Layers \\n')\n",
    "  regressor = Sequential()\n",
    "  regressor.add(Bidirectional(GRU(units = 10*i, return_sequences=True,input_shape = (X_train.shape[1], 1))))\n",
    "  regressor.add(Dropout(0.2))\n",
    "  regressor.add(Bidirectional(GRU(units = 10*i)))\n",
    "  regressor.add(Dropout(0.2))\n",
    "  regressor.add(Dense(32,kernel_initializer=\"uniform\",activation='relu'))        \n",
    "  regressor.add(Dense(1,kernel_initializer=\"uniform\",activation='linear'))\n",
    "  regressor.compile(optimizer = 'adam', loss = 'mean_squared_error')\n",
    "  regressor.fit(X_train, y_train, epochs = 40, batch_size = 256,verbose=0)\n",
    "  predicted_stock_price = regressor.predict(X_test)\n",
    "  predicted_stock_price = sc.inverse_transform(predicted_stock_price)\n",
    "  print(f' RMSE value for {i*10} hidden layers is {np.sqrt(metrics.mean_squared_error(real_stock_price,predicted_stock_price[0:67]))} \\n')\n",
    "  "
   ]
  },
  {
   "cell_type": "markdown",
   "metadata": {
    "colab_type": "text",
    "id": "kq7yIDBs5CSS"
   },
   "source": [
    "#### For 10,40 and 50 hidden units the GRU model works better"
   ]
  },
  {
   "cell_type": "code",
   "execution_count": 0,
   "metadata": {
    "colab": {},
    "colab_type": "code",
    "id": "xDJn-90_xmF-"
   },
   "outputs": [],
   "source": []
  },
  {
   "cell_type": "markdown",
   "metadata": {
    "colab_type": "text",
    "id": "VaTUwUkU8NvV"
   },
   "source": [
    "#### Training GRU Model with Fine tuned Parameters"
   ]
  },
  {
   "cell_type": "code",
   "execution_count": 124,
   "metadata": {
    "colab": {
     "base_uri": "https://localhost:8080/",
     "height": 52
    },
    "colab_type": "code",
    "id": "AJT4XkSe5Ej-",
    "outputId": "817a8192-fee3-4bc3-ae84-1ba096b4025f"
   },
   "outputs": [
    {
     "name": "stdout",
     "output_type": "stream",
     "text": [
      " RMSE value for fine tuned model is is 22.632702903860412 \n",
      "\n"
     ]
    }
   ],
   "source": [
    "regressor = Sequential()\n",
    "regressor.add(Bidirectional(GRU(units = 50, return_sequences=True,input_shape = (X_train.shape[1], 1))))\n",
    "regressor.add(Dropout(0.2))\n",
    "regressor.add(Bidirectional(GRU(units = 50)))\n",
    "regressor.add(Dropout(0.2))\n",
    "regressor.add(Dense(32,kernel_initializer=\"uniform\",activation='relu'))        \n",
    "regressor.add(Dense(1,kernel_initializer=\"uniform\",activation='linear'))\n",
    "regressor.compile(optimizer = 'adam', loss = 'mean_squared_error')\n",
    "regressor.fit(X_train, y_train, epochs = 90, batch_size = 256,verbose=0)\n",
    "predicted_stock_price = regressor.predict(X_test)\n",
    "predicted_stock_price = sc.inverse_transform(predicted_stock_price)\n",
    "print(f' RMSE value for fine tuned model is is {np.sqrt(metrics.mean_squared_error(real_stock_price,predicted_stock_price[0:67]))} \\n')\n",
    "  "
   ]
  },
  {
   "cell_type": "code",
   "execution_count": 0,
   "metadata": {
    "colab": {},
    "colab_type": "code",
    "id": "X0k7dzw269sc"
   },
   "outputs": [],
   "source": []
  }
 ],
 "metadata": {
  "accelerator": "GPU",
  "colab": {
   "collapsed_sections": [],
   "name": "GRU_Updated.ipynb",
   "provenance": [],
   "version": "0.3.2"
  },
  "kernelspec": {
   "display_name": "Python 3",
   "language": "python",
   "name": "python3"
  },
  "language_info": {
   "codemirror_mode": {
    "name": "ipython",
    "version": 3
   },
   "file_extension": ".py",
   "mimetype": "text/x-python",
   "name": "python",
   "nbconvert_exporter": "python",
   "pygments_lexer": "ipython3",
   "version": "3.7.1"
  }
 },
 "nbformat": 4,
 "nbformat_minor": 1
}
