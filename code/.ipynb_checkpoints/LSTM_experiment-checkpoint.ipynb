{
 "cells": [
  {
   "cell_type": "code",
   "execution_count": 1,
   "metadata": {
    "colab": {
     "base_uri": "https://localhost:8080/",
     "height": 35
    },
    "colab_type": "code",
    "id": "S7sHoQ5tkX6m",
    "outputId": "37745463-fc77-4adf-e15a-af59e44ffbaf"
   },
   "outputs": [
    {
     "name": "stderr",
     "output_type": "stream",
     "text": [
      "Using TensorFlow backend.\n"
     ]
    }
   ],
   "source": [
    "import pandas as pd\n",
    "from keras.layers import Bidirectional, GlobalMaxPool1D, MaxPooling1D, Add, Flatten"
   ]
  },
  {
   "cell_type": "code",
   "execution_count": 3,
   "metadata": {
    "colab": {
     "base_uri": "https://localhost:8080/",
     "height": 73,
     "resources": {
      "http://localhost:8080/nbextensions/google.colab/files.js": {
       "data": "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",
       "headers": [
        [
         "content-type",
         "application/javascript"
        ]
       ],
       "ok": true,
       "status": 200,
       "status_text": ""
      }
     }
    },
    "colab_type": "code",
    "id": "dMOFX_XIklMI",
    "outputId": "d15c5d24-b33f-4637-e895-a13d5766c556"
   },
   "outputs": [],
   "source": [
    "#from google.colab import files\n",
    "#uploaded = files.upload()\n",
    "#data=pd.read_csv(\"daily_GOOGL.csv\")\n",
    "# uncomment to load file \"daily_GOOGL.csv\" in google colab"
   ]
  },
  {
   "cell_type": "code",
   "execution_count": 5,
   "metadata": {
    "colab": {
     "base_uri": "https://localhost:8080/",
     "height": 202
    },
    "colab_type": "code",
    "id": "8OzqABHmksvs",
    "outputId": "89b157ad-3fdd-43c1-b739-6e01c4328e47"
   },
   "outputs": [
    {
     "data": {
      "text/html": [
       "<div>\n",
       "<style scoped>\n",
       "    .dataframe tbody tr th:only-of-type {\n",
       "        vertical-align: middle;\n",
       "    }\n",
       "\n",
       "    .dataframe tbody tr th {\n",
       "        vertical-align: top;\n",
       "    }\n",
       "\n",
       "    .dataframe thead th {\n",
       "        text-align: right;\n",
       "    }\n",
       "</style>\n",
       "<table border=\"1\" class=\"dataframe\">\n",
       "  <thead>\n",
       "    <tr style=\"text-align: right;\">\n",
       "      <th></th>\n",
       "      <th>timestamp</th>\n",
       "      <th>open</th>\n",
       "      <th>high</th>\n",
       "      <th>low</th>\n",
       "      <th>close</th>\n",
       "      <th>volume</th>\n",
       "    </tr>\n",
       "  </thead>\n",
       "  <tbody>\n",
       "    <tr>\n",
       "      <th>0</th>\n",
       "      <td>2018-11-02</td>\n",
       "      <td>1089.00</td>\n",
       "      <td>1098.00</td>\n",
       "      <td>1067.66</td>\n",
       "      <td>1071.49</td>\n",
       "      <td>2172215</td>\n",
       "    </tr>\n",
       "    <tr>\n",
       "      <th>1</th>\n",
       "      <td>2018-11-01</td>\n",
       "      <td>1091.40</td>\n",
       "      <td>1099.90</td>\n",
       "      <td>1077.82</td>\n",
       "      <td>1085.98</td>\n",
       "      <td>2006575</td>\n",
       "    </tr>\n",
       "    <tr>\n",
       "      <th>2</th>\n",
       "      <td>2018-10-31</td>\n",
       "      <td>1068.20</td>\n",
       "      <td>1108.00</td>\n",
       "      <td>1068.20</td>\n",
       "      <td>1090.58</td>\n",
       "      <td>3545821</td>\n",
       "    </tr>\n",
       "    <tr>\n",
       "      <th>3</th>\n",
       "      <td>2018-10-30</td>\n",
       "      <td>1020.01</td>\n",
       "      <td>1050.90</td>\n",
       "      <td>1013.97</td>\n",
       "      <td>1049.51</td>\n",
       "      <td>2988418</td>\n",
       "    </tr>\n",
       "    <tr>\n",
       "      <th>4</th>\n",
       "      <td>2018-10-29</td>\n",
       "      <td>1096.54</td>\n",
       "      <td>1108.83</td>\n",
       "      <td>1007.20</td>\n",
       "      <td>1034.73</td>\n",
       "      <td>4064452</td>\n",
       "    </tr>\n",
       "  </tbody>\n",
       "</table>\n",
       "</div>"
      ],
      "text/plain": [
       "    timestamp     open     high      low    close   volume\n",
       "0  2018-11-02  1089.00  1098.00  1067.66  1071.49  2172215\n",
       "1  2018-11-01  1091.40  1099.90  1077.82  1085.98  2006575\n",
       "2  2018-10-31  1068.20  1108.00  1068.20  1090.58  3545821\n",
       "3  2018-10-30  1020.01  1050.90  1013.97  1049.51  2988418\n",
       "4  2018-10-29  1096.54  1108.83  1007.20  1034.73  4064452"
      ]
     },
     "execution_count": 5,
     "metadata": {
      "tags": []
     },
     "output_type": "execute_result"
    }
   ],
   "source": [
    "#load daily stocks data of google from August 2004 to November 2018\n",
    "data=pd.read_csv(\"..data/daily_GOOGL.csv\")\n",
    "data.head()"
   ]
  },
  {
   "cell_type": "code",
   "execution_count": 6,
   "metadata": {
    "colab": {
     "base_uri": "https://localhost:8080/",
     "height": 202
    },
    "colab_type": "code",
    "id": "CAyBLd1FkuVQ",
    "outputId": "d4e7bb74-654c-4626-c1f8-ed624bd09cfb"
   },
   "outputs": [
    {
     "data": {
      "text/html": [
       "<div>\n",
       "<style scoped>\n",
       "    .dataframe tbody tr th:only-of-type {\n",
       "        vertical-align: middle;\n",
       "    }\n",
       "\n",
       "    .dataframe tbody tr th {\n",
       "        vertical-align: top;\n",
       "    }\n",
       "\n",
       "    .dataframe thead th {\n",
       "        text-align: right;\n",
       "    }\n",
       "</style>\n",
       "<table border=\"1\" class=\"dataframe\">\n",
       "  <thead>\n",
       "    <tr style=\"text-align: right;\">\n",
       "      <th></th>\n",
       "      <th>timestamp</th>\n",
       "      <th>open</th>\n",
       "      <th>high</th>\n",
       "      <th>low</th>\n",
       "      <th>close</th>\n",
       "      <th>volume</th>\n",
       "    </tr>\n",
       "  </thead>\n",
       "  <tbody>\n",
       "    <tr>\n",
       "      <th>3574</th>\n",
       "      <td>2004-08-25</td>\n",
       "      <td>104.76</td>\n",
       "      <td>108.00</td>\n",
       "      <td>103.88</td>\n",
       "      <td>106.000</td>\n",
       "      <td>9188600</td>\n",
       "    </tr>\n",
       "    <tr>\n",
       "      <th>3575</th>\n",
       "      <td>2004-08-24</td>\n",
       "      <td>111.24</td>\n",
       "      <td>111.60</td>\n",
       "      <td>103.57</td>\n",
       "      <td>104.870</td>\n",
       "      <td>15247300</td>\n",
       "    </tr>\n",
       "    <tr>\n",
       "      <th>3576</th>\n",
       "      <td>2004-08-23</td>\n",
       "      <td>110.76</td>\n",
       "      <td>113.48</td>\n",
       "      <td>109.05</td>\n",
       "      <td>109.400</td>\n",
       "      <td>18256100</td>\n",
       "    </tr>\n",
       "    <tr>\n",
       "      <th>3577</th>\n",
       "      <td>2004-08-20</td>\n",
       "      <td>101.01</td>\n",
       "      <td>109.08</td>\n",
       "      <td>100.50</td>\n",
       "      <td>108.310</td>\n",
       "      <td>22834300</td>\n",
       "    </tr>\n",
       "    <tr>\n",
       "      <th>3578</th>\n",
       "      <td>2004-08-19</td>\n",
       "      <td>100.01</td>\n",
       "      <td>104.06</td>\n",
       "      <td>95.96</td>\n",
       "      <td>100.335</td>\n",
       "      <td>44659000</td>\n",
       "    </tr>\n",
       "  </tbody>\n",
       "</table>\n",
       "</div>"
      ],
      "text/plain": [
       "       timestamp    open    high     low    close    volume\n",
       "3574  2004-08-25  104.76  108.00  103.88  106.000   9188600\n",
       "3575  2004-08-24  111.24  111.60  103.57  104.870  15247300\n",
       "3576  2004-08-23  110.76  113.48  109.05  109.400  18256100\n",
       "3577  2004-08-20  101.01  109.08  100.50  108.310  22834300\n",
       "3578  2004-08-19  100.01  104.06   95.96  100.335  44659000"
      ]
     },
     "execution_count": 6,
     "metadata": {
      "tags": []
     },
     "output_type": "execute_result"
    }
   ],
   "source": [
    "data.tail()"
   ]
  },
  {
   "cell_type": "code",
   "execution_count": 0,
   "metadata": {
    "colab": {},
    "colab_type": "code",
    "id": "rJhypXnqkwTO"
   },
   "outputs": [],
   "source": [
    "#considering google stocks data from 2013\n",
    "data=data[data.iloc[:,0]>='2013-01-01']"
   ]
  },
  {
   "cell_type": "code",
   "execution_count": 8,
   "metadata": {
    "colab": {
     "base_uri": "https://localhost:8080/",
     "height": 202
    },
    "colab_type": "code",
    "id": "kMUjk0-5lO6E",
    "outputId": "ef04fccf-91e3-4660-848c-04d3e76ad09f"
   },
   "outputs": [
    {
     "data": {
      "text/html": [
       "<div>\n",
       "<style scoped>\n",
       "    .dataframe tbody tr th:only-of-type {\n",
       "        vertical-align: middle;\n",
       "    }\n",
       "\n",
       "    .dataframe tbody tr th {\n",
       "        vertical-align: top;\n",
       "    }\n",
       "\n",
       "    .dataframe thead th {\n",
       "        text-align: right;\n",
       "    }\n",
       "</style>\n",
       "<table border=\"1\" class=\"dataframe\">\n",
       "  <thead>\n",
       "    <tr style=\"text-align: right;\">\n",
       "      <th></th>\n",
       "      <th>timestamp</th>\n",
       "      <th>open</th>\n",
       "      <th>high</th>\n",
       "      <th>low</th>\n",
       "      <th>close</th>\n",
       "      <th>volume</th>\n",
       "    </tr>\n",
       "  </thead>\n",
       "  <tbody>\n",
       "    <tr>\n",
       "      <th>1467</th>\n",
       "      <td>2013-01-08</td>\n",
       "      <td>735.54</td>\n",
       "      <td>736.2999</td>\n",
       "      <td>724.4300</td>\n",
       "      <td>733.30</td>\n",
       "      <td>3348800</td>\n",
       "    </tr>\n",
       "    <tr>\n",
       "      <th>1468</th>\n",
       "      <td>2013-01-07</td>\n",
       "      <td>735.45</td>\n",
       "      <td>739.3800</td>\n",
       "      <td>730.5800</td>\n",
       "      <td>734.75</td>\n",
       "      <td>3308000</td>\n",
       "    </tr>\n",
       "    <tr>\n",
       "      <th>1469</th>\n",
       "      <td>2013-01-04</td>\n",
       "      <td>729.34</td>\n",
       "      <td>741.4700</td>\n",
       "      <td>727.6801</td>\n",
       "      <td>737.97</td>\n",
       "      <td>5521400</td>\n",
       "    </tr>\n",
       "    <tr>\n",
       "      <th>1470</th>\n",
       "      <td>2013-01-03</td>\n",
       "      <td>724.93</td>\n",
       "      <td>731.9300</td>\n",
       "      <td>720.7200</td>\n",
       "      <td>723.67</td>\n",
       "      <td>4631700</td>\n",
       "    </tr>\n",
       "    <tr>\n",
       "      <th>1471</th>\n",
       "      <td>2013-01-02</td>\n",
       "      <td>719.42</td>\n",
       "      <td>727.0000</td>\n",
       "      <td>716.5500</td>\n",
       "      <td>723.25</td>\n",
       "      <td>5077500</td>\n",
       "    </tr>\n",
       "  </tbody>\n",
       "</table>\n",
       "</div>"
      ],
      "text/plain": [
       "       timestamp    open      high       low   close   volume\n",
       "1467  2013-01-08  735.54  736.2999  724.4300  733.30  3348800\n",
       "1468  2013-01-07  735.45  739.3800  730.5800  734.75  3308000\n",
       "1469  2013-01-04  729.34  741.4700  727.6801  737.97  5521400\n",
       "1470  2013-01-03  724.93  731.9300  720.7200  723.67  4631700\n",
       "1471  2013-01-02  719.42  727.0000  716.5500  723.25  5077500"
      ]
     },
     "execution_count": 8,
     "metadata": {
      "tags": []
     },
     "output_type": "execute_result"
    }
   ],
   "source": [
    "data.tail()"
   ]
  },
  {
   "cell_type": "code",
   "execution_count": 9,
   "metadata": {
    "colab": {
     "base_uri": "https://localhost:8080/",
     "height": 202
    },
    "colab_type": "code",
    "id": "ZptdYukJmB1W",
    "outputId": "b918acd9-c20b-4742-9335-95d754d1d613"
   },
   "outputs": [
    {
     "data": {
      "text/html": [
       "<div>\n",
       "<style scoped>\n",
       "    .dataframe tbody tr th:only-of-type {\n",
       "        vertical-align: middle;\n",
       "    }\n",
       "\n",
       "    .dataframe tbody tr th {\n",
       "        vertical-align: top;\n",
       "    }\n",
       "\n",
       "    .dataframe thead th {\n",
       "        text-align: right;\n",
       "    }\n",
       "</style>\n",
       "<table border=\"1\" class=\"dataframe\">\n",
       "  <thead>\n",
       "    <tr style=\"text-align: right;\">\n",
       "      <th></th>\n",
       "      <th>timestamp</th>\n",
       "      <th>open</th>\n",
       "      <th>high</th>\n",
       "      <th>low</th>\n",
       "      <th>close</th>\n",
       "      <th>volume</th>\n",
       "    </tr>\n",
       "  </thead>\n",
       "  <tbody>\n",
       "    <tr>\n",
       "      <th>0</th>\n",
       "      <td>2018-11-02</td>\n",
       "      <td>1089.00</td>\n",
       "      <td>1098.00</td>\n",
       "      <td>1067.66</td>\n",
       "      <td>1071.49</td>\n",
       "      <td>2172215</td>\n",
       "    </tr>\n",
       "    <tr>\n",
       "      <th>1</th>\n",
       "      <td>2018-11-01</td>\n",
       "      <td>1091.40</td>\n",
       "      <td>1099.90</td>\n",
       "      <td>1077.82</td>\n",
       "      <td>1085.98</td>\n",
       "      <td>2006575</td>\n",
       "    </tr>\n",
       "    <tr>\n",
       "      <th>2</th>\n",
       "      <td>2018-10-31</td>\n",
       "      <td>1068.20</td>\n",
       "      <td>1108.00</td>\n",
       "      <td>1068.20</td>\n",
       "      <td>1090.58</td>\n",
       "      <td>3545821</td>\n",
       "    </tr>\n",
       "    <tr>\n",
       "      <th>3</th>\n",
       "      <td>2018-10-30</td>\n",
       "      <td>1020.01</td>\n",
       "      <td>1050.90</td>\n",
       "      <td>1013.97</td>\n",
       "      <td>1049.51</td>\n",
       "      <td>2988418</td>\n",
       "    </tr>\n",
       "    <tr>\n",
       "      <th>4</th>\n",
       "      <td>2018-10-29</td>\n",
       "      <td>1096.54</td>\n",
       "      <td>1108.83</td>\n",
       "      <td>1007.20</td>\n",
       "      <td>1034.73</td>\n",
       "      <td>4064452</td>\n",
       "    </tr>\n",
       "  </tbody>\n",
       "</table>\n",
       "</div>"
      ],
      "text/plain": [
       "    timestamp     open     high      low    close   volume\n",
       "0  2018-11-02  1089.00  1098.00  1067.66  1071.49  2172215\n",
       "1  2018-11-01  1091.40  1099.90  1077.82  1085.98  2006575\n",
       "2  2018-10-31  1068.20  1108.00  1068.20  1090.58  3545821\n",
       "3  2018-10-30  1020.01  1050.90  1013.97  1049.51  2988418\n",
       "4  2018-10-29  1096.54  1108.83  1007.20  1034.73  4064452"
      ]
     },
     "execution_count": 9,
     "metadata": {
      "tags": []
     },
     "output_type": "execute_result"
    }
   ],
   "source": [
    "data.head()"
   ]
  },
  {
   "cell_type": "code",
   "execution_count": 0,
   "metadata": {
    "colab": {},
    "colab_type": "code",
    "id": "ECs8pqKDmyHL"
   },
   "outputs": [],
   "source": [
    "#set training data from Jan 2013 to July 2018\n",
    "train_data=data[data.iloc[:,0]<'2018-08-01']\n",
    "train_data=train_data.iloc[::-1]"
   ]
  },
  {
   "cell_type": "code",
   "execution_count": 11,
   "metadata": {
    "colab": {
     "base_uri": "https://localhost:8080/",
     "height": 202
    },
    "colab_type": "code",
    "id": "egdiF0zMnJpZ",
    "outputId": "8e1184c3-666c-4f3b-a7e4-beeef76c2543"
   },
   "outputs": [
    {
     "data": {
      "text/html": [
       "<div>\n",
       "<style scoped>\n",
       "    .dataframe tbody tr th:only-of-type {\n",
       "        vertical-align: middle;\n",
       "    }\n",
       "\n",
       "    .dataframe tbody tr th {\n",
       "        vertical-align: top;\n",
       "    }\n",
       "\n",
       "    .dataframe thead th {\n",
       "        text-align: right;\n",
       "    }\n",
       "</style>\n",
       "<table border=\"1\" class=\"dataframe\">\n",
       "  <thead>\n",
       "    <tr style=\"text-align: right;\">\n",
       "      <th></th>\n",
       "      <th>timestamp</th>\n",
       "      <th>open</th>\n",
       "      <th>high</th>\n",
       "      <th>low</th>\n",
       "      <th>close</th>\n",
       "      <th>volume</th>\n",
       "    </tr>\n",
       "  </thead>\n",
       "  <tbody>\n",
       "    <tr>\n",
       "      <th>1471</th>\n",
       "      <td>2013-01-02</td>\n",
       "      <td>719.42</td>\n",
       "      <td>727.0000</td>\n",
       "      <td>716.5500</td>\n",
       "      <td>723.25</td>\n",
       "      <td>5077500</td>\n",
       "    </tr>\n",
       "    <tr>\n",
       "      <th>1470</th>\n",
       "      <td>2013-01-03</td>\n",
       "      <td>724.93</td>\n",
       "      <td>731.9300</td>\n",
       "      <td>720.7200</td>\n",
       "      <td>723.67</td>\n",
       "      <td>4631700</td>\n",
       "    </tr>\n",
       "    <tr>\n",
       "      <th>1469</th>\n",
       "      <td>2013-01-04</td>\n",
       "      <td>729.34</td>\n",
       "      <td>741.4700</td>\n",
       "      <td>727.6801</td>\n",
       "      <td>737.97</td>\n",
       "      <td>5521400</td>\n",
       "    </tr>\n",
       "    <tr>\n",
       "      <th>1468</th>\n",
       "      <td>2013-01-07</td>\n",
       "      <td>735.45</td>\n",
       "      <td>739.3800</td>\n",
       "      <td>730.5800</td>\n",
       "      <td>734.75</td>\n",
       "      <td>3308000</td>\n",
       "    </tr>\n",
       "    <tr>\n",
       "      <th>1467</th>\n",
       "      <td>2013-01-08</td>\n",
       "      <td>735.54</td>\n",
       "      <td>736.2999</td>\n",
       "      <td>724.4300</td>\n",
       "      <td>733.30</td>\n",
       "      <td>3348800</td>\n",
       "    </tr>\n",
       "  </tbody>\n",
       "</table>\n",
       "</div>"
      ],
      "text/plain": [
       "       timestamp    open      high       low   close   volume\n",
       "1471  2013-01-02  719.42  727.0000  716.5500  723.25  5077500\n",
       "1470  2013-01-03  724.93  731.9300  720.7200  723.67  4631700\n",
       "1469  2013-01-04  729.34  741.4700  727.6801  737.97  5521400\n",
       "1468  2013-01-07  735.45  739.3800  730.5800  734.75  3308000\n",
       "1467  2013-01-08  735.54  736.2999  724.4300  733.30  3348800"
      ]
     },
     "execution_count": 11,
     "metadata": {
      "tags": []
     },
     "output_type": "execute_result"
    }
   ],
   "source": [
    "train_data.head()"
   ]
  },
  {
   "cell_type": "code",
   "execution_count": 12,
   "metadata": {
    "colab": {
     "base_uri": "https://localhost:8080/",
     "height": 202
    },
    "colab_type": "code",
    "id": "C57eNTPqnTXK",
    "outputId": "c3b2a889-1855-4217-f970-17922b8a2bcf"
   },
   "outputs": [
    {
     "data": {
      "text/html": [
       "<div>\n",
       "<style scoped>\n",
       "    .dataframe tbody tr th:only-of-type {\n",
       "        vertical-align: middle;\n",
       "    }\n",
       "\n",
       "    .dataframe tbody tr th {\n",
       "        vertical-align: top;\n",
       "    }\n",
       "\n",
       "    .dataframe thead th {\n",
       "        text-align: right;\n",
       "    }\n",
       "</style>\n",
       "<table border=\"1\" class=\"dataframe\">\n",
       "  <thead>\n",
       "    <tr style=\"text-align: right;\">\n",
       "      <th></th>\n",
       "      <th>timestamp</th>\n",
       "      <th>open</th>\n",
       "      <th>high</th>\n",
       "      <th>low</th>\n",
       "      <th>close</th>\n",
       "      <th>volume</th>\n",
       "    </tr>\n",
       "  </thead>\n",
       "  <tbody>\n",
       "    <tr>\n",
       "      <th>71</th>\n",
       "      <td>2018-07-25</td>\n",
       "      <td>1252.62</td>\n",
       "      <td>1278.24</td>\n",
       "      <td>1249.05</td>\n",
       "      <td>1275.94</td>\n",
       "      <td>2575437</td>\n",
       "    </tr>\n",
       "    <tr>\n",
       "      <th>70</th>\n",
       "      <td>2018-07-26</td>\n",
       "      <td>1267.18</td>\n",
       "      <td>1287.40</td>\n",
       "      <td>1263.00</td>\n",
       "      <td>1285.50</td>\n",
       "      <td>2734302</td>\n",
       "    </tr>\n",
       "    <tr>\n",
       "      <th>69</th>\n",
       "      <td>2018-07-27</td>\n",
       "      <td>1289.12</td>\n",
       "      <td>1291.44</td>\n",
       "      <td>1244.49</td>\n",
       "      <td>1252.89</td>\n",
       "      <td>2418090</td>\n",
       "    </tr>\n",
       "    <tr>\n",
       "      <th>68</th>\n",
       "      <td>2018-07-30</td>\n",
       "      <td>1245.05</td>\n",
       "      <td>1252.89</td>\n",
       "      <td>1224.17</td>\n",
       "      <td>1230.04</td>\n",
       "      <td>2194837</td>\n",
       "    </tr>\n",
       "    <tr>\n",
       "      <th>67</th>\n",
       "      <td>2018-07-31</td>\n",
       "      <td>1231.71</td>\n",
       "      <td>1241.21</td>\n",
       "      <td>1216.19</td>\n",
       "      <td>1227.22</td>\n",
       "      <td>1969111</td>\n",
       "    </tr>\n",
       "  </tbody>\n",
       "</table>\n",
       "</div>"
      ],
      "text/plain": [
       "     timestamp     open     high      low    close   volume\n",
       "71  2018-07-25  1252.62  1278.24  1249.05  1275.94  2575437\n",
       "70  2018-07-26  1267.18  1287.40  1263.00  1285.50  2734302\n",
       "69  2018-07-27  1289.12  1291.44  1244.49  1252.89  2418090\n",
       "68  2018-07-30  1245.05  1252.89  1224.17  1230.04  2194837\n",
       "67  2018-07-31  1231.71  1241.21  1216.19  1227.22  1969111"
      ]
     },
     "execution_count": 12,
     "metadata": {
      "tags": []
     },
     "output_type": "execute_result"
    }
   ],
   "source": [
    "train_data.tail()"
   ]
  },
  {
   "cell_type": "code",
   "execution_count": 13,
   "metadata": {
    "colab": {
     "base_uri": "https://localhost:8080/",
     "height": 35
    },
    "colab_type": "code",
    "id": "dd9vx9ImnW6T",
    "outputId": "7375a29b-3ab3-4c7d-f5d8-294896252812"
   },
   "outputs": [
    {
     "data": {
      "text/plain": [
       "(1405, 6)"
      ]
     },
     "execution_count": 13,
     "metadata": {
      "tags": []
     },
     "output_type": "execute_result"
    }
   ],
   "source": [
    "train_data.shape"
   ]
  },
  {
   "cell_type": "code",
   "execution_count": 0,
   "metadata": {
    "colab": {},
    "colab_type": "code",
    "id": "op-3zi8RnaLN"
   },
   "outputs": [],
   "source": [
    "#test data from August 2018 to November 2019\n",
    "test_data=data[data.iloc[:,0]>='2018-08-01']"
   ]
  },
  {
   "cell_type": "code",
   "execution_count": 15,
   "metadata": {
    "colab": {
     "base_uri": "https://localhost:8080/",
     "height": 202
    },
    "colab_type": "code",
    "id": "lFyN8fhInihV",
    "outputId": "9a66b33a-1f0b-4ecf-8264-40b36cdfd325"
   },
   "outputs": [
    {
     "data": {
      "text/html": [
       "<div>\n",
       "<style scoped>\n",
       "    .dataframe tbody tr th:only-of-type {\n",
       "        vertical-align: middle;\n",
       "    }\n",
       "\n",
       "    .dataframe tbody tr th {\n",
       "        vertical-align: top;\n",
       "    }\n",
       "\n",
       "    .dataframe thead th {\n",
       "        text-align: right;\n",
       "    }\n",
       "</style>\n",
       "<table border=\"1\" class=\"dataframe\">\n",
       "  <thead>\n",
       "    <tr style=\"text-align: right;\">\n",
       "      <th></th>\n",
       "      <th>timestamp</th>\n",
       "      <th>open</th>\n",
       "      <th>high</th>\n",
       "      <th>low</th>\n",
       "      <th>close</th>\n",
       "      <th>volume</th>\n",
       "    </tr>\n",
       "  </thead>\n",
       "  <tbody>\n",
       "    <tr>\n",
       "      <th>4</th>\n",
       "      <td>2018-10-29</td>\n",
       "      <td>1096.54</td>\n",
       "      <td>1108.83</td>\n",
       "      <td>1007.20</td>\n",
       "      <td>1034.73</td>\n",
       "      <td>4064452</td>\n",
       "    </tr>\n",
       "    <tr>\n",
       "      <th>3</th>\n",
       "      <td>2018-10-30</td>\n",
       "      <td>1020.01</td>\n",
       "      <td>1050.90</td>\n",
       "      <td>1013.97</td>\n",
       "      <td>1049.51</td>\n",
       "      <td>2988418</td>\n",
       "    </tr>\n",
       "    <tr>\n",
       "      <th>2</th>\n",
       "      <td>2018-10-31</td>\n",
       "      <td>1068.20</td>\n",
       "      <td>1108.00</td>\n",
       "      <td>1068.20</td>\n",
       "      <td>1090.58</td>\n",
       "      <td>3545821</td>\n",
       "    </tr>\n",
       "    <tr>\n",
       "      <th>1</th>\n",
       "      <td>2018-11-01</td>\n",
       "      <td>1091.40</td>\n",
       "      <td>1099.90</td>\n",
       "      <td>1077.82</td>\n",
       "      <td>1085.98</td>\n",
       "      <td>2006575</td>\n",
       "    </tr>\n",
       "    <tr>\n",
       "      <th>0</th>\n",
       "      <td>2018-11-02</td>\n",
       "      <td>1089.00</td>\n",
       "      <td>1098.00</td>\n",
       "      <td>1067.66</td>\n",
       "      <td>1071.49</td>\n",
       "      <td>2172215</td>\n",
       "    </tr>\n",
       "  </tbody>\n",
       "</table>\n",
       "</div>"
      ],
      "text/plain": [
       "    timestamp     open     high      low    close   volume\n",
       "4  2018-10-29  1096.54  1108.83  1007.20  1034.73  4064452\n",
       "3  2018-10-30  1020.01  1050.90  1013.97  1049.51  2988418\n",
       "2  2018-10-31  1068.20  1108.00  1068.20  1090.58  3545821\n",
       "1  2018-11-01  1091.40  1099.90  1077.82  1085.98  2006575\n",
       "0  2018-11-02  1089.00  1098.00  1067.66  1071.49  2172215"
      ]
     },
     "execution_count": 15,
     "metadata": {
      "tags": []
     },
     "output_type": "execute_result"
    }
   ],
   "source": [
    "test_data=test_data.iloc[::-1]\n",
    "test_data.tail()"
   ]
  },
  {
   "cell_type": "code",
   "execution_count": 0,
   "metadata": {
    "colab": {},
    "colab_type": "code",
    "id": "ACVDz_xKnjY9"
   },
   "outputs": [],
   "source": [
    "training_set = train_data.iloc[:, 1:2].values\n",
    "#training_set"
   ]
  },
  {
   "cell_type": "code",
   "execution_count": 0,
   "metadata": {
    "colab": {},
    "colab_type": "code",
    "id": "6awmX_w5QicT"
   },
   "outputs": [],
   "source": [
    "import numpy as np\n",
    "training_set=np.flipud(training_set) "
   ]
  },
  {
   "cell_type": "code",
   "execution_count": 0,
   "metadata": {
    "colab": {},
    "colab_type": "code",
    "id": "_MrpH8YooHdX"
   },
   "outputs": [],
   "source": [
    "real_stock_price = test_data.iloc[:, 1:2].values"
   ]
  },
  {
   "cell_type": "code",
   "execution_count": 19,
   "metadata": {
    "colab": {
     "base_uri": "https://localhost:8080/",
     "height": 1179
    },
    "colab_type": "code",
    "id": "mD93r6TConhM",
    "outputId": "7a6e4df0-309a-4e01-afb6-dd37c2808be7"
   },
   "outputs": [
    {
     "data": {
      "text/plain": [
       "array([[1239.11],\n",
       "       [1218.5 ],\n",
       "       [1245.18],\n",
       "       [1241.61],\n",
       "       [1252.01],\n",
       "       [1256.72],\n",
       "       [1262.73],\n",
       "       [1259.18],\n",
       "       [1251.2 ],\n",
       "       [1252.5 ],\n",
       "       [1244.28],\n",
       "       [1241.99],\n",
       "       [1222.04],\n",
       "       [1220.66],\n",
       "       [1223.02],\n",
       "       [1214.22],\n",
       "       [1219.88],\n",
       "       [1226.  ],\n",
       "       [1244.14],\n",
       "       [1255.9 ],\n",
       "       [1255.  ],\n",
       "       [1263.4 ],\n",
       "       [1252.21],\n",
       "       [1222.52],\n",
       "       [1209.22],\n",
       "       [1198.57],\n",
       "       [1172.  ],\n",
       "       [1184.2 ],\n",
       "       [1171.1 ],\n",
       "       [1182.  ],\n",
       "       [1179.7 ],\n",
       "       [1188.  ],\n",
       "       [1177.77],\n",
       "       [1162.66],\n",
       "       [1168.96],\n",
       "       [1180.67],\n",
       "       [1194.92],\n",
       "       [1159.41],\n",
       "       [1184.25],\n",
       "       [1193.69],\n",
       "       [1200.  ],\n",
       "       [1204.09],\n",
       "       [1213.  ],\n",
       "       [1206.67],\n",
       "       [1212.  ],\n",
       "       [1205.03],\n",
       "       [1176.  ],\n",
       "       [1160.  ],\n",
       "       [1151.31],\n",
       "       [1136.4 ],\n",
       "       [1079.04],\n",
       "       [1119.64],\n",
       "       [1118.  ],\n",
       "       [1113.48],\n",
       "       [1140.  ],\n",
       "       [1130.  ],\n",
       "       [1103.71],\n",
       "       [1112.51],\n",
       "       [1091.29],\n",
       "       [1115.  ],\n",
       "       [1080.3 ],\n",
       "       [1048.33],\n",
       "       [1096.54],\n",
       "       [1020.01],\n",
       "       [1068.2 ],\n",
       "       [1091.4 ],\n",
       "       [1089.  ]])"
      ]
     },
     "execution_count": 19,
     "metadata": {
      "tags": []
     },
     "output_type": "execute_result"
    }
   ],
   "source": [
    "real_stock_price\n",
    "#real_stock_price=np.flipud(real_stock_price)"
   ]
  },
  {
   "cell_type": "code",
   "execution_count": 0,
   "metadata": {
    "colab": {},
    "colab_type": "code",
    "id": "yyWElzzZophx"
   },
   "outputs": [],
   "source": [
    "from sklearn.preprocessing import MinMaxScaler\n",
    "sc = MinMaxScaler(feature_range = (0, 1))\n",
    "training_set_scaled = sc.fit_transform(training_set)"
   ]
  },
  {
   "cell_type": "code",
   "execution_count": 21,
   "metadata": {
    "colab": {
     "base_uri": "https://localhost:8080/",
     "height": 35
    },
    "colab_type": "code",
    "id": "fbMaG0IDpLsf",
    "outputId": "b43f4b2e-f385-461b-ca58-948c890791d0"
   },
   "outputs": [
    {
     "data": {
      "text/plain": [
       "(1405, 1)"
      ]
     },
     "execution_count": 21,
     "metadata": {
      "tags": []
     },
     "output_type": "execute_result"
    }
   ],
   "source": [
    "training_set_scaled.shape"
   ]
  },
  {
   "cell_type": "code",
   "execution_count": 0,
   "metadata": {
    "colab": {},
    "colab_type": "code",
    "id": "gLGRZ89OpNrN"
   },
   "outputs": [],
   "source": [
    "import numpy as np\n",
    "X_train = []\n",
    "y_train = []\n",
    "for i in range(60, 1405):\n",
    "    X_train.append(training_set_scaled[i-60:i, 0])\n",
    "    y_train.append(training_set_scaled[i, 0])\n",
    "X_train, y_train = np.array(X_train), np.array(y_train)"
   ]
  },
  {
   "cell_type": "code",
   "execution_count": 23,
   "metadata": {
    "colab": {
     "base_uri": "https://localhost:8080/",
     "height": 139
    },
    "colab_type": "code",
    "id": "YyV4CgybpQQl",
    "outputId": "aa75a2d0-8688-45f0-83c3-fe9e782c64f0"
   },
   "outputs": [
    {
     "name": "stdout",
     "output_type": "stream",
     "text": [
      "[[0.92731807 0.94420671 1.         ... 0.71512128 0.71577961 0.70219527]\n",
      " [0.94420671 1.         0.97222363 ... 0.71577961 0.70219527 0.65879627]\n",
      " [1.         0.97222363 0.95379045 ... 0.70219527 0.65879627 0.66608852]\n",
      " ...\n",
      " [0.39780726 0.38651441 0.37444928 ... 0.2950195  0.29915937 0.29904542]\n",
      " [0.38651441 0.37444928 0.3858181  ... 0.29915937 0.29904542 0.29131007]\n",
      " [0.37444928 0.3858181  0.38922368 ... 0.29904542 0.29131007 0.28572695]]\n"
     ]
    }
   ],
   "source": [
    "print(X_train)"
   ]
  },
  {
   "cell_type": "code",
   "execution_count": 24,
   "metadata": {
    "colab": {
     "base_uri": "https://localhost:8080/",
     "height": 35
    },
    "colab_type": "code",
    "id": "dNvE7i--pVpb",
    "outputId": "5b310495-2311-4086-edcf-69989848a0e4"
   },
   "outputs": [
    {
     "name": "stdout",
     "output_type": "stream",
     "text": [
      "[0.65879627 0.66608852 0.67701423 ... 0.29131007 0.28572695 0.2787512 ]\n"
     ]
    }
   ],
   "source": [
    "print(y_train)"
   ]
  },
  {
   "cell_type": "code",
   "execution_count": 0,
   "metadata": {
    "colab": {},
    "colab_type": "code",
    "id": "3bXtKgIOpYDL"
   },
   "outputs": [],
   "source": [
    "X_train = np.reshape(X_train, (X_train.shape[0], X_train.shape[1], 1))"
   ]
  },
  {
   "cell_type": "code",
   "execution_count": 26,
   "metadata": {
    "colab": {
     "base_uri": "https://localhost:8080/",
     "height": 35
    },
    "colab_type": "code",
    "id": "_0y5qOJUpazD",
    "outputId": "0ceccd2d-3a1e-4a1d-8aa3-7e268a137cec"
   },
   "outputs": [
    {
     "data": {
      "text/plain": [
       "(1345, 60, 1)"
      ]
     },
     "execution_count": 26,
     "metadata": {
      "tags": []
     },
     "output_type": "execute_result"
    }
   ],
   "source": [
    "\n",
    "X_train.shape"
   ]
  },
  {
   "cell_type": "code",
   "execution_count": 0,
   "metadata": {
    "colab": {},
    "colab_type": "code",
    "id": "99gifmnMpcD3"
   },
   "outputs": [],
   "source": [
    "from keras.models import Sequential\n",
    "from keras.layers import Dense\n",
    "from keras.layers import LSTM,GRU\n",
    "from keras.layers import Dropout\n",
    "from keras.models import Sequential\n",
    "from keras.layers.core import Dense, Dropout, Activation, Flatten\n",
    "from keras.layers.recurrent import LSTM, GRU\n",
    "from keras.layers import Convolution1D, MaxPooling1D, AtrousConvolution1D, RepeatVector\n",
    "from keras.callbacks import ModelCheckpoint, ReduceLROnPlateau, CSVLogger\n",
    "from keras.layers.wrappers import Bidirectional\n",
    "from keras import regularizers\n",
    "from keras.layers.normalization import BatchNormalization\n",
    "from keras.layers.advanced_activations import *\n",
    "from keras.optimizers import RMSprop, Adam, SGD, Nadam\n",
    "from keras.initializers import *"
   ]
  },
  {
   "cell_type": "code",
   "execution_count": 294,
   "metadata": {
    "colab": {
     "base_uri": "https://localhost:8080/",
     "height": 35
    },
    "colab_type": "code",
    "id": "GxERB11sUPzj",
    "outputId": "8e056449-c7a2-41bf-c9f7-697c1282de7b"
   },
   "outputs": [
    {
     "data": {
      "text/plain": [
       "60"
      ]
     },
     "execution_count": 294,
     "metadata": {
      "tags": []
     },
     "output_type": "execute_result"
    }
   ],
   "source": [
    "X_train.shape[1]"
   ]
  },
  {
   "cell_type": "code",
   "execution_count": 0,
   "metadata": {
    "colab": {},
    "colab_type": "code",
    "id": "MTczkD62pyKN"
   },
   "outputs": [],
   "source": [
    "regressor = Sequential()"
   ]
  },
  {
   "cell_type": "code",
   "execution_count": 0,
   "metadata": {
    "colab": {},
    "colab_type": "code",
    "id": "Kt9uvJ2Mp0hU"
   },
   "outputs": [],
   "source": [
    "regressor.add(Bidirectional(LSTM(units = 50, return_sequences = True,input_shape = (X_train.shape[1], 1))))\n",
    "#regressor.add(LSTM(units = 10, return_sequences = True,input_shape = (X_train.shape[1], 1)))\n",
    "regressor.add(Dropout(0.2))"
   ]
  },
  {
   "cell_type": "code",
   "execution_count": 0,
   "metadata": {
    "colab": {},
    "colab_type": "code",
    "id": "QajPokdYp3Oh"
   },
   "outputs": [],
   "source": [
    "regressor.add(Bidirectional(LSTM(units = 50, return_sequences = True)))\n",
    "#regressor.add(LSTM(units = 10, return_sequences = True))\n",
    "regressor.add(Dropout(0.2))"
   ]
  },
  {
   "cell_type": "code",
   "execution_count": 0,
   "metadata": {
    "colab": {},
    "colab_type": "code",
    "id": "vHAq7_nFp5Qr"
   },
   "outputs": [],
   "source": [
    "#regressor.add(Bidirectional(LSTM(units = 50, return_sequences = True)))\n",
    "#regressor.add(Dropout(0.2))"
   ]
  },
  {
   "cell_type": "code",
   "execution_count": 0,
   "metadata": {
    "colab": {},
    "colab_type": "code",
    "id": "IMkoUM9Yp746"
   },
   "outputs": [],
   "source": [
    "#regressor.add(Bidirectional(LSTM(units = 50, return_sequences = True)))\n",
    "#regressor.add(Dropout(0.2))"
   ]
  },
  {
   "cell_type": "code",
   "execution_count": 0,
   "metadata": {
    "colab": {},
    "colab_type": "code",
    "id": "LbzJDAqvse0d"
   },
   "outputs": [],
   "source": [
    "#regressor.add(Bidirectional(LSTM(units = 50, return_sequences = True)))\n",
    "#regressor.add(Dropout(0.2))"
   ]
  },
  {
   "cell_type": "code",
   "execution_count": 0,
   "metadata": {
    "colab": {},
    "colab_type": "code",
    "id": "94iyqcVhpyhN"
   },
   "outputs": [],
   "source": [
    "# adding lstm layers\n",
    "regressor.add(Bidirectional(LSTM(units = 50)))\n",
    "#regressor.add(LSTM(units = 10))\n",
    "regressor.add(Dropout(0.2))"
   ]
  },
  {
   "cell_type": "code",
   "execution_count": 0,
   "metadata": {
    "colab": {},
    "colab_type": "code",
    "id": "dlNRRZelp90E"
   },
   "outputs": [],
   "source": [
    "#regressor.add(Dense(units = 1))\n",
    "regressor.add(Dense(32,kernel_initializer=\"uniform\",activation='relu'))\n",
    "regressor.add(Dense(1,kernel_initializer=\"uniform\",activation='linear'))"
   ]
  },
  {
   "cell_type": "code",
   "execution_count": 0,
   "metadata": {
    "colab": {},
    "colab_type": "code",
    "id": "jAdjBgN1qAYD"
   },
   "outputs": [],
   "source": [
    "\n",
    "regressor.compile(optimizer = 'adam', loss = 'mean_squared_error')"
   ]
  },
  {
   "cell_type": "code",
   "execution_count": 304,
   "metadata": {
    "colab": {
     "base_uri": "https://localhost:8080/",
     "height": 3501
    },
    "colab_type": "code",
    "id": "1uwhJZsFqDGd",
    "outputId": "043bfc24-e62c-4dd4-cf2e-69f0fcbad5c4"
   },
   "outputs": [
    {
     "name": "stdout",
     "output_type": "stream",
     "text": [
      "Epoch 1/100\n",
      "1345/1345 [==============================] - 28s 21ms/step - loss: 0.1989\n",
      "Epoch 2/100\n",
      "1345/1345 [==============================] - 5s 4ms/step - loss: 0.1383\n",
      "Epoch 3/100\n",
      "1345/1345 [==============================] - 5s 4ms/step - loss: 0.0497\n",
      "Epoch 4/100\n",
      "1345/1345 [==============================] - 5s 4ms/step - loss: 0.0421\n",
      "Epoch 5/100\n",
      "1345/1345 [==============================] - 5s 4ms/step - loss: 0.0362\n",
      "Epoch 6/100\n",
      "1345/1345 [==============================] - 5s 4ms/step - loss: 0.0209\n",
      "Epoch 7/100\n",
      "1345/1345 [==============================] - 5s 4ms/step - loss: 0.0145\n",
      "Epoch 8/100\n",
      "1345/1345 [==============================] - 5s 4ms/step - loss: 0.0120\n",
      "Epoch 9/100\n",
      "1345/1345 [==============================] - 5s 4ms/step - loss: 0.0097\n",
      "Epoch 10/100\n",
      "1345/1345 [==============================] - 5s 4ms/step - loss: 0.0078\n",
      "Epoch 11/100\n",
      "1345/1345 [==============================] - 5s 4ms/step - loss: 0.0064\n",
      "Epoch 12/100\n",
      "1345/1345 [==============================] - 5s 4ms/step - loss: 0.0057\n",
      "Epoch 13/100\n",
      "1345/1345 [==============================] - 5s 4ms/step - loss: 0.0050\n",
      "Epoch 14/100\n",
      "1345/1345 [==============================] - 5s 4ms/step - loss: 0.0041\n",
      "Epoch 15/100\n",
      "1345/1345 [==============================] - 5s 4ms/step - loss: 0.0038\n",
      "Epoch 16/100\n",
      "1345/1345 [==============================] - 5s 4ms/step - loss: 0.0038\n",
      "Epoch 17/100\n",
      "1345/1345 [==============================] - 5s 4ms/step - loss: 0.0036\n",
      "Epoch 18/100\n",
      "1345/1345 [==============================] - 5s 4ms/step - loss: 0.0032\n",
      "Epoch 19/100\n",
      "1345/1345 [==============================] - 5s 4ms/step - loss: 0.0034\n",
      "Epoch 20/100\n",
      "1345/1345 [==============================] - 6s 4ms/step - loss: 0.0032\n",
      "Epoch 21/100\n",
      "1345/1345 [==============================] - 5s 4ms/step - loss: 0.0030\n",
      "Epoch 22/100\n",
      "1345/1345 [==============================] - 5s 4ms/step - loss: 0.0029\n",
      "Epoch 23/100\n",
      "1345/1345 [==============================] - 5s 4ms/step - loss: 0.0031\n",
      "Epoch 24/100\n",
      "1345/1345 [==============================] - 5s 4ms/step - loss: 0.0029\n",
      "Epoch 25/100\n",
      "1345/1345 [==============================] - 6s 4ms/step - loss: 0.0027\n",
      "Epoch 26/100\n",
      "1345/1345 [==============================] - 5s 4ms/step - loss: 0.0028\n",
      "Epoch 27/100\n",
      "1345/1345 [==============================] - 5s 4ms/step - loss: 0.0026\n",
      "Epoch 28/100\n",
      "1345/1345 [==============================] - 5s 4ms/step - loss: 0.0027\n",
      "Epoch 29/100\n",
      "1345/1345 [==============================] - 5s 4ms/step - loss: 0.0027\n",
      "Epoch 30/100\n",
      "1345/1345 [==============================] - 5s 4ms/step - loss: 0.0024\n",
      "Epoch 31/100\n",
      "1345/1345 [==============================] - 5s 4ms/step - loss: 0.0025\n",
      "Epoch 32/100\n",
      "1345/1345 [==============================] - 5s 4ms/step - loss: 0.0024\n",
      "Epoch 33/100\n",
      "1345/1345 [==============================] - 5s 4ms/step - loss: 0.0023\n",
      "Epoch 34/100\n",
      "1345/1345 [==============================] - 5s 4ms/step - loss: 0.0023\n",
      "Epoch 35/100\n",
      "1345/1345 [==============================] - 5s 4ms/step - loss: 0.0023\n",
      "Epoch 36/100\n",
      "1345/1345 [==============================] - 5s 4ms/step - loss: 0.0023\n",
      "Epoch 37/100\n",
      "1345/1345 [==============================] - 5s 4ms/step - loss: 0.0024\n",
      "Epoch 38/100\n",
      "1345/1345 [==============================] - 5s 4ms/step - loss: 0.0022\n",
      "Epoch 39/100\n",
      "1345/1345 [==============================] - 5s 4ms/step - loss: 0.0022\n",
      "Epoch 40/100\n",
      "1345/1345 [==============================] - 5s 4ms/step - loss: 0.0021\n",
      "Epoch 41/100\n",
      "1345/1345 [==============================] - 5s 4ms/step - loss: 0.0021\n",
      "Epoch 42/100\n",
      "1345/1345 [==============================] - 5s 4ms/step - loss: 0.0021\n",
      "Epoch 43/100\n",
      "1345/1345 [==============================] - 5s 4ms/step - loss: 0.0021\n",
      "Epoch 44/100\n",
      "1345/1345 [==============================] - 5s 4ms/step - loss: 0.0021\n",
      "Epoch 45/100\n",
      "1345/1345 [==============================] - 5s 4ms/step - loss: 0.0021\n",
      "Epoch 46/100\n",
      "1345/1345 [==============================] - 5s 4ms/step - loss: 0.0021\n",
      "Epoch 47/100\n",
      "1345/1345 [==============================] - 5s 4ms/step - loss: 0.0020\n",
      "Epoch 48/100\n",
      "1345/1345 [==============================] - 5s 4ms/step - loss: 0.0020\n",
      "Epoch 49/100\n",
      "1345/1345 [==============================] - 5s 4ms/step - loss: 0.0019\n",
      "Epoch 50/100\n",
      "1345/1345 [==============================] - 5s 4ms/step - loss: 0.0020\n",
      "Epoch 51/100\n",
      "1345/1345 [==============================] - 5s 4ms/step - loss: 0.0019\n",
      "Epoch 52/100\n",
      "1345/1345 [==============================] - 5s 4ms/step - loss: 0.0023\n",
      "Epoch 53/100\n",
      "1345/1345 [==============================] - 5s 4ms/step - loss: 0.0021\n",
      "Epoch 54/100\n",
      "1345/1345 [==============================] - 5s 4ms/step - loss: 0.0019\n",
      "Epoch 55/100\n",
      "1345/1345 [==============================] - 5s 4ms/step - loss: 0.0019\n",
      "Epoch 56/100\n",
      "1345/1345 [==============================] - 5s 4ms/step - loss: 0.0019\n",
      "Epoch 57/100\n",
      "1345/1345 [==============================] - 5s 4ms/step - loss: 0.0019\n",
      "Epoch 58/100\n",
      "1345/1345 [==============================] - 5s 4ms/step - loss: 0.0018\n",
      "Epoch 59/100\n",
      "1345/1345 [==============================] - 5s 4ms/step - loss: 0.0019\n",
      "Epoch 60/100\n",
      "1345/1345 [==============================] - 5s 4ms/step - loss: 0.0019\n",
      "Epoch 61/100\n",
      "1345/1345 [==============================] - 5s 4ms/step - loss: 0.0020\n",
      "Epoch 62/100\n",
      "1345/1345 [==============================] - 5s 4ms/step - loss: 0.0018\n",
      "Epoch 63/100\n",
      "1345/1345 [==============================] - 5s 4ms/step - loss: 0.0018\n",
      "Epoch 64/100\n",
      "1345/1345 [==============================] - 5s 4ms/step - loss: 0.0017\n",
      "Epoch 65/100\n",
      "1345/1345 [==============================] - 5s 4ms/step - loss: 0.0018\n",
      "Epoch 66/100\n",
      "1345/1345 [==============================] - 5s 4ms/step - loss: 0.0019\n",
      "Epoch 67/100\n",
      "1345/1345 [==============================] - 5s 4ms/step - loss: 0.0018\n",
      "Epoch 68/100\n",
      "1345/1345 [==============================] - 5s 4ms/step - loss: 0.0018\n",
      "Epoch 69/100\n",
      "1345/1345 [==============================] - 5s 4ms/step - loss: 0.0019\n",
      "Epoch 70/100\n",
      "1345/1345 [==============================] - 5s 4ms/step - loss: 0.0018\n",
      "Epoch 71/100\n",
      "1345/1345 [==============================] - 5s 4ms/step - loss: 0.0018\n",
      "Epoch 72/100\n",
      "1345/1345 [==============================] - 5s 4ms/step - loss: 0.0017\n",
      "Epoch 73/100\n",
      "1345/1345 [==============================] - 5s 4ms/step - loss: 0.0019\n",
      "Epoch 74/100\n",
      "1345/1345 [==============================] - 5s 4ms/step - loss: 0.0020\n",
      "Epoch 75/100\n",
      "1345/1345 [==============================] - 5s 4ms/step - loss: 0.0021\n",
      "Epoch 76/100\n",
      "1345/1345 [==============================] - 5s 4ms/step - loss: 0.0022\n",
      "Epoch 77/100\n",
      "1345/1345 [==============================] - 5s 4ms/step - loss: 0.0018\n",
      "Epoch 78/100\n",
      "1345/1345 [==============================] - 5s 4ms/step - loss: 0.0016\n",
      "Epoch 79/100\n",
      "1345/1345 [==============================] - 5s 4ms/step - loss: 0.0018\n",
      "Epoch 80/100\n",
      "1345/1345 [==============================] - 5s 4ms/step - loss: 0.0018\n",
      "Epoch 81/100\n",
      "1345/1345 [==============================] - 5s 4ms/step - loss: 0.0016\n",
      "Epoch 82/100\n",
      "1345/1345 [==============================] - 5s 4ms/step - loss: 0.0017\n",
      "Epoch 83/100\n",
      "1345/1345 [==============================] - 5s 4ms/step - loss: 0.0018\n",
      "Epoch 84/100\n",
      "1345/1345 [==============================] - 5s 4ms/step - loss: 0.0017\n",
      "Epoch 85/100\n",
      "1345/1345 [==============================] - 5s 4ms/step - loss: 0.0015\n",
      "Epoch 86/100\n",
      "1345/1345 [==============================] - 5s 4ms/step - loss: 0.0016\n",
      "Epoch 87/100\n",
      "1345/1345 [==============================] - 5s 4ms/step - loss: 0.0016\n",
      "Epoch 88/100\n",
      "1345/1345 [==============================] - 5s 4ms/step - loss: 0.0016\n",
      "Epoch 89/100\n",
      "1345/1345 [==============================] - 5s 4ms/step - loss: 0.0017\n",
      "Epoch 90/100\n",
      "1345/1345 [==============================] - 5s 4ms/step - loss: 0.0018\n",
      "Epoch 91/100\n",
      "1345/1345 [==============================] - 5s 4ms/step - loss: 0.0016\n",
      "Epoch 92/100\n",
      "1345/1345 [==============================] - 5s 4ms/step - loss: 0.0017\n",
      "Epoch 93/100\n",
      "1345/1345 [==============================] - 5s 4ms/step - loss: 0.0017\n",
      "Epoch 94/100\n",
      "1345/1345 [==============================] - 5s 4ms/step - loss: 0.0015\n",
      "Epoch 95/100\n",
      "1345/1345 [==============================] - 5s 4ms/step - loss: 0.0016\n",
      "Epoch 96/100\n",
      "1345/1345 [==============================] - 5s 4ms/step - loss: 0.0015\n",
      "Epoch 97/100\n",
      "1345/1345 [==============================] - 5s 4ms/step - loss: 0.0016\n",
      "Epoch 98/100\n",
      "1345/1345 [==============================] - 5s 4ms/step - loss: 0.0016\n",
      "Epoch 99/100\n",
      "1345/1345 [==============================] - 5s 4ms/step - loss: 0.0016\n",
      "Epoch 100/100\n",
      "1345/1345 [==============================] - 5s 4ms/step - loss: 0.0016\n"
     ]
    },
    {
     "data": {
      "text/plain": [
       "<keras.callbacks.History at 0x7f7dbfef2d30>"
      ]
     },
     "execution_count": 304,
     "metadata": {
      "tags": []
     },
     "output_type": "execute_result"
    }
   ],
   "source": [
    "regressor.fit(X_train, y_train, epochs = 100, batch_size = 256)"
   ]
  },
  {
   "cell_type": "code",
   "execution_count": 0,
   "metadata": {
    "colab": {},
    "colab_type": "code",
    "id": "noE_4CaQqFeO"
   },
   "outputs": [],
   "source": [
    "import pandas as pd\n",
    "dataset_total = pd.concat((train_data['open'], test_data['open']), axis = 0)"
   ]
  },
  {
   "cell_type": "code",
   "execution_count": 0,
   "metadata": {
    "colab": {},
    "colab_type": "code",
    "id": "050Uc0DjunrT"
   },
   "outputs": [],
   "source": [
    "inputs = dataset_total[len(dataset_total) - len(test_data) - 60:].values\n",
    "inputs = inputs.reshape(-1,1)"
   ]
  },
  {
   "cell_type": "code",
   "execution_count": 307,
   "metadata": {
    "colab": {
     "base_uri": "https://localhost:8080/",
     "height": 2219
    },
    "colab_type": "code",
    "id": "aNJu-wvRXuG_",
    "outputId": "79491eed-099d-4841-af8c-7a1c0d7a6c7f"
   },
   "outputs": [
    {
     "data": {
      "text/plain": [
       "array([[1053.89],\n",
       "       [1064.62],\n",
       "       [1064.1 ],\n",
       "       [1095.  ],\n",
       "       [1100.41],\n",
       "       [1105.57],\n",
       "       [1096.9 ],\n",
       "       [1085.09],\n",
       "       [1081.46],\n",
       "       [1066.  ],\n",
       "       [1079.  ],\n",
       "       [1089.8 ],\n",
       "       [1070.  ],\n",
       "       [1086.9 ],\n",
       "       [1086.55],\n",
       "       [1076.  ],\n",
       "       [1073.48],\n",
       "       [1082.  ],\n",
       "       [1112.87],\n",
       "       [1138.5 ],\n",
       "       [1154.66],\n",
       "       [1152.77],\n",
       "       [1144.58],\n",
       "       [1131.21],\n",
       "       [1132.94],\n",
       "       [1141.02],\n",
       "       [1152.28],\n",
       "       [1152.21],\n",
       "       [1159.92],\n",
       "       [1152.69],\n",
       "       [1170.11],\n",
       "       [1183.3 ],\n",
       "       [1185.51],\n",
       "       [1171.49],\n",
       "       [1155.  ],\n",
       "       [1144.14],\n",
       "       [1136.  ],\n",
       "       [1112.39],\n",
       "       [1132.31],\n",
       "       [1115.35],\n",
       "       [1149.42],\n",
       "       [1124.6 ],\n",
       "       [1141.77],\n",
       "       [1160.  ],\n",
       "       [1169.99],\n",
       "       [1155.62],\n",
       "       [1174.86],\n",
       "       [1202.8 ],\n",
       "       [1203.81],\n",
       "       [1182.74],\n",
       "       [1208.53],\n",
       "       [1206.65],\n",
       "       [1199.24],\n",
       "       [1195.66],\n",
       "       [1271.  ],\n",
       "       [1252.62],\n",
       "       [1267.18],\n",
       "       [1289.12],\n",
       "       [1245.05],\n",
       "       [1231.71],\n",
       "       [1239.11],\n",
       "       [1218.5 ],\n",
       "       [1245.18],\n",
       "       [1241.61],\n",
       "       [1252.01],\n",
       "       [1256.72],\n",
       "       [1262.73],\n",
       "       [1259.18],\n",
       "       [1251.2 ],\n",
       "       [1252.5 ],\n",
       "       [1244.28],\n",
       "       [1241.99],\n",
       "       [1222.04],\n",
       "       [1220.66],\n",
       "       [1223.02],\n",
       "       [1214.22],\n",
       "       [1219.88],\n",
       "       [1226.  ],\n",
       "       [1244.14],\n",
       "       [1255.9 ],\n",
       "       [1255.  ],\n",
       "       [1263.4 ],\n",
       "       [1252.21],\n",
       "       [1222.52],\n",
       "       [1209.22],\n",
       "       [1198.57],\n",
       "       [1172.  ],\n",
       "       [1184.2 ],\n",
       "       [1171.1 ],\n",
       "       [1182.  ],\n",
       "       [1179.7 ],\n",
       "       [1188.  ],\n",
       "       [1177.77],\n",
       "       [1162.66],\n",
       "       [1168.96],\n",
       "       [1180.67],\n",
       "       [1194.92],\n",
       "       [1159.41],\n",
       "       [1184.25],\n",
       "       [1193.69],\n",
       "       [1200.  ],\n",
       "       [1204.09],\n",
       "       [1213.  ],\n",
       "       [1206.67],\n",
       "       [1212.  ],\n",
       "       [1205.03],\n",
       "       [1176.  ],\n",
       "       [1160.  ],\n",
       "       [1151.31],\n",
       "       [1136.4 ],\n",
       "       [1079.04],\n",
       "       [1119.64],\n",
       "       [1118.  ],\n",
       "       [1113.48],\n",
       "       [1140.  ],\n",
       "       [1130.  ],\n",
       "       [1103.71],\n",
       "       [1112.51],\n",
       "       [1091.29],\n",
       "       [1115.  ],\n",
       "       [1080.3 ],\n",
       "       [1048.33],\n",
       "       [1096.54],\n",
       "       [1020.01],\n",
       "       [1068.2 ],\n",
       "       [1091.4 ],\n",
       "       [1089.  ]])"
      ]
     },
     "execution_count": 307,
     "metadata": {
      "tags": []
     },
     "output_type": "execute_result"
    }
   ],
   "source": [
    "inputs"
   ]
  },
  {
   "cell_type": "code",
   "execution_count": 308,
   "metadata": {
    "colab": {
     "base_uri": "https://localhost:8080/",
     "height": 35
    },
    "colab_type": "code",
    "id": "Co3afBUtu05u",
    "outputId": "e6100d43-8413-4768-a90c-4767940d1beb"
   },
   "outputs": [
    {
     "data": {
      "text/plain": [
       "127"
      ]
     },
     "execution_count": 308,
     "metadata": {
      "tags": []
     },
     "output_type": "execute_result"
    }
   ],
   "source": [
    "len(inputs)"
   ]
  },
  {
   "cell_type": "code",
   "execution_count": 0,
   "metadata": {
    "colab": {},
    "colab_type": "code",
    "id": "BKQioroUu749"
   },
   "outputs": [],
   "source": [
    "inputs = sc.transform(inputs)\n",
    "X_test = []\n",
    "for i in range(60, 127):\n",
    "    X_test.append(inputs[i-60:i, 0])\n",
    "X_test = np.array(X_test)\n",
    "X_test = np.reshape(X_test, (X_test.shape[0], X_test.shape[1], 1))\n",
    "predicted_stock_price = regressor.predict(X_test)\n",
    "predicted_stock_price = sc.inverse_transform(predicted_stock_price)"
   ]
  },
  {
   "cell_type": "code",
   "execution_count": 0,
   "metadata": {
    "colab": {},
    "colab_type": "code",
    "id": "bqzUD0NlZjIJ"
   },
   "outputs": [],
   "source": [
    "#sc.inverse_transform(regressor.predict(np.reshape(X_test[0],(1,60,1))))"
   ]
  },
  {
   "cell_type": "code",
   "execution_count": 311,
   "metadata": {
    "colab": {
     "base_uri": "https://localhost:8080/",
     "height": 35
    },
    "colab_type": "code",
    "id": "u9S-fy_pdDD_",
    "outputId": "e3b454fd-edc7-4b83-f983-1e8f2ea2c0d6"
   },
   "outputs": [
    {
     "data": {
      "text/plain": [
       "(67, 60, 1)"
      ]
     },
     "execution_count": 311,
     "metadata": {
      "tags": []
     },
     "output_type": "execute_result"
    }
   ],
   "source": [
    "XTest=np.reshape(X_test[0],(1,60,1))\n",
    "X_test.shape"
   ]
  },
  {
   "cell_type": "code",
   "execution_count": 0,
   "metadata": {
    "colab": {},
    "colab_type": "code",
    "id": "e7VTNQyHn-a7"
   },
   "outputs": [],
   "source": [
    "#XTest=np.reshape(XTest,(60))\n",
    "#XTest=np.delete(XTest,0)\n",
    "#print(XTest.shape)\n",
    "#XTest=np.append(XTest,10)\n",
    "#XTest.shape"
   ]
  },
  {
   "cell_type": "code",
   "execution_count": 0,
   "metadata": {
    "colab": {},
    "colab_type": "code",
    "id": "-L56-1Y3bioV"
   },
   "outputs": [],
   "source": [
    "\n",
    "predicted=[]\n",
    "for i in range(30):\n",
    "\n",
    "  p=sc.inverse_transform(regressor.predict(XTest))\n",
    "  predicted.append(sc.inverse_transform(regressor.predict(XTest)))\n",
    "  XTest=np.reshape(XTest,(60))\n",
    "  XTest=np.delete(XTest,0)\n",
    "  XTest=np.append(XTest,sc.transform(p))\n",
    "  XTest=np.reshape(XTest,(1,60,1))"
   ]
  },
  {
   "cell_type": "code",
   "execution_count": 0,
   "metadata": {
    "colab": {},
    "colab_type": "code",
    "id": "0f05T4jxcK8l"
   },
   "outputs": [],
   "source": [
    "predicted_stock_price_30days=np.reshape(predicted,(30,1))"
   ]
  },
  {
   "cell_type": "code",
   "execution_count": 315,
   "metadata": {
    "colab": {
     "base_uri": "https://localhost:8080/",
     "height": 1179
    },
    "colab_type": "code",
    "id": "71adl5sizQFr",
    "outputId": "33e793d5-f01c-4cf0-9712-3546bce9aa54"
   },
   "outputs": [
    {
     "data": {
      "text/plain": [
       "array([[1204.4243],\n",
       "       [1203.0845],\n",
       "       [1198.565 ],\n",
       "       [1199.5249],\n",
       "       [1199.9548],\n",
       "       [1202.1979],\n",
       "       [1204.8779],\n",
       "       [1208.0299],\n",
       "       [1209.9087],\n",
       "       [1210.0051],\n",
       "       [1210.1967],\n",
       "       [1208.9783],\n",
       "       [1207.6129],\n",
       "       [1203.2032],\n",
       "       [1199.4432],\n",
       "       [1196.9542],\n",
       "       [1193.6155],\n",
       "       [1192.0549],\n",
       "       [1192.0453],\n",
       "       [1195.3375],\n",
       "       [1200.0602],\n",
       "       [1203.6002],\n",
       "       [1207.6216],\n",
       "       [1208.761 ],\n",
       "       [1204.5123],\n",
       "       [1198.6235],\n",
       "       [1191.9865],\n",
       "       [1182.0337],\n",
       "       [1176.2513],\n",
       "       [1169.5553],\n",
       "       [1166.4895],\n",
       "       [1164.0128],\n",
       "       [1163.8984],\n",
       "       [1162.1155],\n",
       "       [1157.8635],\n",
       "       [1155.6482],\n",
       "       [1156.2644],\n",
       "       [1159.6508],\n",
       "       [1155.5819],\n",
       "       [1156.8821],\n",
       "       [1159.7738],\n",
       "       [1163.288 ],\n",
       "       [1166.713 ],\n",
       "       [1170.9061],\n",
       "       [1172.861 ],\n",
       "       [1175.1239],\n",
       "       [1175.4395],\n",
       "       [1170.1775],\n",
       "       [1162.718 ],\n",
       "       [1154.9736],\n",
       "       [1145.9227],\n",
       "       [1127.2039],\n",
       "       [1120.2865],\n",
       "       [1115.2275],\n",
       "       [1110.8936],\n",
       "       [1113.7207],\n",
       "       [1114.3925],\n",
       "       [1109.4192],\n",
       "       [1107.2285],\n",
       "       [1100.917 ],\n",
       "       [1101.0469],\n",
       "       [1093.774 ],\n",
       "       [1080.5052],\n",
       "       [1080.7377],\n",
       "       [1063.7883],\n",
       "       [1061.2194],\n",
       "       [1065.5516]], dtype=float32)"
      ]
     },
     "execution_count": 315,
     "metadata": {
      "tags": []
     },
     "output_type": "execute_result"
    }
   ],
   "source": [
    "predicted_stock_price"
   ]
  },
  {
   "cell_type": "code",
   "execution_count": 316,
   "metadata": {
    "colab": {
     "base_uri": "https://localhost:8080/",
     "height": 419
    },
    "colab_type": "code",
    "id": "3Waiprj1vJWH",
    "outputId": "765543e1-551c-4a19-aaa1-2ca1dd24b7e4"
   },
   "outputs": [
    {
     "data": {
      "image/png": "[encoded data removed]",
      "text/plain": [
       "<matplotlib.figure.Figure at 0x7f7db09702b0>"
      ]
     },
     "metadata": {
      "tags": []
     },
     "output_type": "display_data"
    }
   ],
   "source": [
    "import matplotlib.pyplot as plt\n",
    "plt.plot(real_stock_price, color = 'red', label = 'Real Google Stock Price')\n",
    "plt.plot(predicted_stock_price, color = 'blue', label = 'Predicted Google Stock Price - One step time series forecast')\n",
    "plt.plot(predicted_stock_price_30days, color = 'orange', label = 'Predicted Google Stock Price - Multistep time series forecast')\n",
    "plt.ylim(700,1400)\n",
    "plt.xticks(np.arange(67),test_data['timestamp'], rotation='vertical')\n",
    "plt.title('Google Stock Price Prediction')\n",
    "plt.xlabel('Time')\n",
    "plt.ylabel('Google Stock Price')\n",
    "plt.legend()\n",
    "plt.show()"
   ]
  },
  {
   "cell_type": "code",
   "execution_count": 317,
   "metadata": {
    "colab": {
     "base_uri": "https://localhost:8080/",
     "height": 35
    },
    "colab_type": "code",
    "id": "ZBrsK2ky5SrI",
    "outputId": "339cd5d8-a1c8-4138-dbf6-baf0380ca598"
   },
   "outputs": [
    {
     "data": {
      "text/plain": [
       "(67, 1)"
      ]
     },
     "execution_count": 317,
     "metadata": {
      "tags": []
     },
     "output_type": "execute_result"
    }
   ],
   "source": [
    "real_stock_price.shape"
   ]
  },
  {
   "cell_type": "code",
   "execution_count": 318,
   "metadata": {
    "colab": {
     "base_uri": "https://localhost:8080/",
     "height": 35
    },
    "colab_type": "code",
    "id": "_03-NUDNiaXS",
    "outputId": "f9e5ccb9-22ed-4c52-e018-e1d29727016e"
   },
   "outputs": [
    {
     "data": {
      "text/plain": [
       "32.54920321347539"
      ]
     },
     "execution_count": 318,
     "metadata": {
      "tags": []
     },
     "output_type": "execute_result"
    }
   ],
   "source": [
    "from sklearn import metrics\n",
    "np.sqrt(metrics.mean_squared_error(real_stock_price,predicted_stock_price[0:67]))"
   ]
  },
  {
   "cell_type": "code",
   "execution_count": 0,
   "metadata": {
    "colab": {},
    "colab_type": "code",
    "id": "dmFsSQkSvMo5"
   },
   "outputs": [],
   "source": [
    "def cal_target(df):\n",
    "    list_y =[]\n",
    "    temp = df\n",
    "    for i in range(len(temp)-1):\n",
    "        if temp[i+1] > temp[i]:\n",
    "            y = 1\n",
    "        else:\n",
    "            y = -1\n",
    "            \n",
    "        list_y.append(y)\n",
    "    ydf = pd.DataFrame(list_y)\n",
    "    return ydf"
   ]
  },
  {
   "cell_type": "code",
   "execution_count": 0,
   "metadata": {
    "colab": {},
    "colab_type": "code",
    "id": "IoNs9gq-vraT"
   },
   "outputs": [],
   "source": [
    "real_stock_price_trend = cal_target(real_stock_price)\n",
    "predicted_stock_price_trend =cal_target(predicted_stock_price[0:67])"
   ]
  },
  {
   "cell_type": "code",
   "execution_count": 321,
   "metadata": {
    "colab": {
     "base_uri": "https://localhost:8080/",
     "height": 1949
    },
    "colab_type": "code",
    "id": "9kSX7y2bvtsI",
    "outputId": "9cc81429-78c5-4eb9-d040-e3bc153574d3"
   },
   "outputs": [
    {
     "data": {
      "text/html": [
       "<div>\n",
       "<style scoped>\n",
       "    .dataframe tbody tr th:only-of-type {\n",
       "        vertical-align: middle;\n",
       "    }\n",
       "\n",
       "    .dataframe tbody tr th {\n",
       "        vertical-align: top;\n",
       "    }\n",
       "\n",
       "    .dataframe thead th {\n",
       "        text-align: right;\n",
       "    }\n",
       "</style>\n",
       "<table border=\"1\" class=\"dataframe\">\n",
       "  <thead>\n",
       "    <tr style=\"text-align: right;\">\n",
       "      <th></th>\n",
       "      <th>0</th>\n",
       "      <th>0</th>\n",
       "    </tr>\n",
       "  </thead>\n",
       "  <tbody>\n",
       "    <tr>\n",
       "      <th>0</th>\n",
       "      <td>-1</td>\n",
       "      <td>-1</td>\n",
       "    </tr>\n",
       "    <tr>\n",
       "      <th>1</th>\n",
       "      <td>1</td>\n",
       "      <td>-1</td>\n",
       "    </tr>\n",
       "    <tr>\n",
       "      <th>2</th>\n",
       "      <td>-1</td>\n",
       "      <td>1</td>\n",
       "    </tr>\n",
       "    <tr>\n",
       "      <th>3</th>\n",
       "      <td>1</td>\n",
       "      <td>1</td>\n",
       "    </tr>\n",
       "    <tr>\n",
       "      <th>4</th>\n",
       "      <td>1</td>\n",
       "      <td>1</td>\n",
       "    </tr>\n",
       "    <tr>\n",
       "      <th>5</th>\n",
       "      <td>1</td>\n",
       "      <td>1</td>\n",
       "    </tr>\n",
       "    <tr>\n",
       "      <th>6</th>\n",
       "      <td>-1</td>\n",
       "      <td>1</td>\n",
       "    </tr>\n",
       "    <tr>\n",
       "      <th>7</th>\n",
       "      <td>-1</td>\n",
       "      <td>1</td>\n",
       "    </tr>\n",
       "    <tr>\n",
       "      <th>8</th>\n",
       "      <td>1</td>\n",
       "      <td>1</td>\n",
       "    </tr>\n",
       "    <tr>\n",
       "      <th>9</th>\n",
       "      <td>-1</td>\n",
       "      <td>1</td>\n",
       "    </tr>\n",
       "    <tr>\n",
       "      <th>10</th>\n",
       "      <td>-1</td>\n",
       "      <td>-1</td>\n",
       "    </tr>\n",
       "    <tr>\n",
       "      <th>11</th>\n",
       "      <td>-1</td>\n",
       "      <td>-1</td>\n",
       "    </tr>\n",
       "    <tr>\n",
       "      <th>12</th>\n",
       "      <td>-1</td>\n",
       "      <td>-1</td>\n",
       "    </tr>\n",
       "    <tr>\n",
       "      <th>13</th>\n",
       "      <td>1</td>\n",
       "      <td>-1</td>\n",
       "    </tr>\n",
       "    <tr>\n",
       "      <th>14</th>\n",
       "      <td>-1</td>\n",
       "      <td>-1</td>\n",
       "    </tr>\n",
       "    <tr>\n",
       "      <th>15</th>\n",
       "      <td>1</td>\n",
       "      <td>-1</td>\n",
       "    </tr>\n",
       "    <tr>\n",
       "      <th>16</th>\n",
       "      <td>1</td>\n",
       "      <td>-1</td>\n",
       "    </tr>\n",
       "    <tr>\n",
       "      <th>17</th>\n",
       "      <td>1</td>\n",
       "      <td>-1</td>\n",
       "    </tr>\n",
       "    <tr>\n",
       "      <th>18</th>\n",
       "      <td>1</td>\n",
       "      <td>1</td>\n",
       "    </tr>\n",
       "    <tr>\n",
       "      <th>19</th>\n",
       "      <td>-1</td>\n",
       "      <td>1</td>\n",
       "    </tr>\n",
       "    <tr>\n",
       "      <th>20</th>\n",
       "      <td>1</td>\n",
       "      <td>1</td>\n",
       "    </tr>\n",
       "    <tr>\n",
       "      <th>21</th>\n",
       "      <td>-1</td>\n",
       "      <td>1</td>\n",
       "    </tr>\n",
       "    <tr>\n",
       "      <th>22</th>\n",
       "      <td>-1</td>\n",
       "      <td>1</td>\n",
       "    </tr>\n",
       "    <tr>\n",
       "      <th>23</th>\n",
       "      <td>-1</td>\n",
       "      <td>-1</td>\n",
       "    </tr>\n",
       "    <tr>\n",
       "      <th>24</th>\n",
       "      <td>-1</td>\n",
       "      <td>-1</td>\n",
       "    </tr>\n",
       "    <tr>\n",
       "      <th>25</th>\n",
       "      <td>-1</td>\n",
       "      <td>-1</td>\n",
       "    </tr>\n",
       "    <tr>\n",
       "      <th>26</th>\n",
       "      <td>1</td>\n",
       "      <td>-1</td>\n",
       "    </tr>\n",
       "    <tr>\n",
       "      <th>27</th>\n",
       "      <td>-1</td>\n",
       "      <td>-1</td>\n",
       "    </tr>\n",
       "    <tr>\n",
       "      <th>28</th>\n",
       "      <td>1</td>\n",
       "      <td>-1</td>\n",
       "    </tr>\n",
       "    <tr>\n",
       "      <th>29</th>\n",
       "      <td>-1</td>\n",
       "      <td>-1</td>\n",
       "    </tr>\n",
       "    <tr>\n",
       "      <th>...</th>\n",
       "      <td>...</td>\n",
       "      <td>...</td>\n",
       "    </tr>\n",
       "    <tr>\n",
       "      <th>36</th>\n",
       "      <td>-1</td>\n",
       "      <td>1</td>\n",
       "    </tr>\n",
       "    <tr>\n",
       "      <th>37</th>\n",
       "      <td>1</td>\n",
       "      <td>-1</td>\n",
       "    </tr>\n",
       "    <tr>\n",
       "      <th>38</th>\n",
       "      <td>1</td>\n",
       "      <td>1</td>\n",
       "    </tr>\n",
       "    <tr>\n",
       "      <th>39</th>\n",
       "      <td>1</td>\n",
       "      <td>1</td>\n",
       "    </tr>\n",
       "    <tr>\n",
       "      <th>40</th>\n",
       "      <td>1</td>\n",
       "      <td>1</td>\n",
       "    </tr>\n",
       "    <tr>\n",
       "      <th>41</th>\n",
       "      <td>1</td>\n",
       "      <td>1</td>\n",
       "    </tr>\n",
       "    <tr>\n",
       "      <th>42</th>\n",
       "      <td>-1</td>\n",
       "      <td>1</td>\n",
       "    </tr>\n",
       "    <tr>\n",
       "      <th>43</th>\n",
       "      <td>1</td>\n",
       "      <td>1</td>\n",
       "    </tr>\n",
       "    <tr>\n",
       "      <th>44</th>\n",
       "      <td>-1</td>\n",
       "      <td>1</td>\n",
       "    </tr>\n",
       "    <tr>\n",
       "      <th>45</th>\n",
       "      <td>-1</td>\n",
       "      <td>1</td>\n",
       "    </tr>\n",
       "    <tr>\n",
       "      <th>46</th>\n",
       "      <td>-1</td>\n",
       "      <td>-1</td>\n",
       "    </tr>\n",
       "    <tr>\n",
       "      <th>47</th>\n",
       "      <td>-1</td>\n",
       "      <td>-1</td>\n",
       "    </tr>\n",
       "    <tr>\n",
       "      <th>48</th>\n",
       "      <td>-1</td>\n",
       "      <td>-1</td>\n",
       "    </tr>\n",
       "    <tr>\n",
       "      <th>49</th>\n",
       "      <td>-1</td>\n",
       "      <td>-1</td>\n",
       "    </tr>\n",
       "    <tr>\n",
       "      <th>50</th>\n",
       "      <td>1</td>\n",
       "      <td>-1</td>\n",
       "    </tr>\n",
       "    <tr>\n",
       "      <th>51</th>\n",
       "      <td>-1</td>\n",
       "      <td>-1</td>\n",
       "    </tr>\n",
       "    <tr>\n",
       "      <th>52</th>\n",
       "      <td>-1</td>\n",
       "      <td>-1</td>\n",
       "    </tr>\n",
       "    <tr>\n",
       "      <th>53</th>\n",
       "      <td>1</td>\n",
       "      <td>-1</td>\n",
       "    </tr>\n",
       "    <tr>\n",
       "      <th>54</th>\n",
       "      <td>-1</td>\n",
       "      <td>1</td>\n",
       "    </tr>\n",
       "    <tr>\n",
       "      <th>55</th>\n",
       "      <td>-1</td>\n",
       "      <td>1</td>\n",
       "    </tr>\n",
       "    <tr>\n",
       "      <th>56</th>\n",
       "      <td>1</td>\n",
       "      <td>-1</td>\n",
       "    </tr>\n",
       "    <tr>\n",
       "      <th>57</th>\n",
       "      <td>-1</td>\n",
       "      <td>-1</td>\n",
       "    </tr>\n",
       "    <tr>\n",
       "      <th>58</th>\n",
       "      <td>1</td>\n",
       "      <td>-1</td>\n",
       "    </tr>\n",
       "    <tr>\n",
       "      <th>59</th>\n",
       "      <td>-1</td>\n",
       "      <td>1</td>\n",
       "    </tr>\n",
       "    <tr>\n",
       "      <th>60</th>\n",
       "      <td>-1</td>\n",
       "      <td>-1</td>\n",
       "    </tr>\n",
       "    <tr>\n",
       "      <th>61</th>\n",
       "      <td>1</td>\n",
       "      <td>-1</td>\n",
       "    </tr>\n",
       "    <tr>\n",
       "      <th>62</th>\n",
       "      <td>-1</td>\n",
       "      <td>1</td>\n",
       "    </tr>\n",
       "    <tr>\n",
       "      <th>63</th>\n",
       "      <td>1</td>\n",
       "      <td>-1</td>\n",
       "    </tr>\n",
       "    <tr>\n",
       "      <th>64</th>\n",
       "      <td>1</td>\n",
       "      <td>-1</td>\n",
       "    </tr>\n",
       "    <tr>\n",
       "      <th>65</th>\n",
       "      <td>-1</td>\n",
       "      <td>1</td>\n",
       "    </tr>\n",
       "  </tbody>\n",
       "</table>\n",
       "<p>66 rows × 2 columns</p>\n",
       "</div>"
      ],
      "text/plain": [
       "    0  0\n",
       "0  -1 -1\n",
       "1   1 -1\n",
       "2  -1  1\n",
       "3   1  1\n",
       "4   1  1\n",
       "5   1  1\n",
       "6  -1  1\n",
       "7  -1  1\n",
       "8   1  1\n",
       "9  -1  1\n",
       "10 -1 -1\n",
       "11 -1 -1\n",
       "12 -1 -1\n",
       "13  1 -1\n",
       "14 -1 -1\n",
       "15  1 -1\n",
       "16  1 -1\n",
       "17  1 -1\n",
       "18  1  1\n",
       "19 -1  1\n",
       "20  1  1\n",
       "21 -1  1\n",
       "22 -1  1\n",
       "23 -1 -1\n",
       "24 -1 -1\n",
       "25 -1 -1\n",
       "26  1 -1\n",
       "27 -1 -1\n",
       "28  1 -1\n",
       "29 -1 -1\n",
       ".. .. ..\n",
       "36 -1  1\n",
       "37  1 -1\n",
       "38  1  1\n",
       "39  1  1\n",
       "40  1  1\n",
       "41  1  1\n",
       "42 -1  1\n",
       "43  1  1\n",
       "44 -1  1\n",
       "45 -1  1\n",
       "46 -1 -1\n",
       "47 -1 -1\n",
       "48 -1 -1\n",
       "49 -1 -1\n",
       "50  1 -1\n",
       "51 -1 -1\n",
       "52 -1 -1\n",
       "53  1 -1\n",
       "54 -1  1\n",
       "55 -1  1\n",
       "56  1 -1\n",
       "57 -1 -1\n",
       "58  1 -1\n",
       "59 -1  1\n",
       "60 -1 -1\n",
       "61  1 -1\n",
       "62 -1  1\n",
       "63  1 -1\n",
       "64  1 -1\n",
       "65 -1  1\n",
       "\n",
       "[66 rows x 2 columns]"
      ]
     },
     "execution_count": 321,
     "metadata": {
      "tags": []
     },
     "output_type": "execute_result"
    }
   ],
   "source": [
    "real_df = pd.DataFrame(real_stock_price_trend)\n",
    "pred_df = pd.DataFrame(predicted_stock_price_trend)\n",
    "acc_df = pd.concat((real_df[0],pred_df[0]), axis=1)\n",
    "acc_df.head(100)"
   ]
  },
  {
   "cell_type": "code",
   "execution_count": 322,
   "metadata": {
    "colab": {
     "base_uri": "https://localhost:8080/",
     "height": 35
    },
    "colab_type": "code",
    "id": "Tg-WiVNFvwsS",
    "outputId": "4b91401f-4f8a-433f-b5fc-f1c0f5064fb2"
   },
   "outputs": [
    {
     "name": "stdout",
     "output_type": "stream",
     "text": [
      "0.48484848484848486\n"
     ]
    }
   ],
   "source": [
    "from sklearn.metrics import accuracy_score\n",
    "score = accuracy_score(real_stock_price_trend, predicted_stock_price_trend)\n",
    "print(score)"
   ]
  },
  {
   "cell_type": "code",
   "execution_count": 323,
   "metadata": {
    "colab": {
     "base_uri": "https://localhost:8080/",
     "height": 139
    },
    "colab_type": "code",
    "id": "m5hB6W0Tvzbi",
    "outputId": "4fe396bf-f5dc-4030-c18f-1447d73b8abd"
   },
   "outputs": [
    {
     "name": "stdout",
     "output_type": "stream",
     "text": [
      "             precision    recall  f1-score   support\n",
      "\n",
      "         -1       0.53      0.56      0.54        36\n",
      "          1       0.43      0.40      0.41        30\n",
      "\n",
      "avg / total       0.48      0.48      0.48        66\n",
      "\n"
     ]
    }
   ],
   "source": [
    "from sklearn.metrics import classification_report\n",
    "print(classification_report(real_stock_price_trend, predicted_stock_price_trend))"
   ]
  },
  {
   "cell_type": "code",
   "execution_count": 324,
   "metadata": {
    "colab": {
     "base_uri": "https://localhost:8080/",
     "height": 35
    },
    "colab_type": "code",
    "id": "hn0-2hiKQUWS",
    "outputId": "e5e5bd34-54d3-4f28-937a-90f7c94315e2"
   },
   "outputs": [
    {
     "data": {
      "text/plain": [
       "0.4137931034482759"
      ]
     },
     "execution_count": 324,
     "metadata": {
      "tags": []
     },
     "output_type": "execute_result"
    }
   ],
   "source": [
    "from sklearn.metrics import f1_score\n",
    "f1_score(real_stock_price_trend, predicted_stock_price_trend)"
   ]
  },
  {
   "cell_type": "code",
   "execution_count": 325,
   "metadata": {
    "colab": {
     "base_uri": "https://localhost:8080/",
     "height": 3519
    },
    "colab_type": "code",
    "id": "pQJx2kuEBAnF",
    "outputId": "a493598a-9ea1-447b-a419-cc64d4522978"
   },
   "outputs": [
    {
     "name": "stdout",
     "output_type": "stream",
     "text": [
      "epochs used 40\n",
      "Epoch 1/40\n",
      "1345/1345 [==============================] - 29s 21ms/step - loss: 0.2013\n",
      "Epoch 2/40\n",
      "1345/1345 [==============================] - 5s 4ms/step - loss: 0.1584\n",
      "Epoch 3/40\n",
      "1345/1345 [==============================] - 5s 4ms/step - loss: 0.0544\n",
      "Epoch 4/40\n",
      "1345/1345 [==============================] - 5s 4ms/step - loss: 0.0530\n",
      "Epoch 5/40\n",
      "1345/1345 [==============================] - 5s 4ms/step - loss: 0.0367\n",
      "Epoch 6/40\n",
      "1345/1345 [==============================] - 5s 4ms/step - loss: 0.0242\n",
      "Epoch 7/40\n",
      "1345/1345 [==============================] - 5s 4ms/step - loss: 0.0163\n",
      "Epoch 8/40\n",
      "1345/1345 [==============================] - 5s 4ms/step - loss: 0.0117\n",
      "Epoch 9/40\n",
      "1345/1345 [==============================] - 5s 4ms/step - loss: 0.0093\n",
      "Epoch 10/40\n",
      "1345/1345 [==============================] - 5s 4ms/step - loss: 0.0076\n",
      "Epoch 11/40\n",
      "1345/1345 [==============================] - 5s 4ms/step - loss: 0.0062\n",
      "Epoch 12/40\n",
      "1345/1345 [==============================] - 5s 4ms/step - loss: 0.0054\n",
      "Epoch 13/40\n",
      "1345/1345 [==============================] - 5s 4ms/step - loss: 0.0048\n",
      "Epoch 14/40\n",
      "1345/1345 [==============================] - 5s 4ms/step - loss: 0.0045\n",
      "Epoch 15/40\n",
      "1345/1345 [==============================] - 5s 4ms/step - loss: 0.0041\n",
      "Epoch 16/40\n",
      "1345/1345 [==============================] - 5s 4ms/step - loss: 0.0039\n",
      "Epoch 17/40\n",
      "1345/1345 [==============================] - 5s 4ms/step - loss: 0.0036\n",
      "Epoch 18/40\n",
      "1345/1345 [==============================] - 5s 4ms/step - loss: 0.0036\n",
      "Epoch 19/40\n",
      "1345/1345 [==============================] - 5s 4ms/step - loss: 0.0034\n",
      "Epoch 20/40\n",
      "1345/1345 [==============================] - 5s 4ms/step - loss: 0.0032\n",
      "Epoch 21/40\n",
      "1345/1345 [==============================] - 5s 4ms/step - loss: 0.0031\n",
      "Epoch 22/40\n",
      "1345/1345 [==============================] - 5s 4ms/step - loss: 0.0032\n",
      "Epoch 23/40\n",
      "1345/1345 [==============================] - 5s 4ms/step - loss: 0.0030\n",
      "Epoch 24/40\n",
      "1345/1345 [==============================] - 5s 4ms/step - loss: 0.0028\n",
      "Epoch 25/40\n",
      "1345/1345 [==============================] - 5s 4ms/step - loss: 0.0026\n",
      "Epoch 26/40\n",
      "1345/1345 [==============================] - 5s 4ms/step - loss: 0.0026\n",
      "Epoch 27/40\n",
      "1345/1345 [==============================] - 5s 4ms/step - loss: 0.0026\n",
      "Epoch 28/40\n",
      "1345/1345 [==============================] - 5s 4ms/step - loss: 0.0026\n",
      "Epoch 29/40\n",
      "1345/1345 [==============================] - 5s 4ms/step - loss: 0.0025\n",
      "Epoch 30/40\n",
      "1345/1345 [==============================] - 5s 4ms/step - loss: 0.0027\n",
      "Epoch 31/40\n",
      "1345/1345 [==============================] - 5s 4ms/step - loss: 0.0027\n",
      "Epoch 32/40\n",
      "1345/1345 [==============================] - 5s 4ms/step - loss: 0.0028\n",
      "Epoch 33/40\n",
      "1345/1345 [==============================] - 5s 4ms/step - loss: 0.0027\n",
      "Epoch 34/40\n",
      "1345/1345 [==============================] - 5s 4ms/step - loss: 0.0026\n",
      "Epoch 35/40\n",
      "1345/1345 [==============================] - 5s 4ms/step - loss: 0.0025\n",
      "Epoch 36/40\n",
      "1345/1345 [==============================] - 5s 4ms/step - loss: 0.0024\n",
      "Epoch 37/40\n",
      "1345/1345 [==============================] - 5s 4ms/step - loss: 0.0024\n",
      "Epoch 38/40\n",
      "1345/1345 [==============================] - 5s 4ms/step - loss: 0.0023\n",
      "Epoch 39/40\n",
      "1345/1345 [==============================] - 5s 4ms/step - loss: 0.0024\n",
      "Epoch 40/40\n",
      "1345/1345 [==============================] - 5s 4ms/step - loss: 0.0024\n",
      "epochs used 60\n",
      "Epoch 1/60\n",
      "1345/1345 [==============================] - 30s 22ms/step - loss: 0.2019\n",
      "Epoch 2/60\n",
      "1345/1345 [==============================] - 5s 4ms/step - loss: 0.1662\n",
      "Epoch 3/60\n",
      "1345/1345 [==============================] - 5s 4ms/step - loss: 0.0651\n",
      "Epoch 4/60\n",
      "1345/1345 [==============================] - 5s 4ms/step - loss: 0.0553\n",
      "Epoch 5/60\n",
      "1345/1345 [==============================] - 5s 4ms/step - loss: 0.0404\n",
      "Epoch 6/60\n",
      "1345/1345 [==============================] - 5s 4ms/step - loss: 0.0314\n",
      "Epoch 7/60\n",
      "1345/1345 [==============================] - 5s 4ms/step - loss: 0.0184\n",
      "Epoch 8/60\n",
      "1345/1345 [==============================] - 5s 4ms/step - loss: 0.0121\n",
      "Epoch 9/60\n",
      "1345/1345 [==============================] - 5s 4ms/step - loss: 0.0093\n",
      "Epoch 10/60\n",
      "1345/1345 [==============================] - 5s 4ms/step - loss: 0.0077\n",
      "Epoch 11/60\n",
      "1345/1345 [==============================] - 5s 4ms/step - loss: 0.0069\n",
      "Epoch 12/60\n",
      "1345/1345 [==============================] - 5s 4ms/step - loss: 0.0055\n",
      "Epoch 13/60\n",
      "1345/1345 [==============================] - 5s 4ms/step - loss: 0.0049\n",
      "Epoch 14/60\n",
      "1345/1345 [==============================] - 5s 4ms/step - loss: 0.0045\n",
      "Epoch 15/60\n",
      "1345/1345 [==============================] - 5s 4ms/step - loss: 0.0038\n",
      "Epoch 16/60\n",
      "1345/1345 [==============================] - 5s 4ms/step - loss: 0.0040\n",
      "Epoch 17/60\n",
      "1345/1345 [==============================] - 5s 4ms/step - loss: 0.0038\n",
      "Epoch 18/60\n",
      "1345/1345 [==============================] - 5s 4ms/step - loss: 0.0035\n",
      "Epoch 19/60\n",
      "1345/1345 [==============================] - 5s 4ms/step - loss: 0.0033\n",
      "Epoch 20/60\n",
      "1345/1345 [==============================] - 5s 4ms/step - loss: 0.0029\n",
      "Epoch 21/60\n",
      "1345/1345 [==============================] - 5s 4ms/step - loss: 0.0028\n",
      "Epoch 22/60\n",
      "1345/1345 [==============================] - 5s 4ms/step - loss: 0.0028\n",
      "Epoch 23/60\n",
      "1345/1345 [==============================] - 5s 4ms/step - loss: 0.0027\n",
      "Epoch 24/60\n",
      "1345/1345 [==============================] - 5s 4ms/step - loss: 0.0026\n",
      "Epoch 25/60\n",
      "1345/1345 [==============================] - 5s 4ms/step - loss: 0.0025\n",
      "Epoch 26/60\n",
      "1345/1345 [==============================] - 5s 4ms/step - loss: 0.0026\n",
      "Epoch 27/60\n",
      "1345/1345 [==============================] - 5s 4ms/step - loss: 0.0026\n",
      "Epoch 28/60\n",
      "1345/1345 [==============================] - 5s 4ms/step - loss: 0.0027\n",
      "Epoch 29/60\n",
      "1345/1345 [==============================] - 5s 4ms/step - loss: 0.0025\n",
      "Epoch 30/60\n",
      "1345/1345 [==============================] - 5s 4ms/step - loss: 0.0025\n",
      "Epoch 31/60\n",
      "1345/1345 [==============================] - 5s 4ms/step - loss: 0.0023\n",
      "Epoch 32/60\n",
      "1345/1345 [==============================] - 5s 4ms/step - loss: 0.0023\n",
      "Epoch 33/60\n",
      "1345/1345 [==============================] - 5s 4ms/step - loss: 0.0023\n",
      "Epoch 34/60\n",
      "1345/1345 [==============================] - 5s 4ms/step - loss: 0.0026\n",
      "Epoch 35/60\n",
      "1345/1345 [==============================] - 5s 4ms/step - loss: 0.0024\n",
      "Epoch 36/60\n",
      "1345/1345 [==============================] - 5s 4ms/step - loss: 0.0022\n",
      "Epoch 37/60\n",
      "1345/1345 [==============================] - 5s 4ms/step - loss: 0.0023\n",
      "Epoch 38/60\n",
      "1345/1345 [==============================] - 5s 4ms/step - loss: 0.0022\n",
      "Epoch 39/60\n",
      "1345/1345 [==============================] - 5s 4ms/step - loss: 0.0021\n",
      "Epoch 40/60\n",
      "1345/1345 [==============================] - 5s 4ms/step - loss: 0.0021\n",
      "Epoch 41/60\n",
      "1345/1345 [==============================] - 5s 4ms/step - loss: 0.0020\n",
      "Epoch 42/60\n",
      "1345/1345 [==============================] - 5s 4ms/step - loss: 0.0020\n",
      "Epoch 43/60\n",
      "1345/1345 [==============================] - 5s 4ms/step - loss: 0.0019\n",
      "Epoch 44/60\n",
      "1345/1345 [==============================] - 5s 4ms/step - loss: 0.0020\n",
      "Epoch 45/60\n",
      "1345/1345 [==============================] - 5s 4ms/step - loss: 0.0020\n",
      "Epoch 46/60\n",
      "1345/1345 [==============================] - 5s 4ms/step - loss: 0.0019\n",
      "Epoch 47/60\n",
      "1345/1345 [==============================] - 5s 4ms/step - loss: 0.0020\n",
      "Epoch 48/60\n",
      "1345/1345 [==============================] - 5s 4ms/step - loss: 0.0020\n",
      "Epoch 49/60\n",
      "1345/1345 [==============================] - 5s 4ms/step - loss: 0.0020\n",
      "Epoch 50/60\n",
      "1345/1345 [==============================] - 5s 4ms/step - loss: 0.0021\n",
      "Epoch 51/60\n",
      "1345/1345 [==============================] - 5s 4ms/step - loss: 0.0020\n",
      "Epoch 52/60\n",
      "1345/1345 [==============================] - 5s 4ms/step - loss: 0.0021\n",
      "Epoch 53/60\n",
      "1345/1345 [==============================] - 5s 4ms/step - loss: 0.0020\n",
      "Epoch 54/60\n",
      "1345/1345 [==============================] - 5s 4ms/step - loss: 0.0022\n",
      "Epoch 55/60\n",
      "1345/1345 [==============================] - 5s 4ms/step - loss: 0.0022\n",
      "Epoch 56/60\n",
      "1345/1345 [==============================] - 5s 4ms/step - loss: 0.0022\n",
      "Epoch 57/60\n",
      "1345/1345 [==============================] - 5s 4ms/step - loss: 0.0019\n",
      "Epoch 58/60\n",
      "1345/1345 [==============================] - 5s 4ms/step - loss: 0.0019\n",
      "Epoch 59/60\n",
      "1345/1345 [==============================] - 5s 4ms/step - loss: 0.0018\n",
      "Epoch 60/60\n",
      "1345/1345 [==============================] - 5s 4ms/step - loss: 0.0020\n"
     ]
    }
   ],
   "source": [
    "epochs = [40,60]\n",
    "rmse = []\n",
    "for e in epochs:\n",
    "  print('epochs used '+ str(e))\n",
    "  regressor1 = Sequential()\n",
    "  regressor1.add(Bidirectional(LSTM(units = 50, return_sequences = True,input_shape = (X_train.shape[1], 1))))\n",
    "  regressor1.add(Dropout(0.2))\n",
    "  regressor1.add(Bidirectional(LSTM(units = 50, return_sequences = True)))\n",
    "  regressor1.add(Dropout(0.2))\n",
    "  regressor1.add(Bidirectional(LSTM(units = 50)))\n",
    "  regressor1.add(Dropout(0.2))\n",
    "  regressor1.add(Dense(32,kernel_initializer=\"uniform\",activation='relu'))\n",
    "  regressor1.add(Dense(1,kernel_initializer=\"uniform\",activation='linear'))\n",
    "  regressor1.compile(optimizer = 'adam', loss = 'mean_squared_error')\n",
    "  regressor1.fit(X_train, y_train, epochs = e, batch_size = 256)\n",
    "  predicted_stock_price1 =sc.inverse_transform(regressor1.predict(X_test))\n",
    "  rms = np.sqrt(metrics.mean_squared_error(real_stock_price,predicted_stock_price1[0:67]))\n",
    "  rmse.append(rms)"
   ]
  },
  {
   "cell_type": "code",
   "execution_count": 327,
   "metadata": {
    "colab": {
     "base_uri": "https://localhost:8080/",
     "height": 35
    },
    "colab_type": "code",
    "id": "VhyADXpxlH84",
    "outputId": "e142cbd2-4851-4561-8119-f1be2ce7105e"
   },
   "outputs": [
    {
     "data": {
      "text/plain": [
       "[44.41899955051832, 44.13646834533265]"
      ]
     },
     "execution_count": 327,
     "metadata": {
      "tags": []
     },
     "output_type": "execute_result"
    }
   ],
   "source": [
    "rmse"
   ]
  },
  {
   "cell_type": "code",
   "execution_count": 0,
   "metadata": {
    "colab": {},
    "colab_type": "code",
    "id": "Q0KFeVX2nz3t"
   },
   "outputs": [],
   "source": []
  },
  {
   "cell_type": "code",
   "execution_count": 0,
   "metadata": {
    "colab": {},
    "colab_type": "code",
    "id": "wKr-NHnNpbJl"
   },
   "outputs": [],
   "source": []
  }
 ],
 "metadata": {
  "accelerator": "GPU",
  "colab": {
   "collapsed_sections": [],
   "name": "LSTM experiment_surya.ipynb",
   "provenance": [],
   "version": "0.3.2"
  },
  "kernelspec": {
   "display_name": "Python 3",
   "language": "python",
   "name": "python3"
  },
  "language_info": {
   "codemirror_mode": {
    "name": "ipython",
    "version": 3
   },
   "file_extension": ".py",
   "mimetype": "text/x-python",
   "name": "python",
   "nbconvert_exporter": "python",
   "pygments_lexer": "ipython3",
   "version": "3.7.1"
  }
 },
 "nbformat": 4,
 "nbformat_minor": 1
}
